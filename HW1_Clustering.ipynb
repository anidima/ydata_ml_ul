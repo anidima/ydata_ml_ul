{
  "cells": [
    {
      "cell_type": "markdown",
      "metadata": {
        "id": "af0F2kliMNjd"
      },
      "source": [
        "# Assignment: Unsupervised Machine Learning \\ Clustering"
      ]
    },
    {
      "cell_type": "markdown",
      "metadata": {
        "id": "twpn1HYtMNjj"
      },
      "source": [
        "## Part 1: Partitional Clustering"
      ]
    },
    {
      "cell_type": "markdown",
      "metadata": {
        "id": "2sHenrajMNjj"
      },
      "source": [
        "In this assignment you will experience with partitional & mixture model clustering. The analyses are made on real datasets under the circumstances of real life challenges in unsupervised machine learning."
      ]
    },
    {
      "cell_type": "code",
      "execution_count": 134,
      "metadata": {
        "id": "7mAcAayKMNjk"
      },
      "outputs": [],
      "source": [
        "import numpy as np\n",
        "\n",
        "from sklearn.cluster import KMeans\n",
        "from scipy.spatial.distance import squareform\n",
        "from scipy.stats.mstats import gmean\n",
        "from scipy.cluster import hierarchy\n",
        "import pandas as pd\n",
        "import matplotlib.pyplot as plt\n",
        "from mpl_toolkits.mplot3d import Axes3D\n",
        "%matplotlib inline"
      ]
    },
    {
      "cell_type": "markdown",
      "metadata": {
        "id": "9Zlv3ZV3MNjm"
      },
      "source": [
        "### Read blood test results as an EMR from an Excel file"
      ]
    },
    {
      "cell_type": "code",
      "execution_count": 6,
      "metadata": {
        "id": "EqedLWoyMNjn",
        "scrolled": true
      },
      "outputs": [
        {
          "data": {
            "text/html": [
              "<div>\n",
              "<style scoped>\n",
              "    .dataframe tbody tr th:only-of-type {\n",
              "        vertical-align: middle;\n",
              "    }\n",
              "\n",
              "    .dataframe tbody tr th {\n",
              "        vertical-align: top;\n",
              "    }\n",
              "\n",
              "    .dataframe thead th {\n",
              "        text-align: right;\n",
              "    }\n",
              "</style>\n",
              "<table border=\"1\" class=\"dataframe\">\n",
              "  <thead>\n",
              "    <tr style=\"text-align: right;\">\n",
              "      <th></th>\n",
              "      <th>Na</th>\n",
              "      <th>K</th>\n",
              "      <th>ALT</th>\n",
              "      <th>AST</th>\n",
              "      <th>WBC</th>\n",
              "      <th>RBC</th>\n",
              "      <th>Hgb</th>\n",
              "      <th>Hct</th>\n",
              "    </tr>\n",
              "    <tr>\n",
              "      <th>Key</th>\n",
              "      <th></th>\n",
              "      <th></th>\n",
              "      <th></th>\n",
              "      <th></th>\n",
              "      <th></th>\n",
              "      <th></th>\n",
              "      <th></th>\n",
              "      <th></th>\n",
              "    </tr>\n",
              "  </thead>\n",
              "  <tbody>\n",
              "    <tr>\n",
              "      <th>1</th>\n",
              "      <td>141</td>\n",
              "      <td>4.65</td>\n",
              "      <td>31.92</td>\n",
              "      <td>35.01</td>\n",
              "      <td>10.25</td>\n",
              "      <td>4.06</td>\n",
              "      <td>17.6</td>\n",
              "      <td>36.3</td>\n",
              "    </tr>\n",
              "    <tr>\n",
              "      <th>2</th>\n",
              "      <td>140</td>\n",
              "      <td>4.96</td>\n",
              "      <td>36.41</td>\n",
              "      <td>16.70</td>\n",
              "      <td>6.13</td>\n",
              "      <td>3.80</td>\n",
              "      <td>13.2</td>\n",
              "      <td>35.6</td>\n",
              "    </tr>\n",
              "    <tr>\n",
              "      <th>3</th>\n",
              "      <td>136</td>\n",
              "      <td>3.66</td>\n",
              "      <td>41.43</td>\n",
              "      <td>13.17</td>\n",
              "      <td>5.86</td>\n",
              "      <td>4.26</td>\n",
              "      <td>16.2</td>\n",
              "      <td>43.7</td>\n",
              "    </tr>\n",
              "    <tr>\n",
              "      <th>4</th>\n",
              "      <td>136</td>\n",
              "      <td>4.74</td>\n",
              "      <td>23.92</td>\n",
              "      <td>30.33</td>\n",
              "      <td>10.80</td>\n",
              "      <td>4.83</td>\n",
              "      <td>16.1</td>\n",
              "      <td>49.8</td>\n",
              "    </tr>\n",
              "    <tr>\n",
              "      <th>5</th>\n",
              "      <td>140</td>\n",
              "      <td>4.74</td>\n",
              "      <td>43.66</td>\n",
              "      <td>20.44</td>\n",
              "      <td>6.59</td>\n",
              "      <td>4.05</td>\n",
              "      <td>12.6</td>\n",
              "      <td>39.1</td>\n",
              "    </tr>\n",
              "    <tr>\n",
              "      <th>6</th>\n",
              "      <td>146</td>\n",
              "      <td>3.98</td>\n",
              "      <td>48.41</td>\n",
              "      <td>33.22</td>\n",
              "      <td>4.53</td>\n",
              "      <td>4.04</td>\n",
              "      <td>17.9</td>\n",
              "      <td>47.3</td>\n",
              "    </tr>\n",
              "    <tr>\n",
              "      <th>7</th>\n",
              "      <td>144</td>\n",
              "      <td>5.29</td>\n",
              "      <td>44.29</td>\n",
              "      <td>19.28</td>\n",
              "      <td>10.12</td>\n",
              "      <td>3.96</td>\n",
              "      <td>17.2</td>\n",
              "      <td>47.9</td>\n",
              "    </tr>\n",
              "    <tr>\n",
              "      <th>8</th>\n",
              "      <td>138</td>\n",
              "      <td>4.57</td>\n",
              "      <td>50.43</td>\n",
              "      <td>16.39</td>\n",
              "      <td>4.66</td>\n",
              "      <td>4.91</td>\n",
              "      <td>13.7</td>\n",
              "      <td>41.5</td>\n",
              "    </tr>\n",
              "    <tr>\n",
              "      <th>9</th>\n",
              "      <td>144</td>\n",
              "      <td>3.96</td>\n",
              "      <td>31.51</td>\n",
              "      <td>34.87</td>\n",
              "      <td>4.57</td>\n",
              "      <td>4.72</td>\n",
              "      <td>15.1</td>\n",
              "      <td>47.6</td>\n",
              "    </tr>\n",
              "    <tr>\n",
              "      <th>10</th>\n",
              "      <td>147</td>\n",
              "      <td>3.99</td>\n",
              "      <td>36.27</td>\n",
              "      <td>32.70</td>\n",
              "      <td>4.41</td>\n",
              "      <td>4.73</td>\n",
              "      <td>17.4</td>\n",
              "      <td>42.7</td>\n",
              "    </tr>\n",
              "  </tbody>\n",
              "</table>\n",
              "</div>"
            ],
            "text/plain": [
              "      Na     K    ALT    AST    WBC   RBC   Hgb   Hct\n",
              "Key                                                  \n",
              "1    141  4.65  31.92  35.01  10.25  4.06  17.6  36.3\n",
              "2    140  4.96  36.41  16.70   6.13  3.80  13.2  35.6\n",
              "3    136  3.66  41.43  13.17   5.86  4.26  16.2  43.7\n",
              "4    136  4.74  23.92  30.33  10.80  4.83  16.1  49.8\n",
              "5    140  4.74  43.66  20.44   6.59  4.05  12.6  39.1\n",
              "6    146  3.98  48.41  33.22   4.53  4.04  17.9  47.3\n",
              "7    144  5.29  44.29  19.28  10.12  3.96  17.2  47.9\n",
              "8    138  4.57  50.43  16.39   4.66  4.91  13.7  41.5\n",
              "9    144  3.96  31.51  34.87   4.57  4.72  15.1  47.6\n",
              "10   147  3.99  36.27  32.70   4.41  4.73  17.4  42.7"
            ]
          },
          "execution_count": 6,
          "metadata": {},
          "output_type": "execute_result"
        }
      ],
      "source": [
        "# Open the file\n",
        "xlsx = pd.ExcelFile('EMR-Blood.xlsx')\n",
        "\n",
        "# Get the first sheet as an object\n",
        "sheet1 = xlsx.parse(0)\n",
        "\n",
        "# Set the Key column as the index\n",
        "sheet1.set_index(\"Key\", inplace=True)\n",
        "\n",
        "# Show first 10 rows\n",
        "sheet1[:10]"
      ]
    },
    {
      "cell_type": "code",
      "execution_count": 19,
      "metadata": {},
      "outputs": [
        {
          "name": "stdout",
          "output_type": "stream",
          "text": [
            "[[136.     3.66  23.92  13.17   4.41   3.8   12.6   35.6 ]\n",
            " [147.     5.29  50.43  35.01  10.8    4.91  17.9   49.8 ]]\n",
            "[[138.24781535   4.89204551  24.75164274  20.45722934   8.44733368\n",
            "    4.73903774  12.91599479  38.16090294]\n",
            " [143.84280644   4.84017409  32.95591419  18.75077524   7.25072597\n",
            "    3.86608098  14.60448367  41.61214889]\n",
            " [146.16866753   4.5821605   32.93592553  26.65530494   9.84720832\n",
            "    3.89031899  12.95701966  46.91018347]]\n"
          ]
        }
      ],
      "source": [
        "df = sheet1[:10]\n",
        "k=3\n",
        "n=8\n",
        "minmax = np.vstack([df.min().values, df.max().values])\n",
        "print(minmax)\n",
        "centroids = np.random.uniform(low=minmax[0,:], high=minmax[1,:], size=(k, n))\n",
        "print(centroids)\n"
      ]
    },
    {
      "cell_type": "markdown",
      "metadata": {
        "id": "iLAVsFY2MNjo"
      },
      "source": [
        "### Blood Test Abbreviations\n",
        "- Na == Sodium\n",
        "- K == Potassium\n",
        "- ALT == Alanine transaminase\n",
        "- AST == Aspartate transaminase\n",
        "- WBC == White blood cells\n",
        "- RBC == Red blood cells\n",
        "- Hgb == Hemoglobin\n",
        "- Hct == Hematocrit"
      ]
    },
    {
      "cell_type": "markdown",
      "metadata": {
        "id": "pJ4i4VViMNjp"
      },
      "source": [
        "### Use K-Means to create clusters according to variables of uniform distribution"
      ]
    },
    {
      "cell_type": "code",
      "execution_count": 91,
      "metadata": {
        "id": "PIPo53csMNjq"
      },
      "outputs": [
        {
          "name": "stdout",
          "output_type": "stream",
          "text": [
            "[0 1 4 0 1 2 0 1 3 2 0 1 3 0 1 3 0 1 2 4 0 1 2 0 1 3 0 1 2 4 0 1 4 0 1 4 0\n",
            " 1 2 3 0 1 3 0 1 3 0 1 4 2 0 1 4 0 1 2 0 1 2 2 0 1 2 0 1 2 0 1 2 4 0 1 2 0\n",
            " 1 4 0 1 2 3 0 1 2 0 1 2 0 1 3 4 0 1 4 0 1 4 0 1 2 4]\n"
          ]
        }
      ],
      "source": [
        "# Retrieve the K, WBC and Hgb column values from the dataset to cluster\n",
        "variables1 = [\"K\",\"WBC\",\"Hgb\"]\n",
        "EMR3d1 = sheet1.loc[:, variables1].values\n",
        "\n",
        "# Run the K-Means algorithm, assuming the correct number of clusters is 5\n",
        "km_est = KMeans(5, n_init='auto')\n",
        "km_est.fit(EMR3d1)\n",
        "y_pred_KMeans1 = km_est.predict(EMR3d1)\n",
        "\n",
        "print(y_pred_KMeans1)"
      ]
    },
    {
      "cell_type": "markdown",
      "metadata": {
        "id": "l4CdRu9UMNjr"
      },
      "source": [
        "### Make a 3D chart"
      ]
    },
    {
      "cell_type": "code",
      "execution_count": 9,
      "metadata": {
        "id": "ZpmEci4yMNjr",
        "scrolled": true
      },
      "outputs": [
        {
          "data": {
            "image/png": "[encoded data removed]",
            "text/plain": [
              "<Figure size 640x480 with 1 Axes>"
            ]
          },
          "metadata": {},
          "output_type": "display_data"
        }
      ],
      "source": [
        "def make_chart (chart_data, y_pred, labels):\n",
        "    fig = plt.figure()\n",
        "    ax = fig.add_subplot(projection='3d')\n",
        "    ax.set_xlabel(labels[0])\n",
        "    ax.set_ylabel(labels[1])\n",
        "    ax.set_zlabel(labels[2])\n",
        "    ax.scatter(chart_data[:,0], chart_data[:,1], chart_data[:,2], c=y_pred)\n",
        "\n",
        "make_chart(EMR3d1, y_pred_KMeans1, variables1)"
      ]
    },
    {
      "cell_type": "markdown",
      "metadata": {
        "id": "ZQ-yAQ7jMNjs"
      },
      "source": [
        "## Task 1 (_max score - 50 points_)\n",
        "Implement  Lloyd's Algorithm for solving the K-Means problem, as shown in class.\n",
        "By examining the WCSS, choose a proper threshold to determine algorithm convergence.\n",
        "\n",
        "Check your algorithm on 'EMR-Blood.xlsx' dataset. Compare your results to the _sklearn_ version - what can affect any differences you might've got?"
      ]
    },
    {
      "cell_type": "code",
      "execution_count": 247,
      "metadata": {
        "id": "YIm9Hx6OMNjs"
      },
      "outputs": [],
      "source": [
        "# Add your code for task1 after this line, and keep it in this cell.\n",
        "\n",
        "# Implement K-Means (X being the data)\n",
        "class k_means:\n",
        "    def __init__(self, k):\n",
        "        self.k = k      \n",
        "        pass\n",
        "\n",
        "\n",
        "    def fit(self, X):\n",
        "\n",
        "        X = X.to_numpy()\n",
        "    \n",
        "        labels = []\n",
        "        delta = None\n",
        "\n",
        "        centroids = self.getCentroids(X, labels, k)\n",
        "\n",
        "        #print(X)\n",
        "        #print(X.shape)\n",
        "        #print(centroids[..., np.newaxis].T.shape)\n",
        "        #i = 0\n",
        "        \n",
        "        while True:\n",
        "            labels = self.getLabels(X, centroids)\n",
        "            centroids_new = self.getCentroids(X, labels, k)\n",
        "\n",
        "            #print(f'--------------------{i}')\n",
        "            #i += 1\n",
        "            #print(f'centroids = {centroids}')\n",
        "            #print(f'centroids_new = {centroids_new}')\n",
        "            #print(f'labels = {labels}')\n",
        "            \n",
        "            delta = centroids - centroids_new\n",
        "            centroids = centroids_new\n",
        "\n",
        "            if delta.sum() == 0:\n",
        "                break\n",
        "\n",
        "\n",
        "        print(f'labels = {labels}')\n",
        "        pass\n",
        "\n",
        "\n",
        "\n",
        "    def getLabels(self, X, centroids):\n",
        "\n",
        "        # Prepare for broadcasting\n",
        "        X_ = X[..., np.newaxis]\n",
        "        cent_ = centroids[..., np.newaxis].T\n",
        "\n",
        "        # Calculate pairwise Euclidean distances\n",
        "        distances = np.linalg.norm(X_ - cent_, axis=1)\n",
        "        #print(distances)\n",
        "\n",
        "        # Get nearest centroid for each point (labels due to nearest centroid)\n",
        "        labels = np.argsort(distances, axis=1)[:, 0]\n",
        "\n",
        "        return labels\n",
        "\n",
        "\n",
        "    def getCentroids(self, X, labels, k):\n",
        "\n",
        "        numFeatures = X.shape[1]\n",
        "\n",
        "        if len(labels) == 0:\n",
        "            # Initialize centroids randomly from space of features\n",
        "            features_space = np.vstack([X.min(axis=0), X.max(axis=0)])\n",
        "            centroids = np.random.uniform(low=features_space[0,:], high=features_space[1,:], size=(k, numFeatures))\n",
        "\n",
        "            #print(f'new centroids {centroids}')\n",
        "\n",
        "        else:\n",
        "            centroids = np.zeros((k,numFeatures))\n",
        "            for label in range(k):\n",
        "\n",
        "                points_wlabel = X[labels == label, :]\n",
        "                if len(points_wlabel) == 0:\n",
        "                    print('!!!!!!!!!!!!!!!!!!!!!!!!!!!!!!!!!!')\n",
        "                centroids[label] = points_wlabel.mean(axis=0)\n",
        "\n",
        "                #print(f'label = {label}')\n",
        "                #print(f'points_wlabel')\n",
        "                #print(f'cent = {centroids}')\n",
        "                \n",
        "        return centroids\n",
        "\n",
        "\n",
        "    def predict(self, X):\n",
        "\n",
        "\n",
        "\n",
        "        pass"
      ]
    },
    {
      "cell_type": "code",
      "execution_count": 252,
      "metadata": {},
      "outputs": [
        {
          "name": "stdout",
          "output_type": "stream",
          "text": [
            "labels = [0 1 1 0 2 2 2 2 0 0]\n"
          ]
        }
      ],
      "source": [
        "df = sheet1[:10]\n",
        "kmn = k_means(5)\n",
        "kmn.fit(df)"
      ]
    },
    {
      "cell_type": "code",
      "execution_count": 246,
      "metadata": {},
      "outputs": [
        {
          "data": {
            "text/plain": [
              "False"
            ]
          },
          "execution_count": 246,
          "metadata": {},
          "output_type": "execute_result"
        }
      ],
      "source": [
        "labels = []\n",
        "labels == Empty\n"
      ]
    },
    {
      "cell_type": "code",
      "execution_count": 135,
      "metadata": {},
      "outputs": [
        {
          "name": "stdout",
          "output_type": "stream",
          "text": [
            "Geometric Means:\n",
            "[[0.81375017 0.21359061 0.3977154 ]\n",
            " [0.08964396 0.83620088 0.59040667]\n",
            " [0.03705942 0.72125579 0.85092398]]\n"
          ]
        }
      ],
      "source": [
        "# Example data creation\n",
        "n = 5  # Number of rows\n",
        "k = 3  # Number of columns\n",
        "matrix = np.random.rand(n, k)\n",
        "labels = np.random.randint(0, k, n)\n",
        "\n",
        "# Initialize an array to store geometric means for each label\n",
        "geometric_means = np.zeros((k, k))\n",
        "\n",
        "# Calculate geometric mean for each label\n",
        "for label in range(k):\n",
        "    rows_with_label = matrix[labels == label, :]\n",
        "    \n",
        "    geometric_mean = gmean(rows_with_label, axis=0)\n",
        "    geometric_means[label, :] = geometric_mean\n",
        "\n",
        "print(\"Geometric Means:\")\n",
        "print(geometric_means)"
      ]
    },
    {
      "cell_type": "markdown",
      "metadata": {
        "id": "AdVvOuyyMNjt"
      },
      "source": [
        "## Task 2 (_max score - 30 points_)\n",
        "\n",
        "Humans can clearly spot 3 clusters, however, for machines it's much harder to \"learn\" that. In the above implementation, K-Means was given the value of 5 as K.\n",
        "Develop a **generic** mechanism for finding the most reasonable number of clusters by:\n",
        "1. Iterating K over a reasonable range, which should be derived from the number of points\n",
        "2. Choose a proper K based on the heuristics learned in class\n",
        "3. Showing the final clusters in a 3D chart (for your implementation of K-Means algorithm)"
      ]
    },
    {
      "cell_type": "code",
      "execution_count": null,
      "metadata": {
        "id": "boGlKlGaMNju"
      },
      "outputs": [],
      "source": [
        "# Add your code for task2 after this line, and keep it in this cell.\n",
        "\n",
        "\n"
      ]
    },
    {
      "cell_type": "markdown",
      "metadata": {
        "id": "xMqYlDh8MNju"
      },
      "source": [
        "### Silhouette analysis\n",
        "\n",
        "Use graphic visualization of the Silhouette score to support your above answer:"
      ]
    },
    {
      "cell_type": "code",
      "execution_count": null,
      "metadata": {
        "id": "qzaBLRmzMNjv"
      },
      "outputs": [],
      "source": [
        "# Add your code for the Sillhouette graphic analysis\n",
        "# You can use scikit-learn Sillhouette page as a reference\n",
        "\n",
        "from sklearn.metrics import silhouette_samples, silhouette_score\n",
        "\n",
        "def plot_Silhouette(X, y, num_clusters):\n",
        "    # YOUR CODE HERE\n",
        "    pass\n"
      ]
    },
    {
      "cell_type": "markdown",
      "metadata": {
        "id": "CBDSE5OkMNjv"
      },
      "source": [
        "#### From this section on - please use the sklearn's K-means"
      ]
    },
    {
      "cell_type": "markdown",
      "metadata": {
        "id": "s4jv4HZnMNjw"
      },
      "source": [
        "## Part 2: Mixture Models Clustering"
      ]
    },
    {
      "cell_type": "markdown",
      "metadata": {
        "id": "Hf7WQewHMNjw"
      },
      "source": [
        "### Use K-Means to create clusters according to variables of both uniform and Gaussian distributions"
      ]
    },
    {
      "cell_type": "code",
      "execution_count": null,
      "metadata": {
        "id": "sFQw0GkOMNjw"
      },
      "outputs": [],
      "source": [
        "# Retrieve the ALT, AST and RBC column values from the dataset to cluster\n",
        "variables2 = [\"AST\",\"ALT\",\"RBC\"]\n",
        "EMR3d2 = sheet1.loc[:, variables2].values\n",
        "\n",
        "# Run the K-Means algorithm\n",
        "# NOTICE, this time, we know that the correct number of clusters is 2\n",
        "y_pred_KMeans2 = # YOUR CODE HERE\n",
        "\n",
        "# Make a 3D chart\n",
        "make_chart(EMR3d2, y_pred_KMeans2, variables2)"
      ]
    },
    {
      "cell_type": "markdown",
      "metadata": {
        "id": "hWgNXyitMNjx"
      },
      "source": [
        "## Task 3 (_max score - 20 points_)\n",
        "Scientists have found that in this population of patients, RBC distribution is uniform, ALT distribution is a Gaussian and AST distribution is a mixture of two Gaussians. Clearly, even by giving K-Means the correct K, the algorithm got to the wrong conclusion. This separation is \"technically\" correct, but lacks some underlying understanding of the natural phenomena.\n",
        "\n",
        "What is the \"problem\" with this separation?"
      ]
    },
    {
      "cell_type": "code",
      "execution_count": null,
      "metadata": {
        "id": "wwaGIBkyMNjx"
      },
      "outputs": [],
      "source": [
        "# Your answer here\n"
      ]
    },
    {
      "cell_type": "markdown",
      "metadata": {
        "id": "DE6zWugnMNjx"
      },
      "source": [
        "In order to exploit the Gaussian characteristic of the AST\n",
        "1. Find the 2 componenets that comprise the AST feature by applying the GMM algorithm with the proper number of components.\n",
        "2. Assume that the clusters above are correct for the entire dataset (including the other features).\n",
        "3. Show the final clusters (of EMR3d2) in a 3D chart"
      ]
    },
    {
      "cell_type": "code",
      "execution_count": null,
      "metadata": {
        "id": "68-FpEHSMNjy"
      },
      "outputs": [],
      "source": [
        "# Add your code for task3 after this line, and keep it in this cell.\n",
        "\n",
        "\n"
      ]
    },
    {
      "cell_type": "markdown",
      "metadata": {
        "id": "lAupVEHfMNjy"
      },
      "source": [
        "What is the difference between the two clustering results above?\n",
        "\n",
        "Which one, given the domain knowledge provided to you, makes more sense?"
      ]
    },
    {
      "cell_type": "markdown",
      "metadata": {
        "id": "F_H3jnhqMNjy"
      },
      "source": [
        "\n",
        "\n",
        "\n",
        "# Good Luck!\n",
        "\n"
      ]
    }
  ],
  "metadata": {
    "colab": {
      "provenance": []
    },
    "kernelspec": {
      "display_name": "Python 3",
      "language": "python",
      "name": "python3"
    },
    "language_info": {
      "codemirror_mode": {
        "name": "ipython",
        "version": 3
      },
      "file_extension": ".py",
      "mimetype": "text/x-python",
      "name": "python",
      "nbconvert_exporter": "python",
      "pygments_lexer": "ipython3",
      "version": "3.11.7"
    }
  },
  "nbformat": 4,
  "nbformat_minor": 0
}
