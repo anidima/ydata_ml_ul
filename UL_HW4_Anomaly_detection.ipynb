{
 "cells": [
  {
   "cell_type": "markdown",
   "metadata": {},
   "source": [
    "# Anomaly Detection HW - (Un)supervised Learning\n",
    "#### Created by: Shaul Solomon\n",
    "\n",
    "In this homework, we will try to explore ways to explore a \"mostly\" unlabeled dataset *within* a larger problem space.\n",
    "\n",
    "### Motivation\n",
    "\n",
    "You are a new data scientist joining a DS team that has already been working on a classification problem for a few weeks.\n",
    "\n",
    "The dataset is coming from a field in which you have no background experience, and the other people on your team are worrisome of someone new joining their project.\n",
    "\n",
    "Here is what you know so far:\n",
    "1. The project is a classification problem to detect if a new instance belongs to one of 15 classes. However there is noise in the dataset and bad cases need to labeled and filtered out.\n",
    "2. The company found a dude on Fiverr who said he was a domain expert and would charge only 5 cents per label (though he would only accept it in Bitcoin). After the project was done, the DS team discovered there was noise in the labeling, but by that time, Mr. Fiverr skipped town, burnt his fingerprints, and apparently was starting a new EFT startup ([Jesus Toast NFT](https://opensea.io/assets/ethereum/0x495f947276749ce646f68ac8c248420045cb7b5e/29379836586482566762011168218144394594657388904534917765071502304442530660353))in the Bahamas.\n",
    "3. The company hired a Chilean startup to label the data, but it is very expensive and slow, and due to conflict in the region, the labeling has stopped. They have properly labeled all of the test data and around a quarter of the train dataset.\n",
    "4. Your DS Team spent a lot of work on the classification model, and don't want you to change anything at all.\n",
    "\n",
    "### Your Objective\n",
    "\n",
    "In this homework, you will try three different methods, supervised and unsupervised, to try and filter out noisy obs from the dataset, in order to improve the classification model (Evaluation Metric - weighted F1 score).\n",
    "\n",
    "You have been given clear instructions that you **can not**:\n",
    "1. Change the features in the dataset (no feature selection or feature engineering).\n",
    "2. Change anything w.r.t to the Classification model (RF Classifier) - not even the hyperparameters.\n",
    "\n",
    "Beyond the homework itself, try your hand to see how good you can get the model simply by filtering out noise (in a sandbox with all the noise filtered - the model can theoretically get up to a F1 score of 98%).\n",
    "\n",
    "Good Luck!"
   ]
  },
  {
   "cell_type": "markdown",
   "metadata": {},
   "source": [
    "### Imports"
   ]
  },
  {
   "cell_type": "code",
   "execution_count": 1,
   "metadata": {},
   "outputs": [],
   "source": [
    "import numpy as np\n",
    "import pandas as pd\n",
    "\n",
    "from sklearn.decomposition import PCA\n",
    "import seaborn as sns\n",
    "import matplotlib.pyplot as plt\n",
    "from sklearn.model_selection import train_test_split\n",
    "from sklearn.ensemble import RandomForestClassifier\n",
    "from sklearn.metrics import f1_score, accuracy_score\n",
    "from sklearn.preprocessing import StandardScaler, MinMaxScaler\n",
    "\n",
    "from sklearn.neighbors import LocalOutlierFactor\n",
    "from sklearn.ensemble import IsolationForest\n",
    "from collections import Counter\n",
    "from sklearn.cluster import KMeans, DBSCAN"
   ]
  },
  {
   "cell_type": "code",
   "execution_count": 2,
   "metadata": {},
   "outputs": [],
   "source": [
    "### Ignore all warnings - uncomment this out if you'd like not to see the warnings ###\n",
    "import warnings\n",
    "warnings.filterwarnings(action='ignore', category=UserWarning)\n",
    "warnings.simplefilter(action='ignore', category=FutureWarning)\n"
   ]
  },
  {
   "cell_type": "markdown",
   "metadata": {},
   "source": [
    "### Immutable Code"
   ]
  },
  {
   "cell_type": "code",
   "execution_count": 3,
   "metadata": {},
   "outputs": [],
   "source": [
    "#### Immutable Code\n",
    "class RFModel_544():\n",
    "    def __init__(self, train_data, test_data, label = 'Class') -> None:\n",
    "        self.model = None\n",
    "        self.label = label\n",
    "\n",
    "        self.train_data = train_data.sort_index().copy() \n",
    "        self.test_data = test_data.copy()\n",
    "\n",
    "        if 'Corrupted' in self.train_data.columns:\n",
    "            self.train_data = self.train_data.drop('Corrupted', axis=1)        \n",
    "\n",
    "    def fit(self):\n",
    "        y_train = self.train_data[self.label]\n",
    "        X_train = self.train_data.drop(self.label, axis=1)\n",
    "    \n",
    "        self.clf = RandomForestClassifier(random_state=44, n_estimators=5, max_depth=3)\n",
    "        self.clf.fit(X_train, y_train)\n",
    "        return self\n",
    "    \n",
    "    def predict(self):\n",
    "        X_test = self.test_data.drop(self.label, axis=1)\n",
    "        y_pred = self.clf.predict(X_test)\n",
    "        return y_pred\n",
    "    \n",
    "    def evaluate(self):\n",
    "        y_test = self.test_data[self.label].values\n",
    "        y_pred = self.predict()\n",
    "        f1 = f1_score(y_test, y_pred, average='weighted')\n",
    "        return f1"
   ]
  },
  {
   "cell_type": "code",
   "execution_count": 4,
   "metadata": {},
   "outputs": [],
   "source": [
    "def run_classification_544(train_data, test_data, label = 'Class', return_f1_score = False):\n",
    "    model = RFModel_544(train_data, test_data, label)\n",
    "    model.fit()\n",
    "    f1 = model.evaluate()\n",
    "    if return_f1_score:\n",
    "        return np.round(f1*100,2)\n",
    "    else:\n",
    "        print(f'F1 Score (weighted): {np.round(f1*100,2)}%')"
   ]
  },
  {
   "cell_type": "markdown",
   "metadata": {},
   "source": [
    "### Import Data"
   ]
  },
  {
   "cell_type": "code",
   "execution_count": 5,
   "metadata": {},
   "outputs": [],
   "source": [
    "train_data = pd.read_csv('ad_data/train_data.csv', index_col=0)\n",
    "test_data = pd.read_csv('ad_data/test_data.csv', index_col=0)"
   ]
  },
  {
   "cell_type": "code",
   "execution_count": 6,
   "metadata": {},
   "outputs": [
    {
     "data": {
      "text/html": [
       "<div>\n",
       "<style scoped>\n",
       "    .dataframe tbody tr th:only-of-type {\n",
       "        vertical-align: middle;\n",
       "    }\n",
       "\n",
       "    .dataframe tbody tr th {\n",
       "        vertical-align: top;\n",
       "    }\n",
       "\n",
       "    .dataframe thead th {\n",
       "        text-align: right;\n",
       "    }\n",
       "</style>\n",
       "<table border=\"1\" class=\"dataframe\">\n",
       "  <thead>\n",
       "    <tr style=\"text-align: right;\">\n",
       "      <th></th>\n",
       "      <th>Feature_1</th>\n",
       "      <th>Feature_2</th>\n",
       "      <th>Feature_3</th>\n",
       "      <th>Feature_4</th>\n",
       "      <th>Feature_5</th>\n",
       "      <th>Feature_6</th>\n",
       "      <th>Feature_7</th>\n",
       "      <th>Feature_8</th>\n",
       "      <th>Feature_9</th>\n",
       "      <th>Feature_10</th>\n",
       "      <th>...</th>\n",
       "      <th>Feature_18</th>\n",
       "      <th>Feature_19</th>\n",
       "      <th>Feature_20</th>\n",
       "      <th>Feature_21</th>\n",
       "      <th>Feature_22</th>\n",
       "      <th>Feature_23</th>\n",
       "      <th>Feature_24</th>\n",
       "      <th>Feature_25</th>\n",
       "      <th>Class</th>\n",
       "      <th>Corrupted</th>\n",
       "    </tr>\n",
       "  </thead>\n",
       "  <tbody>\n",
       "    <tr>\n",
       "      <th>0</th>\n",
       "      <td>-4.442740</td>\n",
       "      <td>3.509633</td>\n",
       "      <td>-2.595045</td>\n",
       "      <td>5.625753</td>\n",
       "      <td>5.241519</td>\n",
       "      <td>-3.391638</td>\n",
       "      <td>-0.161169</td>\n",
       "      <td>-2.479898</td>\n",
       "      <td>4.678951</td>\n",
       "      <td>-0.096087</td>\n",
       "      <td>...</td>\n",
       "      <td>-1.322623</td>\n",
       "      <td>4.709249</td>\n",
       "      <td>0.870410</td>\n",
       "      <td>1.292379</td>\n",
       "      <td>1.001019</td>\n",
       "      <td>2.828160</td>\n",
       "      <td>3.314469</td>\n",
       "      <td>-2.083216</td>\n",
       "      <td>8</td>\n",
       "      <td>NaN</td>\n",
       "    </tr>\n",
       "    <tr>\n",
       "      <th>1</th>\n",
       "      <td>-4.913701</td>\n",
       "      <td>-3.472922</td>\n",
       "      <td>-0.711968</td>\n",
       "      <td>3.605206</td>\n",
       "      <td>-2.977909</td>\n",
       "      <td>-2.479564</td>\n",
       "      <td>1.661866</td>\n",
       "      <td>5.808457</td>\n",
       "      <td>3.522298</td>\n",
       "      <td>-5.740412</td>\n",
       "      <td>...</td>\n",
       "      <td>-3.559130</td>\n",
       "      <td>5.701702</td>\n",
       "      <td>-6.776739</td>\n",
       "      <td>4.780978</td>\n",
       "      <td>0.958094</td>\n",
       "      <td>-2.798584</td>\n",
       "      <td>-1.367130</td>\n",
       "      <td>0.887345</td>\n",
       "      <td>9</td>\n",
       "      <td>NaN</td>\n",
       "    </tr>\n",
       "    <tr>\n",
       "      <th>2</th>\n",
       "      <td>0.745200</td>\n",
       "      <td>2.064658</td>\n",
       "      <td>1.635380</td>\n",
       "      <td>-2.599492</td>\n",
       "      <td>-5.820311</td>\n",
       "      <td>-5.141749</td>\n",
       "      <td>0.626823</td>\n",
       "      <td>-0.901922</td>\n",
       "      <td>3.417227</td>\n",
       "      <td>4.113865</td>\n",
       "      <td>...</td>\n",
       "      <td>4.756362</td>\n",
       "      <td>1.337834</td>\n",
       "      <td>3.691216</td>\n",
       "      <td>1.652381</td>\n",
       "      <td>-3.740889</td>\n",
       "      <td>-2.653817</td>\n",
       "      <td>-3.550755</td>\n",
       "      <td>-1.934451</td>\n",
       "      <td>1</td>\n",
       "      <td>NaN</td>\n",
       "    </tr>\n",
       "  </tbody>\n",
       "</table>\n",
       "<p>3 rows × 27 columns</p>\n",
       "</div>"
      ],
      "text/plain": [
       "   Feature_1  Feature_2  Feature_3  Feature_4  Feature_5  Feature_6  \\\n",
       "0  -4.442740   3.509633  -2.595045   5.625753   5.241519  -3.391638   \n",
       "1  -4.913701  -3.472922  -0.711968   3.605206  -2.977909  -2.479564   \n",
       "2   0.745200   2.064658   1.635380  -2.599492  -5.820311  -5.141749   \n",
       "\n",
       "   Feature_7  Feature_8  Feature_9  Feature_10  ...  Feature_18  Feature_19  \\\n",
       "0  -0.161169  -2.479898   4.678951   -0.096087  ...   -1.322623    4.709249   \n",
       "1   1.661866   5.808457   3.522298   -5.740412  ...   -3.559130    5.701702   \n",
       "2   0.626823  -0.901922   3.417227    4.113865  ...    4.756362    1.337834   \n",
       "\n",
       "   Feature_20  Feature_21  Feature_22  Feature_23  Feature_24  Feature_25  \\\n",
       "0    0.870410    1.292379    1.001019    2.828160    3.314469   -2.083216   \n",
       "1   -6.776739    4.780978    0.958094   -2.798584   -1.367130    0.887345   \n",
       "2    3.691216    1.652381   -3.740889   -2.653817   -3.550755   -1.934451   \n",
       "\n",
       "   Class  Corrupted  \n",
       "0      8        NaN  \n",
       "1      9        NaN  \n",
       "2      1        NaN  \n",
       "\n",
       "[3 rows x 27 columns]"
      ]
     },
     "execution_count": 6,
     "metadata": {},
     "output_type": "execute_result"
    }
   ],
   "source": [
    "train_data.head(3)"
   ]
  },
  {
   "cell_type": "markdown",
   "metadata": {},
   "source": [
    "### Step 0 - Establish Baseline"
   ]
  },
  {
   "cell_type": "code",
   "execution_count": 7,
   "metadata": {},
   "outputs": [
    {
     "name": "stdout",
     "output_type": "stream",
     "text": [
      "F1 Score (weighted): 88.3%\n"
     ]
    }
   ],
   "source": [
    "run_classification_544(train_data, test_data, label='Class')"
   ]
  },
  {
   "cell_type": "markdown",
   "metadata": {},
   "source": [
    "### Step 1 - EDA\n",
    "\n",
    "There are two questions here just to make sure you understand the particulars of this dataset, but we recommend you do as much EDA as you want/need."
   ]
  },
  {
   "cell_type": "markdown",
   "metadata": {},
   "source": [
    "#### Q1.1 (2 points):\n",
    "First, visualise the distribution of labels within train/test set.\n",
    "1. Are there imbalances?\n",
    "2. Are there any labels that don't exist within the test set?"
   ]
  },
  {
   "cell_type": "code",
   "execution_count": 8,
   "metadata": {},
   "outputs": [
    {
     "data": {
      "image/png": "[encoded data removed]",
      "text/plain": [
       "<Figure size 1000x500 with 1 Axes>"
      ]
     },
     "metadata": {},
     "output_type": "display_data"
    }
   ],
   "source": [
    "plt.figure(figsize=(10,5))\n",
    "\n",
    "plt.bar(train_data['Class'].unique(), train_data['Class'].value_counts()/ train_data['Class'].count(), \\\n",
    "    align='edge', width=0.4, label='Train')\n",
    "plt.bar(test_data['Class'].unique(), test_data['Class'].value_counts()/ test_data['Class'].count(), \\\n",
    "    align='edge', width=-0.4, label='Test')\n",
    "\n",
    "plt.legend()\n",
    "plt.xticks(train_data['Class'].unique())\n",
    "plt.xlabel('Class')\n",
    "plt.title(\"Distribution of classes within train/test set\")\n",
    "plt.show()"
   ]
  },
  {
   "cell_type": "markdown",
   "metadata": {},
   "source": [
    "1. Classes aren't represented equally in the train and the test data set, but the imbalance doesn't seem crucial.\n",
    "2. All classes which are existed in the train data set are represented in the test data set."
   ]
  },
  {
   "cell_type": "code",
   "execution_count": 9,
   "metadata": {},
   "outputs": [
    {
     "data": {
      "image/png": "[encoded data removed]",
      "text/plain": [
       "<Figure size 1000x2000 with 30 Axes>"
      ]
     },
     "metadata": {},
     "output_type": "display_data"
    },
    {
     "data": {
      "text/plain": [
       "<Figure size 640x480 with 0 Axes>"
      ]
     },
     "metadata": {},
     "output_type": "display_data"
    }
   ],
   "source": [
    "# Also look at distribution of each feature\n",
    "train_data.hist(figsize=(10, 20), bins=30, xlabelsize=8, ylabelsize=8)\n",
    "sns.set_theme()\n",
    "plt.figure()\n",
    "plt.show()"
   ]
  },
  {
   "cell_type": "markdown",
   "metadata": {},
   "source": [
    "#### Q1.2 (2 points):\n",
    "Look at the labeled data within the train set:\n",
    "1. What percentage of the data has labels?\n",
    "2. How is it divided between classes?"
   ]
  },
  {
   "cell_type": "code",
   "execution_count": 10,
   "metadata": {},
   "outputs": [
    {
     "name": "stdout",
     "output_type": "stream",
     "text": [
      "Percentage of labeled data = 25.02% \n",
      "\n"
     ]
    },
    {
     "data": {
      "image/png": "[encoded data removed]",
      "text/plain": [
       "<Figure size 600x400 with 1 Axes>"
      ]
     },
     "metadata": {},
     "output_type": "display_data"
    },
    {
     "name": "stdout",
     "output_type": "stream",
     "text": [
      "The maximum labeled values appears in 6 class and constitutes 33.73%\n",
      "The minimum labeled values appears in 4 class and constitutes 18.37%\n"
     ]
    }
   ],
   "source": [
    "### Insert Code Here\n",
    "labeled_train_data = train_data.dropna()\n",
    "perc_labels = len(labeled_train_data)/len(train_data)\n",
    "print('Percentage of labeled data = {:.2%} \\n'.format(perc_labels))\n",
    "#sns.histplot(data=train_data['Class'], stat='percent', bins=15, discrete=True, shrink=.8)\n",
    "#sns.histplot(data=test_data['Class'], stat='percent', bins=15, discrete=True, shrink=.8)\n",
    "\n",
    "\n",
    "# How it divided between classes?\n",
    "lb_class = train_data[~train_data['Corrupted'].isna()].groupby('Class')['Class'].count() / train_data.groupby('Class')['Class'].count()\n",
    "\n",
    "plt.figure(figsize=(6,4))\n",
    "\n",
    "plt.bar(train_data['Class'].unique(), lb_class)\n",
    "\n",
    "plt.xticks(train_data['Class'].unique())\n",
    "plt.xlabel('Class')\n",
    "plt.title(\"Distribution of Labeled Data Across Classes\")\n",
    "plt.show()\n",
    "\n",
    "print(f'The maximum labeled values appears in {np.argmax(lb_class)} class and constitutes {lb_class.max():.2%}')\n",
    "print(f'The minimum labeled values appears in {np.argmin(lb_class)} class and constitutes {lb_class.min():.2%}')"
   ]
  },
  {
   "cell_type": "code",
   "execution_count": 11,
   "metadata": {},
   "outputs": [
    {
     "data": {
      "image/png": "[encoded data removed]",
      "text/plain": [
       "<Figure size 640x480 with 1 Axes>"
      ]
     },
     "metadata": {},
     "output_type": "display_data"
    },
    {
     "name": "stdout",
     "output_type": "stream",
     "text": [
      "The ratio of the corrupted labels among the all labels:     0.39\n"
     ]
    }
   ],
   "source": [
    "cor_labeled_train_data = labeled_train_data.groupby(['Class', 'Corrupted']).size().reset_index(name='Count')\n",
    "cor_labeled_train_data['Class'] = cor_labeled_train_data['Class'].astype(str)\n",
    "cor_labeled_train_data['Corrupted'] = cor_labeled_train_data['Corrupted'].astype(str)\n",
    "\n",
    "sns.barplot(data=cor_labeled_train_data, x='Class', y='Count', hue='Corrupted')\n",
    "\n",
    "plt.title('Distribution of Corrupted across Classses')\n",
    "plt.show()\n",
    "\n",
    "print(f\"\"\"The ratio of the corrupted labels among the all labels: \\\n",
    "    {(len(train_data[train_data['Corrupted']==1]) / len(train_data[~train_data['Corrupted'].isna()])):.2f}\"\"\")\n"
   ]
  },
  {
   "cell_type": "code",
   "execution_count": 12,
   "metadata": {},
   "outputs": [
    {
     "data": {
      "image/png": "[encoded data removed]",
      "text/plain": [
       "<Figure size 600x400 with 1 Axes>"
      ]
     },
     "metadata": {},
     "output_type": "display_data"
    },
    {
     "name": "stdout",
     "output_type": "stream",
     "text": [
      "The maximum labeled values appears in 2 class and constitutes 51.72%\n",
      "The minimum labeled values appears in 12 class and constitutes 16.67%\n"
     ]
    }
   ],
   "source": [
    "# How it divided between classes?\n",
    "lb_class = train_data[train_data['Corrupted']==1].groupby('Class')['Class'].count() / train_data[~train_data['Corrupted'].isna()].groupby('Class')['Class'].count()\n",
    "\n",
    "plt.figure(figsize=(6,4))\n",
    "\n",
    "plt.bar(train_data['Class'].unique(), lb_class)\n",
    "\n",
    "plt.xticks(train_data['Class'].unique())\n",
    "plt.xlabel('Class')\n",
    "plt.title(\"Distribution of Corrupted Data Among Labeled Data Across Classes\")\n",
    "plt.show()\n",
    "\n",
    "print(f'The maximum labeled values appears in {np.argmax(lb_class)} class and constitutes {lb_class.max():.2%}')\n",
    "print(f'The minimum labeled values appears in {np.argmin(lb_class)} class and constitutes {lb_class.min():.2%}')"
   ]
  },
  {
   "cell_type": "markdown",
   "metadata": {},
   "source": [
    "#### Q1.3 (1 point):\n",
    "Can we assume that this sample labeled dataset represents the true ratio of corrupted/not_corrupted within the larger data - why or why not - explain?"
   ]
  },
  {
   "cell_type": "markdown",
   "metadata": {},
   "source": [
    "We discovered that only 25% of the entire dataset is labeled. This proportion is relatively small and may not accurately represents the true ratio of corrupted and non-corrupted data in the larger, unlabeled portion. Therefore we can not assume that this sample labeled dataset represents the true ratio."
   ]
  },
  {
   "cell_type": "code",
   "execution_count": 13,
   "metadata": {},
   "outputs": [
    {
     "data": {
      "image/png": "[encoded data removed]",
      "text/plain": [
       "<Figure size 640x480 with 1 Axes>"
      ]
     },
     "metadata": {},
     "output_type": "display_data"
    }
   ],
   "source": [
    "sns.histplot(data=labeled_train_data['Class'], stat='percent', bins=15, discrete=True, shrink=.8)\n",
    "sns.histplot(data=test_data['Class'], stat='percent', bins=15, discrete=True, shrink=.8)\n",
    "\n",
    "plt.title('Comparing percentage of labeled and all train data by Class')\n",
    "plt.show()"
   ]
  },
  {
   "cell_type": "markdown",
   "metadata": {},
   "source": [
    "### Step 2 - Supervised Learning"
   ]
  },
  {
   "cell_type": "markdown",
   "metadata": {},
   "source": [
    "Even though we only have a subset of the data that has labels, perhaps it is enough to train a classifier to be able to distinguish between normal/corrupt instances?"
   ]
  },
  {
   "cell_type": "markdown",
   "metadata": {},
   "source": [
    "#### Q2.1 (10 points)\n",
    "Run a Proof of Concept (POC) - take only the cases where the data is labeled, and run a simple classifier (similar to the 544): <br> `model = RandomForestClassifier(random_state=44, n_estimators=5, max_depth=3)\n",
    "` <br> see if we get a decent score on the classifier?"
   ]
  },
  {
   "cell_type": "code",
   "execution_count": null,
   "metadata": {},
   "outputs": [],
   "source": []
  },
  {
   "cell_type": "code",
   "execution_count": 14,
   "metadata": {},
   "outputs": [
    {
     "name": "stdout",
     "output_type": "stream",
     "text": [
      "F1 score for POC is 0.895\n"
     ]
    }
   ],
   "source": [
    "### Insert Code Here\n",
    "model = RandomForestClassifier(random_state=59, n_estimators=5, max_depth=3)\n",
    "\n",
    "\n",
    "\n",
    "# chose only labeled data\n",
    "train_data_wl = train_data[~train_data['Corrupted'].isna()].copy()\n",
    "\n",
    "# split labeled data to train and test\n",
    "X_train, X_test, y_train, y_test = train_test_split(train_data_wl.drop('Corrupted', axis=1), \\\n",
    "    train_data_wl['Corrupted'], test_size=0.2, random_state=71)\n",
    "\n",
    "model.fit(X_train, y_train)\n",
    "\n",
    "y_pred_rf = model.predict(X_test)\n",
    "\n",
    "print(f\"F1 score for POC is {f1_score(y_test, y_pred_rf, average='weighted'):.3f}\")"
   ]
  },
  {
   "cell_type": "markdown",
   "metadata": {},
   "source": [
    "The F1 score for POC is 0.895, which is decent. But let's give a look at the perfomance of the Classificaltion model by DS Team. \n",
    "At first let's get a F1 score with all labeled (in the column \"Corrupted\") train data, and the we will eliminate the noise and run the Classification model once again."
   ]
  },
  {
   "cell_type": "code",
   "execution_count": 15,
   "metadata": {},
   "outputs": [
    {
     "name": "stdout",
     "output_type": "stream",
     "text": [
      "F1 Score (weighted): 60.2%\n"
     ]
    }
   ],
   "source": [
    "# run the Classification model for all labeled (in the column \"Corrupted\") training data \n",
    "run_classification_544(train_data_wl, test_data, label='Class') "
   ]
  },
  {
   "cell_type": "code",
   "execution_count": 16,
   "metadata": {},
   "outputs": [
    {
     "name": "stdout",
     "output_type": "stream",
     "text": [
      "F1 Score (weighted): 59.75%\n"
     ]
    }
   ],
   "source": [
    "#reduce the noise and run the Classification model for not corrupted training data \n",
    "run_classification_544(train_data_wl[train_data_wl['Corrupted']!=1.0], test_data, label='Class') "
   ]
  },
  {
   "cell_type": "markdown",
   "metadata": {},
   "source": [
    "It seems pretty strange that after we eliminate the noise the Classification model performance reduced. It could indicate potential issues with the Classification model by DS team or its suitability to the data. Also it's possible that what is labeled as 'noise' might not be true noise, or the 'noise' could be providing some valuable information to the model. "
   ]
  },
  {
   "cell_type": "markdown",
   "metadata": {},
   "source": [
    "#### Q2.2 (15 Points)\n",
    "Now that you have (hopefully) proven the POC: <br>\n",
    "1. Retrain the classifier on all of the labeled data.\n",
    "2. Run it on the unlabeled data.\n",
    "3. See how it affects `run_classification_544` - you need to beat the baseline!"
   ]
  },
  {
   "cell_type": "code",
   "execution_count": 17,
   "metadata": {},
   "outputs": [],
   "source": [
    "### Insert Code Here\n",
    "\n",
    "# Extact column 'Corrupted' as labels\n",
    "X_labeled, y_labeled = labeled_train_data.drop('Corrupted', axis=1), labeled_train_data['Corrupted']\n",
    "\n",
    "# set of unlabeled data (where 'Corrupted' == NaN) for prediction\n",
    "unlabeled_train_data = train_data[train_data['Corrupted'].isna()].drop('Corrupted', axis=1)\n",
    "\n",
    "# Retrain the classifier on all of the labeled data.\n",
    "model.fit(X_labeled, y_labeled)\n",
    "\n",
    "# Run it on the unlabeled data.\n",
    "unlabeled_train_data['Corrupted'] = model.predict(unlabeled_train_data)\n",
    "\n",
    "# form new train set\n",
    "train_data_supervised = pd.concat([labeled_train_data, unlabeled_train_data])\n",
    "train_data_supervised = train_data_supervised[train_data_supervised['Corrupted'] == 0]"
   ]
  },
  {
   "cell_type": "code",
   "execution_count": 18,
   "metadata": {},
   "outputs": [
    {
     "name": "stdout",
     "output_type": "stream",
     "text": [
      "F1 Score (weighted): 80.52%\n"
     ]
    }
   ],
   "source": [
    "run_classification_544(train_data_supervised, test_data, label='Class')"
   ]
  },
  {
   "cell_type": "markdown",
   "metadata": {},
   "source": [
    "We didn't beat the baseline, but it is unsuprisingly given the results from Q2.1"
   ]
  },
  {
   "cell_type": "markdown",
   "metadata": {},
   "source": [
    "### Step 3 - Unsupervised method"
   ]
  },
  {
   "cell_type": "markdown",
   "metadata": {},
   "source": [
    "While the supervised method was nice, perhaps we can beat it with using *all* the data to train an unsupervised method.\n",
    "\n",
    "#### Q3.1 (10 points)\n",
    "Use either IsolationForest or LocalOutlierFactor (or both) and train the model to predict outliers. <br>\n",
    "The only hyper-parameter to play with at this stage is `contamination`. <br>\n",
    "1. What is your default value for contamination and defend your initial hypothesis.\n",
    "2. Look at the model's predictions - how much noise did it determine from the data? \n",
    "3. How well did the model do compared to the supervised/baseline? "
   ]
  },
  {
   "cell_type": "markdown",
   "metadata": {},
   "source": [
    "<u>1. What is your default value for contamination and defend your initial hypothesis.</u>\n",
    "\n",
    "The default value for the contamination parameter is set to 0.39 based on the ratio of corrupted labels within the training dataset. The hypothesis is that the observed ratio of corrupted labels in the training set is indicative of the proportion of outliers within the entire dataset."
   ]
  },
  {
   "cell_type": "code",
   "execution_count": 19,
   "metadata": {},
   "outputs": [
    {
     "name": "stdout",
     "output_type": "stream",
     "text": [
      "Model determines 12.02% of noise\n"
     ]
    }
   ],
   "source": [
    "contamination_amount = 0\n",
    "\n",
    "# Drop column 'Corrupted'\n",
    "X_train_IF = train_data.drop('Corrupted', axis=1)\n",
    "\n",
    "\n",
    "model_IForest = IsolationForest(random_state=0).fit(X_train_IF)\n",
    "\n",
    "X_train_IF['Corrupted'] = model_IForest.predict(X_train_IF)\n",
    "\n",
    "# Look at the model's predictions - how much noise did it determine from the data? \n",
    "noise_perc = X_train_IF[X_train_IF['Corrupted'] < 0]['Corrupted'].abs().sum() / X_train_IF['Corrupted'].shape[0]\n",
    "print(f'Model determines {np.round(noise_perc*100,2)}% of noise')\n",
    "\n",
    "train_data_unsupervised = X_train_IF[X_train_IF['Corrupted'] == 1]"
   ]
  },
  {
   "cell_type": "code",
   "execution_count": 20,
   "metadata": {},
   "outputs": [
    {
     "name": "stdout",
     "output_type": "stream",
     "text": [
      "F1 Score (weighted): 85.89%\n"
     ]
    }
   ],
   "source": [
    "run_classification_544(train_data_unsupervised, test_data, label='Class')"
   ]
  },
  {
   "cell_type": "markdown",
   "metadata": {},
   "source": [
    "3. How well did the model do compared to the supervised/baseline? \n",
    "\n",
    "The unsupervised model has better F1 score than the supervised model but yields to the baseline"
   ]
  },
  {
   "cell_type": "markdown",
   "metadata": {},
   "source": [
    "#### Q3.2 (15 points)\n",
    "1. Iterate through various contamination levels - `np.linspace(0.05, 0.5, 10)` and plot the lineplot of the f1_score.\n",
    "2. Explain the lineplot that you see - does it give you confidence?\n",
    "3. Which contamination gave the best results - explain possibly why? "
   ]
  },
  {
   "cell_type": "code",
   "execution_count": 21,
   "metadata": {},
   "outputs": [],
   "source": [
    "train_data_unsupervised_best = None\n",
    "X_train_IF = train_data.drop('Corrupted', axis=1)"
   ]
  },
  {
   "cell_type": "code",
   "execution_count": 22,
   "metadata": {},
   "outputs": [
    {
     "name": "stdout",
     "output_type": "stream",
     "text": [
      "Max F1 Score: 86.13% - Contamination: 0.25\n"
     ]
    }
   ],
   "source": [
    "dict_f1 = {}\n",
    "for contamination_amnt in np.linspace(0.05, 0.5, 10):\n",
    "    model_IForest = IsolationForest(random_state=0, contamination=contamination_amnt).fit(X_train_IF)\n",
    "    train_data_unsupervised = X_train_IF[model_IForest.predict(X_train_IF)==1]\n",
    "    \n",
    "    dict_f1[contamination_amnt] = run_classification_544(train_data_unsupervised, test_data, label='Class', return_f1_score = True)\n",
    "\n",
    "\n",
    "### Get max F1 Score\n",
    "max_f1 = max(dict_f1.values())\n",
    "max_f1_contamination = [k for k, v in dict_f1.items() if v == max_f1][0]\n",
    "print(f'Max F1 Score: {max_f1}% - Contamination: {max_f1_contamination}')"
   ]
  },
  {
   "cell_type": "code",
   "execution_count": 23,
   "metadata": {},
   "outputs": [
    {
     "data": {
      "image/png": "[encoded data removed]",
      "text/plain": [
       "<Figure size 640x480 with 1 Axes>"
      ]
     },
     "metadata": {},
     "output_type": "display_data"
    }
   ],
   "source": [
    "### elbow method\n",
    "plt.plot(list(dict_f1.keys()), list(dict_f1.values()));"
   ]
  },
  {
   "cell_type": "code",
   "execution_count": 24,
   "metadata": {},
   "outputs": [],
   "source": [
    "model_IForest = IsolationForest(random_state=0, contamination=0.141).fit(X_train_IF)\n",
    "train_data_unsupervised_best = X_train_IF[model_IForest.predict(X_train_IF)==1]"
   ]
  },
  {
   "cell_type": "code",
   "execution_count": 25,
   "metadata": {},
   "outputs": [
    {
     "name": "stdout",
     "output_type": "stream",
     "text": [
      "F1 Score (weighted): 84.08%\n"
     ]
    }
   ],
   "source": [
    "run_classification_544(train_data_unsupervised_best, test_data, label='Class')"
   ]
  },
  {
   "cell_type": "markdown",
   "metadata": {},
   "source": [
    "I expected the unsupervised to do better.\n",
    "Perhaps what we should of done from the get-go is to visualise the data, both how the classes are spread out and their respective noise.\n",
    "\n",
    "### Step 4 - Dimensionality Reduction (PCA)\n",
    "#### Q4 (10 points)\n",
    "1. Use PCA to visualise each of the data points and their respective.\n",
    "2. What insight do we learn from the data that we can use to improve our models?"
   ]
  },
  {
   "cell_type": "code",
   "execution_count": 26,
   "metadata": {},
   "outputs": [],
   "source": [
    "import plotly.express as px"
   ]
  },
  {
   "cell_type": "code",
   "execution_count": 27,
   "metadata": {},
   "outputs": [],
   "source": [
    "def vis_PCA(df, label, shape, title):\n",
    "    ### I recommend using plotly.express for this visualization\n",
    "    # standardize the data\n",
    "    features = df.drop(label, axis=1)\n",
    "    if shape in features:\n",
    "        features = features.drop(shape, axis=1)\n",
    "    \n",
    "\n",
    "    df_sc = StandardScaler().fit_transform(features)\n",
    "\n",
    "    # pca\n",
    "    pca = PCA(2)\n",
    "    pca_df = pca.fit_transform(df_sc)\n",
    "\n",
    "\n",
    "    df.loc[:,label] = df.loc[:,label].astype(str)\n",
    "    #pca_df['shape'] = df[shape] #.apply(lambda x: 'Corrupted' if x == 1 else 'Not corrupted')\n",
    "    \n",
    "    color_dict = {'0.0': '#4CAF50', '1.0': '#FF5722', 'N/A': '#CCCCCC'}\n",
    "    fig = px.scatter(df, x=pca_df[:,0], y=pca_df[:,1], color=label, color_discrete_map=color_dict, symbol=shape, title=title)\n",
    "    fig.update_traces(marker=dict(size=8))\n",
    "    fig.show()\n",
    "\n",
    "### Insert Code Here"
   ]
  },
  {
   "cell_type": "code",
   "execution_count": 28,
   "metadata": {},
   "outputs": [
    {
     "data": {
      "application/vnd.plotly.v1+json": {
       "config": {
        "plotlyServerURL": "https://plot.ly"
       },
       "data": [
        {
         "hovertemplate": "Class=8<br>Corrupted=N/A<br>x=%{x}<br>y=%{y}<extra></extra>",
         "legendgroup": "8, N/A",
         "marker": {
          "color": "#ab63fa",
          "size": 8,
          "symbol": "circle"
         },
         "mode": "markers",
         "name": "8, N/A",
         "showlegend": true,
         "type": "scattergl",
         "x": [
          2.808315873849636,
          0.24610719569179046,
          1.897655343039548,
          2.515940269415423,
          2.7788050813571745,
          2.2264528295377417,
          4.68133468679647,
          3.1218233356104403,
          -1.7361011534374644,
          2.604286120569755,
          2.977321008833471,
          2.566767445851936,
          -0.6509632475796222,
          2.836247772124325,
          1.6066307574597758,
          2.600109681633098,
          -1.4764543115101794,
          2.694411101443914,
          -0.24119372661150057,
          2.714435083435571,
          2.672035968646828,
          2.779215320989095,
          -1.1733092141007067,
          2.8270338856238397,
          2.981878156293192,
          2.8479928716556824,
          2.344258837685452,
          2.3484381007931385,
          3.103697546389631,
          2.6807710033256775,
          2.012957474793065,
          -1.7785166227875921,
          1.5190224400545829,
          2.6655050434129697,
          3.2104977008611657,
          2.711809144159226,
          2.4529213794296223,
          -0.9331039541658086,
          1.571936204336226,
          2.7483669810988967,
          2.031914485834456,
          2.2071750277016284,
          2.5784612046234736,
          0.9541017800321974,
          2.2800340387478304,
          1.2788178993488528,
          1.7876443217859175,
          2.734579157272955,
          2.53869512857393,
          2.7679587817795195,
          -0.3393361488456534,
          2.0314851117672057,
          1.642344238719998,
          -0.6358906130205405,
          2.143720984316146,
          4.137636977131994,
          2.5199076189856697,
          3.172510063673422,
          2.588397423577205,
          2.509428374225231,
          2.39260945485,
          2.5154914282304595,
          2.1471161445249836,
          3.2349410386662183,
          3.7579070705160236,
          2.7644416439171873,
          2.744844281420647,
          2.577863186469506,
          3.0646490918933726,
          2.6207919472809373,
          2.752771118564537,
          2.539869369270476,
          2.4200049649394955,
          2.6985344755376772,
          -0.43515064177426077,
          3.6929587449443484,
          2.231978997591203,
          2.611826723557333,
          0.13053703476329326,
          2.3449684032315274,
          3.02349604287229,
          2.8343723690918567,
          2.5305478590917843,
          3.276605216273589,
          1.816069970438473,
          2.729924556897081,
          2.68116660509413,
          2.7201783737242033,
          3.0956402430686576,
          2.335071079064706,
          3.597698691186203,
          3.3263639150915347,
          -1.0223732963374579,
          2.334157281021597,
          -0.10478275700574054
         ],
         "xaxis": "x",
         "y": [
          -0.7014594297189425,
          -2.723331425188275,
          -0.4608349069822265,
          -0.4988284041740367,
          -1.1267862712505468,
          0.1692214882545041,
          -0.20919422557235767,
          -0.5514669082669627,
          1.912605218062588,
          -0.9552668033863346,
          -0.518610048743235,
          -0.2501790399431056,
          0.7036806938424888,
          -0.1863416479992489,
          0.8418738401779629,
          -0.6275568902456233,
          -0.11414135989742713,
          0.6114347357907449,
          -0.4245577028471103,
          -0.24148539623724405,
          -0.5693191689628464,
          -0.6548484860000273,
          3.3114128045842754,
          -0.05192563359616088,
          -0.3895632305524158,
          -0.696343663269013,
          0.5099767665850559,
          2.5647524785073315,
          -0.34675139595976673,
          -0.841754429070212,
          -0.6824155503023955,
          -0.9613028063948101,
          -0.596301699877941,
          -0.8701039712741456,
          0.3969365568849841,
          -0.32919210841266144,
          -0.9166493965024751,
          3.143244195461048,
          0.6726207104174105,
          0.27764459157081084,
          0.28619237981262763,
          -0.5369470164970586,
          -0.5881658444829835,
          -4.140018858293216,
          -0.7615983084749128,
          -1.8250800084236167,
          -2.116164329600328,
          -0.2870791303325276,
          1.0304101611132839,
          -0.5896776973024124,
          1.3040552089972557,
          -0.11963756992214097,
          -0.12942937593049111,
          -0.8970764978991893,
          -0.732100257075201,
          1.0796732052036517,
          0.12303927549139823,
          -1.5452928355283029,
          -0.8061924444322393,
          0.01174014573722752,
          -1.0357216962473181,
          -0.6788094528015953,
          0.17095760664530796,
          -0.1834089933267684,
          -0.9145373813137738,
          -0.5172271003222033,
          -0.21994465248204959,
          0.16203318919736917,
          -0.9037272310252564,
          -1.0265122091395706,
          0.33948932106757645,
          -0.48262629517267147,
          0.40622852466935466,
          -0.18255132482392783,
          1.7474933202919467,
          -0.327442338021574,
          -0.038676956933053695,
          -0.9198789206495652,
          1.2829614939027498,
          0.40169345284910213,
          -1.0513034448290888,
          -2.8349721080632744,
          -0.18318925369950292,
          -0.30420727727691793,
          1.6249561086190023,
          0.9061737158544301,
          0.1721377743796545,
          -0.17499834482307552,
          -0.10060265723395728,
          0.019572087582774296,
          0.3556932824393252,
          1.4547313449918446,
          -1.8739242822553654,
          0.051515220995967184,
          0.6352302065165414
         ],
         "yaxis": "y"
        },
        {
         "hovertemplate": "Class=8<br>Corrupted=1.0<br>x=%{x}<br>y=%{y}<extra></extra>",
         "legendgroup": "8, 1.0",
         "marker": {
          "color": "#ab63fa",
          "size": 8,
          "symbol": "diamond"
         },
         "mode": "markers",
         "name": "8, 1.0",
         "showlegend": true,
         "type": "scattergl",
         "x": [
          2.2843112694662375,
          0.11386871262695257,
          2.288844140014488,
          -0.783680533117229,
          5.42903366362898,
          0.6430304071086845,
          -0.9130436846206843,
          -0.7449146518212154,
          3.4584590251254,
          -2.4206722289935962,
          -0.22876858900516175,
          1.4384081041263226,
          3.6038731525443772,
          -2.9056373952901486,
          -1.941969963190344
         ],
         "xaxis": "x",
         "y": [
          -0.8787306055044176,
          0.7674046830581532,
          0.7597559604669365,
          1.125958839738156,
          0.1155434522805685,
          -1.136734228149852,
          2.9064162547063526,
          -1.1825573469850956,
          -1.8052912273037165,
          -0.43917192351162965,
          -2.132915625057048,
          1.6943770457100298,
          0.32825845837947637,
          -0.8892379572733117,
          0.9556149715241608
         ],
         "yaxis": "y"
        },
        {
         "hovertemplate": "Class=8<br>Corrupted=0.0<br>x=%{x}<br>y=%{y}<extra></extra>",
         "legendgroup": "8, 0.0",
         "marker": {
          "color": "#ab63fa",
          "size": 8,
          "symbol": "square"
         },
         "mode": "markers",
         "name": "8, 0.0",
         "showlegend": true,
         "type": "scattergl",
         "x": [
          1.8480919852932611,
          2.2596331932711964,
          2.420379216544713,
          2.911748927371871,
          1.9856794602324026,
          2.275065719804054,
          2.104963075744735,
          1.4472994499369014,
          2.8225475879931556,
          2.995725020982319,
          2.107309816916024,
          2.2444736296819285,
          2.0289110198483225,
          2.4414100545154835
         ],
         "xaxis": "x",
         "y": [
          -0.13658389125401044,
          0.41485700390146507,
          -0.5086808230417452,
          -0.8230914275546853,
          -0.20164147914382213,
          -0.42505528603392206,
          0.6413550063585762,
          0.05447295650480145,
          -0.7849196139914287,
          -0.5967828495182728,
          -0.46535292007745416,
          -0.44651863998254143,
          -1.0050184877237827,
          -0.545883041148727
         ],
         "yaxis": "y"
        },
        {
         "hovertemplate": "Class=9<br>Corrupted=N/A<br>x=%{x}<br>y=%{y}<extra></extra>",
         "legendgroup": "9, N/A",
         "marker": {
          "color": "#FFA15A",
          "size": 8,
          "symbol": "circle"
         },
         "mode": "markers",
         "name": "9, N/A",
         "showlegend": true,
         "type": "scattergl",
         "x": [
          2.4333549338578155,
          -1.6740568368969075,
          -0.2820321870052939,
          -0.4893880973405754,
          -2.4917420720522636,
          1.9579182305321639,
          1.0257197996530047,
          -1.5228127542454057,
          -0.3194689574069922,
          -0.6235628234297506,
          -1.0312721785060956,
          -0.312927735556456,
          1.6660294035597427,
          -0.46142332554449944,
          -0.1601056757255305,
          -0.6529259835800172,
          -1.3417717366048754,
          -0.9760694591413153,
          -2.196134748278932,
          2.796912047825041,
          -1.1119338455260936,
          2.0317150850252337,
          1.1861401610641624,
          0.022776470515743268,
          -0.21679035636783317,
          -1.5948130716399724,
          -0.8626616695844728,
          -0.5019388476474628,
          -0.8354329158891006,
          -0.2112200125965583,
          -0.0006249709323110632,
          -1.6720778614941152,
          -0.16417127811804091,
          -0.4328255678856064,
          -0.6856208200286826,
          -1.157160949939475,
          0.20029648711053813,
          -1.6252584740415736,
          -0.6012216323673624,
          0.2689117790637302,
          2.988528809358958,
          -0.37203251642229124,
          -0.5878492760637437,
          -0.48490370486851053,
          -1.399486048992264,
          -0.6338876358854002,
          3.046597622832677,
          -0.8532808531127105,
          -0.8007411992614376,
          -0.5883512735685084,
          -0.6526867350039413,
          -0.5400556694720041,
          -0.9194041287512725,
          -1.9036831664508607,
          -0.6370272468656049,
          -0.240979001669875,
          -0.8548306076980545,
          0.40807614401528525,
          -0.7061212693807691,
          -0.6503361082860084,
          1.4004882545282087,
          -0.5974067756133536,
          -1.7433109647104217,
          -2.6382576345797673,
          -0.8176352263834136,
          -0.4954120477183416,
          0.08190178572034408,
          2.8808948864886674,
          -0.5629288107286463,
          -0.22314478043606623,
          -1.2051964890343012,
          1.549765473225373,
          0.04511267414543901,
          -0.5514376393372169,
          -1.4721126479148863,
          -0.5405800171497591,
          -1.1561732133381597,
          -1.1315712425520088,
          -0.8594103492732573,
          1.7453277418611892,
          -1.083089806504053,
          -0.5343977146963484,
          -1.3483214828391024,
          -0.6481692745689023,
          -1.281559383568707
         ],
         "xaxis": "x",
         "y": [
          1.0209365596048534,
          3.028261551546839,
          3.1402306273035587,
          2.950672515532851,
          0.12108404603440164,
          4.305663067378247,
          2.595030112931569,
          -1.5086355418077526,
          2.909343345890233,
          2.318731286779289,
          2.8996968197861093,
          2.6299267230380314,
          0.030688745466442877,
          2.7563260247794967,
          3.1281364045986244,
          2.9781498637769985,
          -0.5948312532095734,
          2.7147226624018224,
          2.1204324075132917,
          -1.639549163877151,
          3.1500585798334777,
          1.5017729671166133,
          3.5824882774350137,
          -1.4837960577923115,
          3.550934877376668,
          2.0189231057501997,
          3.3703143698784275,
          3.4736992041368646,
          2.787854819092341,
          3.464432017472516,
          -0.37756558814385377,
          0.27792947262815876,
          2.997292006085962,
          3.1505568538213966,
          2.880090574761679,
          2.618869759835889,
          3.188461724696151,
          -2.0913469186431293,
          3.793124627136541,
          2.94717468814454,
          0.34094207045000013,
          2.698974003038952,
          3.414737176215356,
          2.7261037049240144,
          2.6250261346842434,
          -0.41846136099096604,
          -0.5871788930089845,
          3.2676586298151475,
          2.8478339156017394,
          2.6089238938470936,
          3.285456750536083,
          2.885739898005152,
          3.537316308293764,
          2.7736945122252905,
          2.8273760430564727,
          3.260636572506672,
          3.8056422439462305,
          3.928824200690422,
          2.7749372710911975,
          2.7326735484153954,
          -0.6320461211213735,
          -0.46398623444591736,
          2.859930611460004,
          2.3257166548389043,
          3.325128007559453,
          2.7977222182244956,
          3.880899352684453,
          -0.1494016576480276,
          3.315155858264791,
          3.0814056688313887,
          2.9023788787523843,
          -0.9072189717442444,
          3.3690473950198436,
          3.2326422688971017,
          1.9057984107580332,
          3.048921590693119,
          2.7261941196317525,
          3.204737116320571,
          3.0986309242441004,
          0.7090103412987028,
          2.6338160330388614,
          3.3941164346790176,
          0.11341883497741152,
          4.569464529665518,
          2.970717164125479
         ],
         "yaxis": "y"
        },
        {
         "hovertemplate": "Class=9<br>Corrupted=1.0<br>x=%{x}<br>y=%{y}<extra></extra>",
         "legendgroup": "9, 1.0",
         "marker": {
          "color": "#FFA15A",
          "size": 8,
          "symbol": "diamond"
         },
         "mode": "markers",
         "name": "9, 1.0",
         "showlegend": true,
         "type": "scattergl",
         "x": [
          1.355062118419719,
          0.38906355743472243,
          -1.0100440245211095,
          -0.7616808401605274,
          -1.780738260538374,
          0.6172599088459294,
          -2.258040644781839,
          -0.27084832865067693,
          -0.9930010283102921,
          -1.4785498044397556,
          0.4179953990592782,
          -0.5336143789117525,
          -0.1207159044715321,
          -2.0463284201305347,
          -0.39485909877093445,
          3.741594344624498
         ],
         "xaxis": "x",
         "y": [
          1.7496629534166122,
          3.154395223022679,
          5.299204099164428,
          -0.5550621611625954,
          1.9824352059452393,
          4.965803871440675,
          3.9975500857703326,
          -1.0758071459188239,
          1.8598274487370248,
          -1.5535766612250603,
          -1.3391506158696114,
          3.100488422156931,
          0.7030291413641995,
          4.454937848626701,
          1.1963147931556464,
          0.9221757129045915
         ],
         "yaxis": "y"
        },
        {
         "hovertemplate": "Class=9<br>Corrupted=0.0<br>x=%{x}<br>y=%{y}<extra></extra>",
         "legendgroup": "9, 0.0",
         "marker": {
          "color": "#FFA15A",
          "size": 8,
          "symbol": "square"
         },
         "mode": "markers",
         "name": "9, 0.0",
         "showlegend": true,
         "type": "scattergl",
         "x": [
          -0.7261182326846516,
          -0.9867023854291069,
          -1.0223728922259103,
          -0.36935229434973516,
          -0.8945401366454451,
          -0.32692257086934084,
          -1.0725974747864584,
          -0.393562655750475,
          -0.5394764391239698,
          -0.1300297474607017,
          -0.6361737465881463,
          -1.0207339256840937,
          -1.0473853206501607,
          -1.1444620686795948,
          -0.4103050509935751,
          -1.349858933950958,
          -1.479876387048705,
          -0.49484863497059783,
          -0.39958863690769275,
          -0.3393366456432186,
          -0.6216629784691248
         ],
         "xaxis": "x",
         "y": [
          2.714661203080775,
          2.982656946071022,
          3.525908620074455,
          2.793331901404987,
          2.378844075054829,
          2.899538282449267,
          2.7901991042362466,
          3.1130685795404793,
          2.674448449011059,
          2.700339144893728,
          2.8361975003848587,
          2.336567723071038,
          2.8076383382160532,
          2.1503813023511897,
          3.2666193664043344,
          2.8383009343417727,
          3.0474664749107756,
          3.5043067297951844,
          2.9587304613217165,
          2.6956144603676715,
          3.414005580447409
         ],
         "yaxis": "y"
        },
        {
         "hovertemplate": "Class=1<br>Corrupted=N/A<br>x=%{x}<br>y=%{y}<extra></extra>",
         "legendgroup": "1, N/A",
         "marker": {
          "color": "#19d3f3",
          "size": 8,
          "symbol": "circle"
         },
         "mode": "markers",
         "name": "1, N/A",
         "showlegend": true,
         "type": "scattergl",
         "x": [
          -0.9514546604263484,
          -1.9003154149496622,
          -2.668286872934664,
          -0.6504326037781378,
          0.7507638554040297,
          -2.0940078498686234,
          -1.6261970212446046,
          -1.5387997108436402,
          -1.3491364765411469,
          -2.925969368845529,
          -1.6040821354071941,
          -1.2365782489737003,
          -0.6731990015201137,
          0.20565750242719366,
          -0.5714154309767713,
          -1.1029625438362718,
          -0.34417685415347316,
          -2.6497735588888824,
          -1.7251396812090023,
          -1.0557148427273193,
          -1.469266829301497,
          -0.3932989532950259,
          -2.2156363378631156,
          -1.0483389348048748,
          -0.7987361198430233,
          -1.3190296923211635,
          -1.0890489206189553,
          -0.955261231212644,
          -1.0636061873123475,
          -1.1227960384877111,
          -1.9623617231111854,
          -0.8512616773711167,
          -1.1045278862521073,
          2.5731692016801,
          -1.8947347027886854,
          -2.1309066707894213,
          -2.4748151199945956,
          -1.2677463803111781,
          2.0826544921796386,
          -1.979275942741571,
          -0.8035669290692878,
          -1.4586035481726964,
          -1.3589929625101211,
          -0.7057419803478293,
          -1.193345282519446,
          -1.3381698972615568,
          -1.2737186508304124,
          -1.526820331323687,
          -1.6179229690666355,
          1.4691789446627355,
          -1.0716216177862485,
          -1.1416353764164469,
          -1.0827066523713258,
          -1.270488589806014,
          -2.4889354106979518,
          -0.2642148832083384,
          -0.23908910264917874,
          -0.771671338295787,
          -1.6493947436130196,
          -0.7197261785877751,
          -1.2915073991385717,
          -1.3579699130731777,
          -0.7761189357557857,
          -1.8655308158698924,
          0.24016664194950413,
          -0.37093262574959346,
          -0.35824613784848475,
          -1.2045428904021247,
          -0.7347539247514342,
          -2.003598296432519,
          -0.31415559445691327,
          -1.1239756819338553,
          1.7707267160927127,
          -1.582532435042685
         ],
         "xaxis": "x",
         "y": [
          -1.222823646011902,
          -2.2810270317679016,
          -0.6319755693861534,
          -2.2778356384237495,
          0.16920573908468717,
          -2.4614233079534253,
          -2.865779684733803,
          -2.190416762044102,
          -2.87538696834996,
          -1.6781804784137682,
          -2.27496264554139,
          -1.8281811002261321,
          -1.2288344028751452,
          -0.20547659975815566,
          0.6453792760183437,
          -1.983956121729966,
          -0.13234673504437394,
          -0.5576450523362788,
          -2.0677029556511997,
          4.32730828840825,
          -1.2347247205067384,
          -0.8859974342486618,
          -2.0300798796408226,
          -1.6838257370529877,
          -1.90867043488833,
          -2.2403469509495175,
          -2.1837750289226907,
          -1.8637248135244895,
          -2.5287065068114125,
          -4.307393415476759,
          -1.89740373111441,
          -2.5037217877753117,
          -2.098677577665274,
          0.4732215356424672,
          -1.3324632306925448,
          -1.7017537771387194,
          -1.9591999842993746,
          -2.877911014317356,
          0.9408711334120939,
          -2.6456674758082435,
          -2.2990977972158575,
          -2.0282072682061068,
          -2.345272909349744,
          -0.8820940069846457,
          -2.195093039824894,
          -2.09746091405754,
          -2.116322602460638,
          -1.5942796405551465,
          -2.2450001816628147,
          1.2389360616679148,
          -2.2810812344015545,
          -1.28483081762959,
          -1.8468183454019542,
          -1.8439602916287163,
          -1.6269686920746953,
          -0.4640661214809995,
          1.4917640609340677,
          2.9941277095354333,
          -2.578404752105417,
          -2.1949395242724195,
          -1.891779321573992,
          -2.153568662474785,
          -1.5142905497183696,
          -2.028837188554866,
          -0.8536372462166897,
          -1.2099555417915522,
          -4.28004622944257,
          -1.9289153487897412,
          -2.5089870046998786,
          -1.9477377650460626,
          -2.543186159695791,
          -2.1844287979649435,
          1.066429979114514,
          -0.7378027117700097
         ],
         "yaxis": "y"
        },
        {
         "hovertemplate": "Class=1<br>Corrupted=1.0<br>x=%{x}<br>y=%{y}<extra></extra>",
         "legendgroup": "1, 1.0",
         "marker": {
          "color": "#19d3f3",
          "size": 8,
          "symbol": "diamond"
         },
         "mode": "markers",
         "name": "1, 1.0",
         "showlegend": true,
         "type": "scattergl",
         "x": [
          -1.204031084985572,
          -0.1702384381931522,
          1.8093895177724626,
          0.1657334171866485,
          2.6841853819640273,
          0.276917809734378,
          -0.3895608116607351,
          0.03382414867503758,
          -1.0266079295199013,
          2.138391984426461,
          -1.9806624885096353,
          -1.8642262554221423
         ],
         "xaxis": "x",
         "y": [
          3.1575429855647537,
          -0.3464795553978576,
          1.7139801701712312,
          2.4779341706343425,
          -0.904278536919729,
          -0.01911942398636156,
          -0.5468605273344147,
          -0.04126598273089211,
          -2.380009053715117,
          -0.6101240372836884,
          -2.2788748282437203,
          -2.644559310044199
         ],
         "yaxis": "y"
        },
        {
         "hovertemplate": "Class=1<br>Corrupted=0.0<br>x=%{x}<br>y=%{y}<extra></extra>",
         "legendgroup": "1, 0.0",
         "marker": {
          "color": "#19d3f3",
          "size": 8,
          "symbol": "square"
         },
         "mode": "markers",
         "name": "1, 0.0",
         "showlegend": true,
         "type": "scattergl",
         "x": [
          -1.2439331124343367,
          -1.204176129233755,
          -1.1392483184279278,
          -1.2853522984087091,
          -1.3798179483414676,
          -1.237800205212834,
          -1.592337765916548,
          -1.215862114638882,
          -1.1804391281384266,
          -1.2308322808670993,
          -1.8426609842988302,
          -0.41050186787642884,
          -1.4082054263286947,
          -1.169109921515287,
          -0.7920621693193607,
          -0.587193839433177,
          -1.2519783400607838,
          -1.046627903929448,
          -1.7244995162108552
         ],
         "xaxis": "x",
         "y": [
          -1.9566877426945422,
          -2.257970692812143,
          -2.7089131480622064,
          -2.5568791415387264,
          -2.072530096544329,
          -1.9017833937498552,
          -1.6260918111746268,
          -2.192058815407089,
          -2.2406122823761367,
          -2.273295137801396,
          -2.1622935797020326,
          -2.077986874049669,
          -2.354558301111885,
          -2.0999602740755052,
          -1.7794669956497842,
          -2.0106809839691415,
          -1.9271773083470163,
          -1.8838048782199894,
          -2.528828453278905
         ],
         "yaxis": "y"
        },
        {
         "hovertemplate": "Class=10<br>Corrupted=N/A<br>x=%{x}<br>y=%{y}<extra></extra>",
         "legendgroup": "10, N/A",
         "marker": {
          "color": "#FF6692",
          "size": 8,
          "symbol": "circle"
         },
         "mode": "markers",
         "name": "10, N/A",
         "showlegend": true,
         "type": "scattergl",
         "x": [
          0.647355951612098,
          1.311592325535427,
          -1.1270753205691297,
          -1.293875127394832,
          -0.26894765673408716,
          -0.4892451189929787,
          -1.8179509942871175,
          0.8257660262273792,
          1.5989514366523971,
          -0.9968050921242806,
          -1.1474893440063554,
          -0.10179010154693968,
          0.4994477622784807,
          -0.3807724641034948,
          -0.1871686387236234,
          -0.4971722865300473,
          -0.1649336038570253,
          -0.5309114467544676,
          -0.5342557216559929,
          -0.694512252857141,
          0.973850712622476,
          -0.457262051083336,
          -1.3246716704658965,
          -0.036340127114587215,
          -0.4962059229945768,
          -0.3604535153807249,
          -0.4908212053221886,
          -2.4695393371853043,
          -1.8807092792317126,
          -0.5634666462322817,
          -0.4660789296355159,
          0.18667602304602582,
          -1.8052050047185222,
          -0.08806648909925725,
          -0.17375623686040645,
          -0.38604922788385815,
          -0.8786612123687192,
          -0.34844647323797046,
          -0.42240728976814856,
          -2.04813304787598,
          0.3615738874984997,
          2.8206191126571287,
          -0.5769544930383479,
          -0.23092006038194715,
          -0.38556163395954357,
          1.7388225738906176,
          -3.6190294232168623,
          -2.650745511083916,
          -0.6116269611839021,
          -0.9395525445110939,
          -0.4312909647950209,
          -0.7894659630916213,
          -0.9987538353103713,
          -0.39875894019398017,
          -0.8835267915529075,
          -0.5881431903080685,
          -2.225146539129143
         ],
         "xaxis": "x",
         "y": [
          -1.0079895946669855,
          -2.185146329306796,
          -0.329558726025275,
          -0.5804868209024742,
          -0.42816297499506356,
          -0.5806477625153849,
          2.847201187832577,
          -1.0698271921798164,
          1.4358722608028995,
          -1.5778071045998172,
          -0.9432439737506031,
          -1.2061841240109128,
          -0.6402011854715771,
          -0.1684123344513199,
          -0.4656183674959411,
          -1.2298457325163203,
          -1.5251341756623178,
          -0.983843860106148,
          -0.43577644086129275,
          -0.6469728456121405,
          -1.0453526155478905,
          -0.9797246419682099,
          -1.0323156229211057,
          -0.962049755234879,
          -0.3133934892511136,
          -1.0158419809234915,
          -0.09084916633905882,
          -0.07199026649980957,
          -1.5594787117440312,
          -1.141417237880696,
          -0.43046573382867986,
          0.4150316013606404,
          -1.0287241548827615,
          0.36853243368869526,
          -0.7145013211937302,
          -0.6410165692074866,
          -0.629452539493469,
          -0.7343655387653427,
          -0.8490476184763347,
          -1.2502018355505695,
          -0.9704663764578633,
          -0.18870612834266637,
          -0.8202073367900504,
          -0.5425222682100772,
          -0.9542550314058075,
          1.0976447139056966,
          0.6538842904509428,
          -0.7502519922473642,
          -0.4350980459221523,
          -1.4687435357125405,
          -0.8153941959352383,
          -1.8035817397536258,
          -0.5918151796046709,
          -1.2633300285963178,
          -1.4619584931106857,
          -0.9474250976602734,
          -0.061424267699888103
         ],
         "yaxis": "y"
        },
        {
         "hovertemplate": "Class=10<br>Corrupted=1.0<br>x=%{x}<br>y=%{y}<extra></extra>",
         "legendgroup": "10, 1.0",
         "marker": {
          "color": "#FF6692",
          "size": 8,
          "symbol": "diamond"
         },
         "mode": "markers",
         "name": "10, 1.0",
         "showlegend": true,
         "type": "scattergl",
         "x": [
          -0.4890480490460402,
          -0.5426132638576989,
          1.3723021245354903,
          2.197319414514691,
          -0.6729477642556021,
          -0.3289770769642728
         ],
         "xaxis": "x",
         "y": [
          3.2370634422750553,
          -0.8372094414481157,
          0.5345615205850046,
          0.8102863239821917,
          2.6332865220284503,
          0.7585748697811322
         ],
         "yaxis": "y"
        },
        {
         "hovertemplate": "Class=10<br>Corrupted=0.0<br>x=%{x}<br>y=%{y}<extra></extra>",
         "legendgroup": "10, 0.0",
         "marker": {
          "color": "#FF6692",
          "size": 8,
          "symbol": "square"
         },
         "mode": "markers",
         "name": "10, 0.0",
         "showlegend": true,
         "type": "scattergl",
         "x": [
          -0.44248873972326286,
          0.2014502960061029,
          -0.389784210918086,
          -0.24007385909951473,
          -0.33416404595001203,
          -0.4603322501449598,
          -0.8336370392856024,
          -0.1366669382420364,
          0.533041376865731,
          0.053741215087177115,
          -0.3569592270723811
         ],
         "xaxis": "x",
         "y": [
          -0.6014347256204228,
          -0.7334972845638311,
          -0.7591501826598517,
          -0.8598337920565456,
          -1.2008033526989212,
          -1.0229796259455082,
          -0.7628790562488229,
          -0.57005052341601,
          -0.9250918129594635,
          -0.9515011577538725,
          -1.0755850793353436
         ],
         "yaxis": "y"
        },
        {
         "hovertemplate": "Class=2<br>Corrupted=N/A<br>x=%{x}<br>y=%{y}<extra></extra>",
         "legendgroup": "2, N/A",
         "marker": {
          "color": "#B6E880",
          "size": 8,
          "symbol": "circle"
         },
         "mode": "markers",
         "name": "2, N/A",
         "showlegend": true,
         "type": "scattergl",
         "x": [
          -0.08934303043987962,
          -1.0769498250583123,
          0.48028404927413204,
          -0.676663631301616,
          -1.585328045371165,
          -0.49885418279549365,
          1.0397955938138832,
          0.29369674715789046,
          -0.7593498911690983,
          0.4106459958737413,
          -0.5088904013786152,
          -1.3782644537248308,
          -0.3558515512501501,
          0.8882139476502966,
          -0.4896719237214825,
          1.1566513685291555,
          0.3240304285268262,
          0.04947683414506922,
          1.373332102310369,
          -1.1655484575656225,
          -1.2959046552715237,
          -2.0347595567169328,
          -0.20410704926029374,
          -2.88921899249304,
          -0.4087710271594115,
          -0.11837987680150125,
          0.6328795340844081,
          -0.32162855333417106,
          -0.38196990189640306,
          -1.0981715329843587,
          4.207589762373454,
          -0.12807693108973614,
          -0.21386477333953632,
          0.12434229863992233,
          2.550743434836915,
          -1.4753090503471658,
          0.47967018645080484,
          0.323391436699266,
          0.4603661189275892,
          0.23300883385396604,
          -0.06625260596425749,
          -0.16294645339139294,
          0.3303862251291649,
          0.2611756900958351,
          -1.7695090062133643,
          -1.1996534212212333,
          -0.19954018461743234,
          1.523860976528387,
          0.5676568925902836,
          -0.8469791349396463,
          -0.0689669326086353,
          1.8025240231849857,
          0.534741697145465,
          -0.06961517917645567,
          0.7187712771312799,
          0.3683019194134188,
          2.8562438837323056,
          0.32417621070224967,
          -2.1070865545141637,
          -0.6336112328623037,
          0.5742728761794093,
          0.36353604974878984,
          -1.2579404603771205,
          -0.20658861452230853,
          0.3701368667521165,
          0.08325266878789978,
          -1.6050905433347946,
          4.571144733901003,
          1.409463979127333,
          -0.4867765226655448,
          0.3971156915362549,
          -0.0776210650144953,
          1.000026681749859,
          -0.17155610016369566,
          0.09175317940852785,
          -0.1739390317650635,
          -0.3666676803204117,
          0.07765570010530905,
          -0.03417045795416531,
          0.2756136036028512,
          -0.2728907015376404,
          0.6882087990916168,
          -0.47169341617103044
         ],
         "xaxis": "x",
         "y": [
          0.1948490937956935,
          -3.358125049216758,
          -0.6943907540812414,
          0.3900631248249231,
          -1.8208511959777005,
          0.06002947340562492,
          -1.1340870941442989,
          -0.043647126534657216,
          -0.24516754928858334,
          0.4364866857603028,
          0.7055459113718794,
          1.8396261064701114,
          -0.24061896509373526,
          -0.602116293840615,
          -0.3812998240865082,
          -0.4417054960144199,
          0.17531178851885085,
          -0.9621603995311356,
          -0.629091790217864,
          -1.7444406042158553,
          -1.390891597395159,
          -2.2247693815151983,
          -0.23863026697030743,
          -0.6539203472429966,
          -1.2583941321398193,
          -0.39247474501733653,
          -0.703416376918858,
          0.035693481860238636,
          0.21487798078275536,
          -1.3637215607648248,
          -2.6264899100955326,
          -1.1454734679412442,
          -0.4233688802940592,
          -0.07871867040137352,
          -0.23441094589053393,
          2.1212336369071867,
          -0.41050912012769186,
          -0.2042589999742312,
          -0.7922116035967032,
          0.23230067767636006,
          -0.4519142008205724,
          0.6230099667560722,
          0.12810224482876242,
          0.16366576236133124,
          0.5287020358674627,
          -1.6497484781786098,
          0.153104616004885,
          -1.1867567089437894,
          0.6880354391188435,
          -0.4665050370703221,
          -0.0792725925584241,
          -0.714778601624839,
          -0.5002283114226486,
          -0.3898485443482394,
          -0.5260770664992127,
          0.1477329296968408,
          1.2655414011095503,
          -0.31915884395381594,
          1.9346874255978517,
          -0.3206163329053534,
          0.04447869250299528,
          -0.49528153249462015,
          -1.0172507029059836,
          0.01432871116642048,
          -0.26576680648800227,
          -0.800246400055814,
          0.8362119457342035,
          -0.9865301686274679,
          0.7774648656625645,
          -2.4650233292038277,
          -0.5077322888133181,
          -0.6585045816943487,
          -0.7981666299666279,
          3.157913068459106,
          -0.4106443990629058,
          -0.19822960718815621,
          0.23306504985709195,
          -0.527341647925134,
          -0.3238646099157671,
          -0.238023472744201,
          -0.5351621167624606,
          -0.5635607589820705,
          0.1740113353005116
         ],
         "yaxis": "y"
        },
        {
         "hovertemplate": "Class=2<br>Corrupted=1.0<br>x=%{x}<br>y=%{y}<extra></extra>",
         "legendgroup": "2, 1.0",
         "marker": {
          "color": "#B6E880",
          "size": 8,
          "symbol": "diamond"
         },
         "mode": "markers",
         "name": "2, 1.0",
         "showlegend": true,
         "type": "scattergl",
         "x": [
          1.4955218000249941,
          3.1307625524635565,
          0.6092119547904703,
          -3.3933027171447825,
          2.3543219539594564,
          -0.020140284412955733,
          1.9805648688504158,
          1.2618368184683226,
          -2.2134840285230304,
          0.7711483445734985,
          3.404185311144268,
          0.10249089201344791,
          -0.3713225215610345,
          -0.4342553233620826,
          0.7296067313153951
         ],
         "xaxis": "x",
         "y": [
          -0.8204911129334772,
          -0.6190945916670383,
          2.0866255242567036,
          -0.5964177824226546,
          1.073320168112255,
          -0.10764673670568108,
          -1.6261039739249439,
          2.0686907218390997,
          1.8077885143973644,
          -0.26608630479832385,
          -1.1571595800509826,
          1.0595395828919687,
          0.9023156615464304,
          -1.0889304485247622,
          3.3625729281047088
         ],
         "yaxis": "y"
        },
        {
         "hovertemplate": "Class=2<br>Corrupted=0.0<br>x=%{x}<br>y=%{y}<extra></extra>",
         "legendgroup": "2, 0.0",
         "marker": {
          "color": "#B6E880",
          "size": 8,
          "symbol": "square"
         },
         "mode": "markers",
         "name": "2, 0.0",
         "showlegend": true,
         "type": "scattergl",
         "x": [
          0.204004747223063,
          0.10745102106960733,
          -0.36998256473947916,
          -0.026636721277409563,
          -0.18367972761812318,
          -0.10598087727793011,
          -0.22904112341929167,
          0.3028336724675643,
          0.5153707721998035,
          -0.23713741136171976,
          0.5250580296045655,
          0.2747384714740053,
          0.2008704874959659,
          0.15497285127012386
         ],
         "xaxis": "x",
         "y": [
          -0.09236116906883227,
          -0.5054790030967834,
          -0.3823821144970542,
          -0.3320881630169645,
          -0.17943044142628897,
          0.01814206469625032,
          -0.33421823345933827,
          0.1939341438183942,
          -0.008069415728295653,
          0.1593165717907566,
          -0.37736996588484456,
          0.1726573735769914,
          -0.3282341326683418,
          -0.46900278494738323
         ],
         "yaxis": "y"
        },
        {
         "hovertemplate": "Class=11<br>Corrupted=N/A<br>x=%{x}<br>y=%{y}<extra></extra>",
         "legendgroup": "11, N/A",
         "marker": {
          "color": "#FF97FF",
          "size": 8,
          "symbol": "circle"
         },
         "mode": "markers",
         "name": "11, N/A",
         "showlegend": true,
         "type": "scattergl",
         "x": [
          2.116335694430535,
          2.5025922251844785,
          1.8155113004670842,
          0.9272408903677258,
          -2.802084977340534,
          1.829809736105665,
          1.423979424321884,
          1.8357296846847164,
          2.9133094157904305,
          1.572306120938522,
          -0.2097318099170488,
          1.718034139707126,
          1.2372434925843347,
          0.9199185404009054,
          1.8342418822954083,
          1.8379862491683148,
          1.5400029320224853,
          -0.10631815283650203,
          1.8635488788970953,
          1.3310083637287367,
          -0.2579657335059808,
          1.6724150132644429,
          2.2163355289208106,
          1.8622895986749968,
          -0.5419161840415129,
          0.9032061902096337,
          1.320247073869544,
          1.2396819522684852,
          1.8899405445665929,
          1.98472735691854,
          3.30673660415908,
          -1.4165509252574386,
          -1.5091003260032398,
          1.6289155067305296,
          1.6051196027032213,
          3.06288296781632,
          1.2043442897328829,
          1.2575289248830563,
          2.419016940729191,
          -0.973302881333454,
          -0.8913002516815461,
          1.7413529682007216,
          1.6263103082757895,
          1.104284064990898,
          -1.316120951646923,
          1.350240209128272,
          0.44570868799317553,
          1.0858818434774777,
          1.1363193779734364,
          2.32347386049544,
          3.3072312573708493,
          0.33383426204074124,
          1.447291799850169,
          0.34797328851755616,
          1.342565556500621,
          1.6711419581030709,
          -1.0313948399359967,
          1.7265449306963065,
          1.3188845843516068,
          -0.7941071060736963,
          2.1093368419460883,
          0.18083259628046452,
          -0.2530138692018747,
          1.6168996374546534,
          1.0082743639738398,
          -2.3758045929775635,
          0.8818621805201717,
          2.0088035421328128,
          0.20767582635753792,
          2.197023361471782,
          1.361756377016629,
          1.8389660236594174,
          1.80853136579599,
          2.269486044883298,
          3.280477203143134,
          1.2238213210102185,
          0.07721367381235553,
          2.4352748383359497,
          1.8337662405338384,
          1.5176029601465981,
          2.1921227579361515,
          1.5558384521466397,
          1.7375463075524151,
          3.5160114579574464,
          1.445357199925924,
          1.7639959654131168,
          1.644205621519033
         ],
         "xaxis": "x",
         "y": [
          -0.6028601123245205,
          -1.1012464363212247,
          -0.6326149157915218,
          -0.681813353822321,
          -0.28502141287213695,
          -0.9452487126452249,
          -1.3249460765370458,
          -1.3151206611347013,
          0.4765368190874608,
          -0.07030007379442729,
          -1.9375496253774165,
          -1.1729852102517957,
          -1.2144882393070753,
          -1.6453036029410286,
          -0.7166504846084266,
          -0.5154724097391615,
          -0.8752566416085253,
          5.05667517514293,
          -0.6422364659126871,
          -0.6642271914453179,
          0.6474789316855334,
          -1.0986050841040882,
          -1.0247986453808995,
          -0.9699800684417508,
          -0.31154011328479364,
          -2.5641794801914424,
          -1.001345472012217,
          -0.6112028274547077,
          -0.7922775150661495,
          -1.6039838920423244,
          -3.2426424042226,
          -0.9065222258283266,
          -2.2166535743614806,
          -0.49807023541147794,
          -1.1088024901403017,
          -1.5674492084100748,
          -0.8689468066800691,
          -0.8085874432860262,
          -0.006980283331346379,
          3.0946588971274434,
          -2.723837159441277,
          -1.1189944761348967,
          -0.9754905117721234,
          -0.9194317736666143,
          -1.3457627479488452,
          -0.7463231259897415,
          -0.7044891010105307,
          -1.1695167952853083,
          -0.6303482132461553,
          -0.41478262426576995,
          -2.308994962243008,
          -0.21254684689212605,
          -0.5749468744300418,
          -0.9825055530323112,
          -1.5310134820315437,
          -1.6845996664172584,
          -1.601248567348751,
          -2.237924494072592,
          -1.4149396548506021,
          2.3962467077519767,
          -0.19515689573655365,
          0.08172600736636182,
          4.279136084065362,
          -1.4356186994943947,
          -1.332618210104154,
          -0.7346259998485163,
          -1.101693322528981,
          -1.396821857131536,
          -0.9418169990648156,
          0.591943233092062,
          -0.659966123478338,
          -0.8126782982470183,
          -0.7435595045605595,
          -0.6653401982701876,
          0.16024066765790118,
          -0.7356412888000105,
          -1.0379631520936745,
          0.7707279617940503,
          -0.2998697623522778,
          -1.070444482436847,
          -1.6762885332638537,
          -0.3167461518605564,
          -2.106375747440463,
          -2.694646116527893,
          1.1634465049799771,
          -0.49408536737590925,
          -0.8465966556888346
         ],
         "yaxis": "y"
        },
        {
         "hovertemplate": "Class=11<br>Corrupted=1.0<br>x=%{x}<br>y=%{y}<extra></extra>",
         "legendgroup": "11, 1.0",
         "marker": {
          "color": "#FF97FF",
          "size": 8,
          "symbol": "diamond"
         },
         "mode": "markers",
         "name": "11, 1.0",
         "showlegend": true,
         "type": "scattergl",
         "x": [
          -0.3668683377501435,
          2.866372079418664,
          2.306283389507743,
          3.007462018307344,
          3.15271561810775,
          1.0763326265874957,
          -2.2335594930298472,
          -4.1790019893759744,
          1.182436239051132,
          3.7778647392111857
         ],
         "xaxis": "x",
         "y": [
          -1.2779005272557784,
          -1.2172177998392408,
          -0.03562004871921007,
          -0.9227789868178954,
          -0.1197461026002263,
          -0.8798097954817664,
          1.2962306648279436,
          -1.4525999628210684,
          0.6891692151196847,
          1.5131243209410619
         ],
         "yaxis": "y"
        },
        {
         "hovertemplate": "Class=11<br>Corrupted=0.0<br>x=%{x}<br>y=%{y}<extra></extra>",
         "legendgroup": "11, 0.0",
         "marker": {
          "color": "#FF97FF",
          "size": 8,
          "symbol": "square"
         },
         "mode": "markers",
         "name": "11, 0.0",
         "showlegend": true,
         "type": "scattergl",
         "x": [
          1.3785654860209167,
          1.2926572401533118,
          1.071321483676812,
          1.3515367810775778,
          0.982524678995589,
          0.8129949000738045,
          1.8169095040732341,
          0.9801720455124954,
          1.6652668593058089,
          1.2197226113541588,
          1.257497558312588,
          2.009735436248525,
          1.5361110945913399,
          1.3848403186382825,
          2.3571014693726395
         ],
         "xaxis": "x",
         "y": [
          -0.4228038178415482,
          -1.0099786765362813,
          -0.538134861989619,
          -1.3130294695149447,
          -1.1424488307232177,
          -0.8239294432224412,
          -1.182510914557899,
          -1.0782671348592099,
          -1.0783841242374113,
          -1.1735635398542192,
          -0.5566678109634698,
          -0.8932997835081625,
          -1.6347773857237322,
          -1.3428317226006323,
          -1.385576274857542
         ],
         "yaxis": "y"
        },
        {
         "hovertemplate": "Class=0<br>Corrupted=N/A<br>x=%{x}<br>y=%{y}<extra></extra>",
         "legendgroup": "0, N/A",
         "marker": {
          "color": "#FECB52",
          "size": 8,
          "symbol": "circle"
         },
         "mode": "markers",
         "name": "0, N/A",
         "showlegend": true,
         "type": "scattergl",
         "x": [
          -2.959693841075409,
          -3.1988888495632244,
          -0.6755839353422638,
          -2.052413653560521,
          -2.9271694211186676,
          -2.5209949958967823,
          -0.48388216945481716,
          -1.957393023859314,
          1.3441591142286047,
          -2.733193911885052,
          -2.7179926043449822,
          0.3222092106124984,
          -2.6473986440848423,
          -2.8154318574792456,
          -1.9619876022661236,
          -2.463647463337447,
          -3.6637579823927386,
          -0.04306417595436978,
          -2.9232134732086825,
          -3.11288918756684,
          -2.3033652727761647,
          1.2871092055805746,
          3.3327301184286156,
          0.4771314069068913,
          -0.9593707987796393,
          -1.7617127343395809,
          -2.1238546253935673,
          -2.581340370827004,
          -2.3787130137693455,
          -3.3291698808528505,
          -0.38666162384467617,
          -2.274529843053729,
          -2.8816677814964877,
          -2.563821301431203,
          -1.9822308086463725,
          -2.3360881365531556,
          -2.9151961180431645,
          -1.796833146078107,
          -2.5529407923186915,
          2.420291080936442,
          -1.8744723403097991,
          -1.494522627932379,
          -2.992219605002633,
          -2.5662924422426485,
          -2.8892521107476177,
          -3.131004432681475,
          -0.42490779405782897,
          0.4821528572948702,
          -2.590078988811931,
          -2.337487319416013,
          -2.4700345532112813,
          -1.8470427592097627,
          -2.0678947453016328,
          -2.2853970363044707,
          -2.9585695340003006,
          -3.051565596929829,
          -2.6430095341737507,
          -2.9276364146342537,
          -2.2248888419212576,
          -0.5792460496666446,
          -2.19457920904838,
          -2.763833317057464,
          -1.9012799845150667,
          -2.6729019495433346,
          -0.3478513829420283,
          -2.6002408407608097,
          -2.9052844806895424,
          -1.9328394647459208,
          -2.499087655138924,
          -2.0419577993787508,
          -2.37141134091585,
          -1.555492037856348,
          -2.2305948807944156,
          -1.149089411882337,
          -2.591694642093089,
          -3.0767870333593117,
          -5.190414867292995,
          -2.728256788279409,
          -2.7231019004613097,
          -2.3478056813436243,
          -2.833404718846335,
          0.9752982044781169,
          -4.613987495158232,
          -2.6483314560550544,
          -2.833470954653009,
          -2.4259529787324627,
          -0.30873034265291477,
          -4.030746852929224,
          -2.096989945868704
         ],
         "xaxis": "x",
         "y": [
          -0.7695422874671338,
          -2.8691342190057667,
          -0.05543162765663227,
          -0.8664854627001787,
          -0.8492672582290085,
          -0.48197015444530966,
          -0.6341222349912726,
          -0.8299824584551861,
          -0.9867938364840081,
          0.22216554050469486,
          -0.37050625674833476,
          -0.8042710808552038,
          -0.3416190189059603,
          -1.0747261899029295,
          -0.9473528674717592,
          -0.8751059408128404,
          1.4015001037675472,
          -0.930620377857731,
          -0.7499078542948687,
          -0.9649039691128272,
          -1.356212822279705,
          1.2497245812250628,
          -0.6550194409487865,
          -0.7813310750147499,
          0.7147743261951272,
          -0.10551375604744992,
          -2.7222739879666245,
          -0.6294216814336897,
          -1.4165138382062339,
          1.9076137871668242,
          -0.2921869751566452,
          -0.5777666422611697,
          -0.9124961318763244,
          -0.400775962154187,
          -0.388812040012369,
          -0.8438025987212793,
          -0.8673560216381629,
          2.2856719171084308,
          -0.32429616995462285,
          -0.3737309165033162,
          -1.0584047703107426,
          -1.2813855020067002,
          -0.9197071318775651,
          -0.3369991829952502,
          -0.19007768127851857,
          -0.411213469750987,
          -0.1343241815641079,
          -0.9371234143345861,
          -0.4436581404385323,
          -0.26601178794097835,
          -0.3560615690602322,
          -0.6238745307758583,
          -0.7561879599852362,
          -0.6970807390159178,
          0.8528278090413524,
          -0.405957120501422,
          -0.22705085934648764,
          0.48028018044613513,
          -0.7521676912712618,
          2.852379272242129,
          -0.49597594796808603,
          -0.6488890563748475,
          1.514959928916321,
          -0.5661554820518502,
          -1.7977310712257695,
          -0.5038261193945037,
          -0.9054450589353786,
          -0.670308851701489,
          -2.7881874873390604,
          -0.8713272760394357,
          -1.0382973532697592,
          -0.6109424374309197,
          -1.7505195744455062,
          -2.820946828201065,
          -0.16936621025013993,
          -0.6127234015960574,
          -1.252054980089808,
          -0.954841701398187,
          -0.17188116604914933,
          -0.4957459220293498,
          -1.3172771881699863,
          -0.648104060393897,
          -2.0080886526915616,
          -0.26405068255064373,
          -1.3786657069982904,
          -0.8852235165410051,
          -0.42185077127397536,
          -0.39566664853062794,
          2.3592655177147583
         ],
         "yaxis": "y"
        },
        {
         "hovertemplate": "Class=0<br>Corrupted=1.0<br>x=%{x}<br>y=%{y}<extra></extra>",
         "legendgroup": "0, 1.0",
         "marker": {
          "color": "#FECB52",
          "size": 8,
          "symbol": "diamond"
         },
         "mode": "markers",
         "name": "0, 1.0",
         "showlegend": true,
         "type": "scattergl",
         "x": [
          -0.9140309425608361,
          -2.4100913225756706,
          0.1330542207684191,
          -0.43197659879987105,
          0.40519265676231914,
          -3.213919255261406,
          2.8008477310283895,
          -1.147369168267787,
          -2.8286443810502924,
          -0.4931685875845719,
          2.227084155887443,
          0.924511473583376
         ],
         "xaxis": "x",
         "y": [
          2.1436340677660137,
          -1.829128976409971,
          -0.6255181976473261,
          -0.52187455416414,
          0.326226025459691,
          -2.351752832064016,
          -0.410329202568063,
          -0.3989608987471843,
          -0.06405090096774592,
          -0.2064379961806822,
          1.2943944420351723,
          -0.7822363943479368
         ],
         "yaxis": "y"
        },
        {
         "hovertemplate": "Class=0<br>Corrupted=0.0<br>x=%{x}<br>y=%{y}<extra></extra>",
         "legendgroup": "0, 0.0",
         "marker": {
          "color": "#FECB52",
          "size": 8,
          "symbol": "square"
         },
         "mode": "markers",
         "name": "0, 0.0",
         "showlegend": true,
         "type": "scattergl",
         "x": [
          -2.8395966544752826,
          -2.9175731125736477,
          -2.4606445017603917,
          -2.60773202798137,
          -2.622135371289595,
          -2.4895492465451965,
          -2.5298213804043748,
          -2.8355929729399287,
          -3.136940388511134,
          -3.6049069944714445,
          -2.032938984823234,
          -2.9281379347493104,
          -2.266853435121795,
          -2.572794420221751,
          -2.4607277307866386,
          -2.9736409080484694,
          -2.792605219481315,
          -2.5458368087030228
         ],
         "xaxis": "x",
         "y": [
          -0.7701765288431137,
          -0.4695037824210519,
          -0.43793461746477375,
          -0.7716758705895032,
          -0.5119694180441172,
          -1.1646148255100102,
          -0.1819896782588726,
          -0.5648676144277086,
          -0.561893700934518,
          -0.6317344874648539,
          -0.43055460596364303,
          -0.2933841097817586,
          -0.4474572977271786,
          -1.0300982668044514,
          -1.335318074970373,
          -0.47421451822322136,
          -0.4916269928404431,
          -0.2678975338788183
         ],
         "yaxis": "y"
        },
        {
         "hovertemplate": "Class=13<br>Corrupted=N/A<br>x=%{x}<br>y=%{y}<extra></extra>",
         "legendgroup": "13, N/A",
         "marker": {
          "color": "#636efa",
          "size": 8,
          "symbol": "circle"
         },
         "mode": "markers",
         "name": "13, N/A",
         "showlegend": true,
         "type": "scattergl",
         "x": [
          -1.0063016452102758,
          0.30327976384045896,
          -1.531333909434804,
          -0.9647832385870379,
          0.009242935713525382,
          -1.0890020083473564,
          0.09597056391796854,
          0.6602324186427463,
          1.0305319598483884,
          0.9525878151265438,
          0.5366740070134215,
          0.9037649278271456,
          0.5937460799399731,
          -0.2358247714745318,
          -3.7492787172343705,
          -0.7353527409320929,
          -1.0781721589754376,
          2.8739522998415814,
          1.2551666114279465,
          0.7586722312792084,
          0.6818325336780864,
          0.8074320824850116,
          0.9882486798101666,
          0.24986858298159068,
          -1.1784379298393453,
          0.1680500340846235,
          0.938480228544891,
          1.364750689244997,
          0.37122665526590765,
          1.3258748334059798,
          0.6802462401163553,
          1.6864060462817811,
          -0.9568219367474606,
          0.1466055175616347,
          -1.0042383619864104,
          0.6584742354738021,
          0.701053467002108,
          1.229681601508268,
          -0.37622677056071674,
          0.8536168464620842,
          1.0836278586683954,
          2.1528282762992643,
          -0.9474190267067707,
          0.28610685657170126,
          0.13754898683335334,
          1.036980394024868,
          0.8224678038463603,
          1.216758424377996,
          0.7221092657721625,
          1.382325921048902,
          0.7320327411798537,
          1.528743971678926,
          0.11135028657599524,
          0.5219843157695182,
          -0.5051016516414806,
          1.0982888150699874,
          -0.1833233838039027,
          0.2556778729570508,
          0.5548360155767009,
          0.6939919755301244,
          -0.846776388796201,
          0.8060342681117718,
          0.7165545001280451,
          1.1383393587377362,
          0.1512553786427437,
          1.5722155549336354,
          0.5488900396407789,
          0.5504288378429806,
          0.9449177411856465,
          0.9057167708985524,
          1.0948244626260355,
          -0.4971685414717582,
          -0.22173519812318568,
          3.94866063015277,
          0.6621180573309425,
          0.3045605231052263,
          1.1492599804500225,
          0.6891397301777852,
          -2.0273134343219024,
          2.4742938060132156,
          0.2769772165252098
         ],
         "xaxis": "x",
         "y": [
          -1.1761072578211547,
          0.24181421245203844,
          -2.08619484997818,
          2.832638253401075,
          -0.2616184173268044,
          -2.9780168574644788,
          -1.3833836895668044,
          -0.283564688611439,
          -1.0419692312685451,
          -1.5090022956515834,
          -0.7944161721104664,
          -0.4649439306340677,
          -0.5805590479308064,
          -1.548302537964857,
          0.20097289738721172,
          -0.6946939487291933,
          -0.2475640540517545,
          -0.44387987817891245,
          -1.492416207019441,
          -0.03870324616603851,
          -1.1231405320973051,
          -1.400316028980383,
          -0.6388699998220173,
          -0.2531638328615521,
          0.28906249298005954,
          -0.4953158194070347,
          -0.782896962060977,
          -0.45352520625334075,
          -0.631720540273733,
          0.20500528672006046,
          0.43909273435723134,
          -1.332768925662914,
          -0.1254454095800036,
          -0.35495557552500684,
          2.2586928565410505,
          -0.7234418491815213,
          -1.5625143114070161,
          -1.6509374637072527,
          -0.2660132334274303,
          -2.0862450229511693,
          -0.489461745915559,
          2.165906720641183,
          -2.8165494569923544,
          -0.811323723263729,
          -1.4214068830538475,
          -1.132656792596532,
          -1.508361170419471,
          -0.8235584420074422,
          -0.24893220325569926,
          -0.8383489422442516,
          -0.7885740588614607,
          -1.8409557218616355,
          0.7262404007551879,
          -1.2701898918271912,
          -1.4275290075611193,
          0.06050633609121815,
          2.9679813567684827,
          -1.6219409351952605,
          -0.7361811807928931,
          -0.10446337488558591,
          -2.2051189053597864,
          2.98071989940789,
          -0.280562817224158,
          -0.2637499921420841,
          -1.0969282280831647,
          1.4121457436219897,
          -0.7202080939136574,
          -1.082003895327422,
          -0.8490849027797258,
          -0.4244614126187749,
          -0.5794604163932284,
          -1.3197169401864068,
          -2.0486462385676822,
          -1.4945724083355136,
          -1.104737491091944,
          -0.3771398642565776,
          -0.7162121108710283,
          1.7650975097101802,
          -2.888332955064669,
          0.37126565691830077,
          -0.5852390192867726
         ],
         "yaxis": "y"
        },
        {
         "hovertemplate": "Class=13<br>Corrupted=1.0<br>x=%{x}<br>y=%{y}<extra></extra>",
         "legendgroup": "13, 1.0",
         "marker": {
          "color": "#636efa",
          "size": 8,
          "symbol": "diamond"
         },
         "mode": "markers",
         "name": "13, 1.0",
         "showlegend": true,
         "type": "scattergl",
         "x": [
          1.9889520053645673,
          3.089362183160782,
          0.18366844929011625,
          -2.4581525954296928,
          0.4413148492074633,
          0.934952945775301,
          -0.2305810994794215,
          -0.3492890167660016,
          -1.9236349152350436,
          2.480055461769447,
          2.41930636809993,
          2.6486299457619036
         ],
         "xaxis": "x",
         "y": [
          -2.9378010761398117,
          -0.8745593479743959,
          1.0403460198956145,
          -0.6343871309816085,
          -1.1137558507631942,
          -0.3272301218815611,
          -2.159530681886192,
          -1.381755311787472,
          1.4019741556401757,
          -0.36664124483913013,
          -1.7798428378452646,
          0.09710673347242192
         ],
         "yaxis": "y"
        },
        {
         "hovertemplate": "Class=13<br>Corrupted=0.0<br>x=%{x}<br>y=%{y}<extra></extra>",
         "legendgroup": "13, 0.0",
         "marker": {
          "color": "#636efa",
          "size": 8,
          "symbol": "square"
         },
         "mode": "markers",
         "name": "13, 0.0",
         "showlegend": true,
         "type": "scattergl",
         "x": [
          0.7237904398565009,
          1.1127832062987448,
          0.391524191537154,
          0.7838781599514724,
          1.1617986131325542,
          0.5363961043952411,
          0.9818220069262404,
          0.733855141420408,
          0.26430601563439465,
          0.6192356987350996,
          0.32235599116639835,
          1.2149587768179826,
          0.26715882617951786
         ],
         "xaxis": "x",
         "y": [
          -0.8171277172404915,
          -0.4967392357329381,
          -0.4349776667287075,
          -0.8183460253739938,
          -0.45401960644007183,
          -0.5855779929454751,
          -0.7671220371726815,
          -0.8002106666132583,
          -1.0265577041622214,
          -0.7406408976116841,
          -1.3381899095292855,
          -0.4469362881182805,
          -1.1644862331618326
         ],
         "yaxis": "y"
        },
        {
         "hovertemplate": "Class=7<br>Corrupted=N/A<br>x=%{x}<br>y=%{y}<extra></extra>",
         "legendgroup": "7, N/A",
         "marker": {
          "color": "#EF553B",
          "size": 8,
          "symbol": "circle"
         },
         "mode": "markers",
         "name": "7, N/A",
         "showlegend": true,
         "type": "scattergl",
         "x": [
          2.2461594058507255,
          1.6044379395556545,
          2.4574845260058216,
          -2.2787695010101916,
          1.6969824233573458,
          2.1741182211544032,
          1.8102653455374311,
          2.2333992157205977,
          0.9978843291498576,
          4.308559594044026,
          2.812725305279765,
          1.0981826396658487,
          4.087224454991218,
          0.6804233785756917,
          2.042416585574257,
          1.0143508410049062,
          2.028030909724376,
          1.8757841458445879,
          1.8614367062707944,
          -1.3289248375387215,
          1.969876844786024,
          2.184363376988142,
          1.2829985834892548,
          0.0475068535442718,
          1.5954153769006136,
          0.9475039431267944,
          1.2605936007842586,
          0.9569889350004996,
          1.4336448761254121,
          -2.6030295240528845,
          1.905556562899209,
          2.1134885947476727,
          0.49334485922888016,
          1.767983511343044,
          1.9335992187183315,
          -1.036530219126869,
          1.3012915052785519,
          -0.21153182156064632,
          0.35434031112315517,
          -0.5918421105788875,
          2.334176761420267,
          1.4105128787951389,
          1.452293330999465,
          -0.43204707302956646,
          1.8993647410032168,
          1.7818889385108276,
          -1.3131394313665872,
          -2.0403371485900927,
          2.948780549820023,
          1.9724783636623024,
          2.958049649444138,
          -1.6284908057270808,
          2.3464149387071225,
          1.9023454208775816,
          1.7415292950769605,
          -0.6464952725574902,
          0.8522147902376954,
          0.7068107322292062,
          -2.392047455304402,
          0.7949822710678255,
          1.5608956163795735,
          -0.38296123657798387,
          -1.2123568275103116,
          2.9435906902460895,
          2.1106018131199935
         ],
         "xaxis": "x",
         "y": [
          1.589787966108484,
          1.1571419869469397,
          1.7401864916166487,
          2.206544629382639,
          1.1815995387912834,
          1.1126480380910098,
          0.8394342870319148,
          1.0566484748653013,
          1.1041171049475567,
          0.5043118060157094,
          -1.5023209796716168,
          1.4822319751413586,
          -0.3560114609293357,
          0.9729676381481848,
          0.23729845370037983,
          1.1840495044476698,
          0.5000493270908898,
          1.2116203127572356,
          0.9019487710826221,
          2.6027317977538726,
          1.078325804233183,
          0.7929891619717606,
          0.8353445334241532,
          0.7066846530644292,
          1.0589395738386376,
          -0.6161081649172321,
          -0.9752341556100715,
          0.8285952884627191,
          1.1422501111935166,
          -0.31356900341910127,
          0.6733823755827987,
          0.48149925362926344,
          -0.33496097028969013,
          0.8166974114128442,
          0.7690325831213882,
          0.3277416145246533,
          1.059103158714808,
          -0.058517631927299224,
          -0.16939309909516528,
          2.7910370106178815,
          1.2990807164811151,
          0.3701440344942169,
          1.4533777763992368,
          1.1039169276914755,
          0.740810889641992,
          1.2072460590175027,
          3.332713431756729,
          -0.5552185516076021,
          0.3923619008000119,
          0.8730853646549742,
          1.1403997083056927,
          2.6788335518027186,
          0.9801755327264694,
          1.1315665482307913,
          0.8114500503340671,
          0.00013738413697516791,
          -1.5758273509894896,
          -0.37598576730142785,
          -0.38556620851985274,
          -0.8518732763769495,
          0.6620814454152313,
          0.8558357862764684,
          -0.9336943611759473,
          1.4784925229556312,
          0.4836709822798025
         ],
         "yaxis": "y"
        },
        {
         "hovertemplate": "Class=7<br>Corrupted=1.0<br>x=%{x}<br>y=%{y}<extra></extra>",
         "legendgroup": "7, 1.0",
         "marker": {
          "color": "#EF553B",
          "size": 8,
          "symbol": "diamond"
         },
         "mode": "markers",
         "name": "7, 1.0",
         "showlegend": true,
         "type": "scattergl",
         "x": [
          2.44445447748113,
          -0.6839610957053825,
          -1.9577597865531498,
          0.5371306256026481,
          3.9264388809887274,
          -2.109122762566524,
          0.042327594355037676,
          0.3774987701971762
         ],
         "xaxis": "x",
         "y": [
          1.4183067020340832,
          -0.3627724470698873,
          0.1736850406314111,
          -1.1868861780589728,
          -2.212121380129127,
          -2.328107819328529,
          1.3741294313318,
          -0.1797352204058731
         ],
         "yaxis": "y"
        },
        {
         "hovertemplate": "Class=7<br>Corrupted=0.0<br>x=%{x}<br>y=%{y}<extra></extra>",
         "legendgroup": "7, 0.0",
         "marker": {
          "color": "#EF553B",
          "size": 8,
          "symbol": "square"
         },
         "mode": "markers",
         "name": "7, 0.0",
         "showlegend": true,
         "type": "scattergl",
         "x": [
          1.4698376638674198,
          1.745461623383273,
          2.6565259402318175,
          2.116175293661392,
          1.4743395399194927,
          1.8334531127535842,
          2.3484269744218484,
          1.970941701662301,
          1.030317883045187,
          1.201884271228772,
          1.480182028416125
         ],
         "xaxis": "x",
         "y": [
          0.9032662381002806,
          0.9653982376328814,
          0.9079643856904279,
          1.3851132712534135,
          0.9718909932865804,
          0.8886423534561287,
          1.429772524096349,
          1.0296645896962378,
          0.7653499423394464,
          1.0407989467558767,
          1.6765125088583006
         ],
         "yaxis": "y"
        },
        {
         "hovertemplate": "Class=4<br>Corrupted=N/A<br>x=%{x}<br>y=%{y}<extra></extra>",
         "legendgroup": "4, N/A",
         "marker": {
          "color": "#00cc96",
          "size": 8,
          "symbol": "circle"
         },
         "mode": "markers",
         "name": "4, N/A",
         "showlegend": true,
         "type": "scattergl",
         "x": [
          -2.2713480746175003,
          -0.5561977777410256,
          -0.8212358326419925,
          -2.467573287154633,
          -0.9851878465607711,
          -1.1352898718003641,
          -2.3887123322887827,
          0.33487851072893093,
          -2.213235112810468,
          -1.6600567017896144,
          -1.3048544439567618,
          -2.579898040350899,
          -2.5603342911001175,
          3.3681606106174704,
          -2.476697529256922,
          -2.2762462636889973,
          -0.5853097177747795,
          -2.5984189891297143,
          -2.411525789440717,
          -2.20503039385251,
          -2.389441691293121,
          -0.7477682836762619,
          3.9206894047016476,
          -1.1598355054345815,
          0.5135352557031384,
          -1.9784358984468784,
          -1.9691580183953559,
          0.24348051223784653,
          -1.7877865143562814,
          -2.393857244515764,
          0.26366907753946706,
          -1.966694102485808,
          -2.0418082781665814,
          -2.1688078357370033,
          -1.499118784644801,
          -0.5649311917253724,
          -0.3300811423416613,
          -2.6390324518636485,
          -1.760534368803627,
          1.9420012745470256,
          -2.7793270282264815,
          -0.553262097977193,
          -1.300451663171599,
          -2.085331871556259,
          -2.2959658513574497,
          -0.4667703530609209,
          1.1017208175970417,
          -2.7899551711309987,
          -3.528863826365239,
          -0.38672478922436626,
          -2.1135137355416926,
          -1.5655938877747773,
          -1.5639501568164134,
          -2.6112661694937875,
          -3.0472292138759225,
          -2.227714259348758,
          -1.292592597588885,
          -2.4340024778167493,
          -2.918566242178405,
          0.019076384649164068,
          -0.5904944042913828,
          -1.064723907018255,
          -2.3081459184869555,
          -2.518454160255581,
          -1.8349717427632681,
          -2.588118556217972,
          -1.8409893253316854,
          0.8194113778487417,
          -1.6290930301797097,
          -1.7105090845651991,
          -1.1896810389684422,
          -1.7991831934673395,
          -3.3692205360066025,
          -0.21549542806101604,
          0.943450641126024,
          -2.3030995743494715,
          -2.323615013968302,
          -4.264956008202949,
          -0.7321767990172222,
          -2.034614133554764
         ],
         "xaxis": "x",
         "y": [
          1.9388195265250538,
          -0.531909973055237,
          3.967881768062695,
          3.034209155613214,
          2.379042542403517,
          1.5922009810034836,
          1.9159981560030508,
          -0.46747611473052164,
          1.9077606679475585,
          1.3919022103295886,
          1.5778757097270104,
          -0.9172289172135014,
          2.5493903982228794,
          -0.513794903421126,
          2.0977048659101536,
          1.183020879426467,
          2.9353687392793457,
          -1.0063212846087493,
          1.9232489264685477,
          2.657993486620625,
          2.0356250114954992,
          2.902747330252722,
          -0.011912076580668032,
          0.05734010543680736,
          0.835878000574476,
          1.6813937193860733,
          2.5005499333147156,
          2.1668703609044018,
          1.497813379105731,
          0.1378491295528661,
          -0.5018884272052884,
          1.9005173179308932,
          2.4578516908404615,
          1.4372307896023306,
          2.215879471689428,
          -0.6832621171280988,
          0.5928219358107762,
          -0.720460865898865,
          1.3512467869383384,
          0.0010687658716743954,
          1.666456152012703,
          1.1081993051768884,
          1.7761840571410907,
          2.604972650370305,
          2.1694939239600917,
          0.6735478616228041,
          -1.58656577426136,
          1.3203943063147419,
          5.786295967780099,
          -0.35506794763068916,
          1.982158935732184,
          2.002215426354751,
          -2.266551411855474,
          2.201835978521905,
          2.497331219725855,
          1.5179549283449794,
          2.0469726031222466,
          2.379477665034153,
          1.6720581983091747,
          -0.5162684947472604,
          1.549925228536013,
          -0.9723690938562483,
          2.06030704967137,
          2.5581044073323413,
          2.134677074346616,
          1.6816387124082388,
          1.773214974106326,
          -1.0050324180605203,
          -1.955182126032254,
          -0.9542354610840896,
          2.2769361137936235,
          2.3420011646936763,
          -0.5662330553640071,
          3.1567802593298984,
          -0.986216759678569,
          1.7025934384821722,
          1.5424338895753833,
          -0.6629536425220377,
          -1.6197216956412483,
          2.546526367829089
         ],
         "yaxis": "y"
        },
        {
         "hovertemplate": "Class=4<br>Corrupted=1.0<br>x=%{x}<br>y=%{y}<extra></extra>",
         "legendgroup": "4, 1.0",
         "marker": {
          "color": "#00cc96",
          "size": 8,
          "symbol": "diamond"
         },
         "mode": "markers",
         "name": "4, 1.0",
         "showlegend": true,
         "type": "scattergl",
         "x": [
          0.03175460630421723,
          -2.6178439788954826,
          1.234458450912221,
          -2.0051562537255143,
          1.7377048006886335
         ],
         "xaxis": "x",
         "y": [
          -0.48254353537160066,
          1.9589524549155846,
          -0.9057757904033581,
          -1.035321206222262,
          -0.08644211004118779
         ],
         "yaxis": "y"
        },
        {
         "hovertemplate": "Class=4<br>Corrupted=0.0<br>x=%{x}<br>y=%{y}<extra></extra>",
         "legendgroup": "4, 0.0",
         "marker": {
          "color": "#00cc96",
          "size": 8,
          "symbol": "square"
         },
         "mode": "markers",
         "name": "4, 0.0",
         "showlegend": true,
         "type": "scattergl",
         "x": [
          -2.104745159812331,
          -1.984426942643414,
          -1.9127951037369428,
          -2.187079491515669,
          -2.536870921039647,
          -1.1264925805191253,
          -2.7816235669273817,
          -1.731739016712291,
          -2.0922858739197054,
          -2.4696958725751323,
          -1.5141148273470777,
          -1.926785954180769,
          -1.9916954712232684
         ],
         "xaxis": "x",
         "y": [
          1.7282851774370658,
          1.8979460991158197,
          2.47684883505281,
          1.8832303375178632,
          2.536946883474217,
          1.7836441899419453,
          2.4376098268231705,
          1.43547710654563,
          2.3831608347044706,
          1.7060398746123433,
          1.7292389710440377,
          1.914990235540226,
          2.3892634840366185
         ],
         "yaxis": "y"
        },
        {
         "hovertemplate": "Class=12<br>Corrupted=N/A<br>x=%{x}<br>y=%{y}<extra></extra>",
         "legendgroup": "12, N/A",
         "marker": {
          "color": "#ab63fa",
          "size": 8,
          "symbol": "circle"
         },
         "mode": "markers",
         "name": "12, N/A",
         "showlegend": true,
         "type": "scattergl",
         "x": [
          -2.3520314948211456,
          0.9740024021138447,
          1.3585901122709376,
          -0.20017385444791225,
          -0.9881610093186454,
          -1.4160991705871255,
          -1.618208679767679,
          -1.3892280664178394,
          1.7754734023459153,
          -1.3312552059758378,
          -0.7867400788110384,
          0.29049818344967665,
          -0.5752436673074036,
          -0.9501233273725355,
          2.465120626114768,
          -1.0749656929182638,
          -1.0893181100945688,
          -0.5819368756440558,
          -1.3877672079417462,
          -0.5741449902523346,
          -2.964883247636175,
          -0.968200229222511,
          -0.7602634775132897,
          -2.2803445131070452,
          -0.7976224314809169,
          -0.654090375887617,
          -2.7328527293260216,
          0.25117310716215024,
          0.5231525508984914,
          -1.344505915325782,
          0.2856629405186168,
          -1.3448678897489252,
          -1.2762845258447553,
          -0.3978372300023931,
          -0.8729065089285868,
          -0.24685119603871933,
          -2.4049637614997343,
          -1.0881753197340012,
          -0.9136634240286934,
          -0.43456108247857517,
          -1.5007499541298692,
          -0.9601254476403328,
          -1.09297779999405,
          -1.173235065285117,
          0.9313392552155729,
          -2.011789304686452,
          -1.179615032806254,
          -1.9860426569600602,
          -1.2951111789490366,
          -1.227711628414606,
          -0.6861511654338202,
          -1.1480245523520507,
          -2.7172338521000223,
          -1.1566369991870804,
          -0.7745409538468163,
          -1.6131134327394547,
          -1.3526701500683946,
          -0.9197995506388906,
          -0.3267156864957628,
          2.0782803517133184,
          -1.3024164017065236,
          1.9062384005744994,
          -2.3763941902185115,
          0.2156852790785733,
          -1.3055336355773628,
          -1.4792829564936252,
          -1.6192663223086154,
          -1.817266943298906,
          -0.08207001006763832,
          -2.3010542565631895,
          -0.4953620771476999,
          -0.8405788859082935,
          -1.3493990621823688,
          -2.0077446910151973,
          -1.7208832416899205,
          -0.052473180545113546
         ],
         "xaxis": "x",
         "y": [
          -1.3871452925242778,
          -0.9623589295677928,
          -0.09330497292147615,
          -0.5088615128219771,
          -1.413091562266515,
          -0.7561167882172452,
          -1.876870668571139,
          -1.5972213560255524,
          -0.9788366539500462,
          -1.1931938530579431,
          -1.3060885001781326,
          -2.203285527580344,
          2.9698695559594404,
          -1.6790729143397818,
          -0.984506892633984,
          -1.6400807234638668,
          -1.1535019384591116,
          -3.599678866766525,
          -1.6818155348597053,
          -0.6960997225849347,
          -1.7227832738735733,
          -1.3533378230559774,
          -2.091142879160269,
          2.6306942081015543,
          -1.7418558115408347,
          -1.5584289893940326,
          -1.4537401634907994,
          -0.6479998060451835,
          -0.28719328455759885,
          -1.2797540549622326,
          -1.7957242713119324,
          -1.5059676126036388,
          -1.7438921937935756,
          -0.8568834143300065,
          -1.1446605354949733,
          -0.06377835752269366,
          -1.9879088948051564,
          -1.0487972438158322,
          -1.8636444293887544,
          -0.2902330588978463,
          -1.4177166865268036,
          -1.3582403029136552,
          -1.1539044929540614,
          -1.4612470079014548,
          0.2346909982173083,
          -1.2553214612509564,
          -1.130591952653102,
          -1.7123526041712347,
          -1.5546266832259419,
          -1.2082601093945837,
          -1.2593099425658598,
          -1.5329568584910145,
          -4.699172397600585,
          -1.5693871373908257,
          -1.5818260632826506,
          -1.5379457045829434,
          -1.4024811207966315,
          -1.3867662661840499,
          -1.2120713825014353,
          -3.3963976249867853,
          -1.588999570911679,
          -0.6003997724392204,
          -0.43520085774270945,
          2.3426140645157743,
          -1.1364579899151939,
          -1.671451681565627,
          -1.104031742639779,
          -1.3904423450131538,
          -0.10484997919375083,
          -0.9054190724143995,
          3.0472128068830844,
          -1.5211808134313611,
          -2.257944755826452,
          -1.2872114286804304,
          -1.602792520201171,
          -0.045872497673829976
         ],
         "yaxis": "y"
        },
        {
         "hovertemplate": "Class=12<br>Corrupted=1.0<br>x=%{x}<br>y=%{y}<extra></extra>",
         "legendgroup": "12, 1.0",
         "marker": {
          "color": "#ab63fa",
          "size": 8,
          "symbol": "diamond"
         },
         "mode": "markers",
         "name": "12, 1.0",
         "showlegend": true,
         "type": "scattergl",
         "x": [
          -0.7191768611448388,
          1.8474234713054256,
          -0.04025105595530102
         ],
         "xaxis": "x",
         "y": [
          -0.24350179199898522,
          1.1998480069057569,
          -0.38175119041037014
         ],
         "yaxis": "y"
        },
        {
         "hovertemplate": "Class=12<br>Corrupted=0.0<br>x=%{x}<br>y=%{y}<extra></extra>",
         "legendgroup": "12, 0.0",
         "marker": {
          "color": "#ab63fa",
          "size": 8,
          "symbol": "square"
         },
         "mode": "markers",
         "name": "12, 0.0",
         "showlegend": true,
         "type": "scattergl",
         "x": [
          -1.4670547853444227,
          -1.536420147710618,
          -0.6554068237641271,
          -1.9916277815051648,
          -2.2758426324628944,
          -0.8200931963471779,
          -1.8930701835391974,
          -0.7069038206253033,
          -0.7679819440106624,
          -0.9471786765280895,
          -1.8950500629233664,
          -1.6233185157965753,
          -1.079392424426136,
          -1.486785272752984,
          -1.5781865732482276
         ],
         "xaxis": "x",
         "y": [
          -1.8778479694405912,
          -1.3937472561930162,
          -1.0691074590078824,
          -1.1149867461654657,
          -1.4487232119579605,
          -1.9630599130933477,
          -1.4920709548801776,
          -1.1411909047174758,
          -1.601621045320669,
          -1.1458289384294864,
          -1.3564307009501284,
          -1.1403138145188079,
          -1.3681883207344272,
          -1.347779457310817,
          -1.2716538615852788
         ],
         "yaxis": "y"
        },
        {
         "hovertemplate": "Class=3<br>Corrupted=N/A<br>x=%{x}<br>y=%{y}<extra></extra>",
         "legendgroup": "3, N/A",
         "marker": {
          "color": "#FFA15A",
          "size": 8,
          "symbol": "circle"
         },
         "mode": "markers",
         "name": "3, N/A",
         "showlegend": true,
         "type": "scattergl",
         "x": [
          -0.03427439049225144,
          0.06459569492337712,
          0.42094455739813486,
          -1.0407603582980756,
          -0.6934157934654327,
          -0.6141421358840115,
          -0.4051063355259567,
          0.5974760638873718,
          -0.2039302862836686,
          -0.9093198075169611,
          -0.3305958134003255,
          1.3170245174963886,
          2.2870600461143953,
          0.7246952073504279,
          2.012117204382983,
          -0.8423000607194959,
          -3.0950845081672016,
          0.8917091488232904,
          0.12202904730809887,
          0.7008511740366153,
          -0.9465147236914542,
          0.46019893675830853,
          -0.19668273194733402,
          -0.2638488353841834,
          3.463283996120472,
          -0.870291877648051,
          -0.7112031604004331,
          -0.42219909089582214,
          -0.7497540517863004,
          -0.265604207276809,
          -1.7142793500150504,
          -0.5075890431380383,
          -0.48716579526669207,
          1.4209954135227603,
          -0.5824801272485015,
          -0.9621087334268916,
          -1.4772190065403767,
          -0.3326560616898598,
          -0.3880655673566203,
          1.0176360601641556,
          -0.6558681777217347,
          1.437586066424427,
          -1.119789328230546,
          -0.4353488556282992,
          3.1300557179847535,
          0.6621637094378007,
          -0.036805336199837765,
          -0.9067767225160761,
          0.0872501396030821,
          -0.06163465596482336,
          0.042404885863449364,
          -0.3866639872376362,
          -0.2033857359902646,
          -0.47838476524385803,
          -0.6977660823065421,
          0.04483646523237277,
          -0.17044903727246927,
          0.039883285251464326,
          -0.3955505222846496,
          -0.5815773454256484,
          -0.3107199500859757,
          -1.5228222328106418,
          -0.8395402269003549,
          -0.3394127771500865,
          -0.5016360443008944,
          -0.35875730958952573,
          -1.1544764604617594,
          1.5705536643159832,
          0.2267439480187173,
          -0.2799370641974925,
          -0.2027543610626693,
          1.7728279398436118,
          -0.05729845981675208,
          -2.3184223237785186,
          0.09182997168139459,
          0.9317393705040677,
          -0.6370544542943453,
          -0.9078715085345431,
          -0.788724212978288,
          -0.1320162616370041
         ],
         "xaxis": "x",
         "y": [
          -0.9364740945792123,
          -0.5678890846843982,
          -0.9079422267373001,
          -0.20046333486695542,
          3.290265564251113,
          -0.4953960963657915,
          -0.3276392784406258,
          0.293039868016504,
          0.10610314667809491,
          -1.089096050720522,
          0.34525406993099444,
          -0.8026723116369695,
          -0.305346807552378,
          -0.7076269052336712,
          -0.32038411757338214,
          0.07963638061486429,
          0.9264550074352806,
          0.35260902129852856,
          -0.4688722444382452,
          -1.6767657352148022,
          1.3762456061993793,
          0.2049501726553029,
          -0.03646617803660271,
          0.03442088285013584,
          -0.15183575211754743,
          -0.5493364632195502,
          -0.06719480160583338,
          -0.12851164317260316,
          0.16070726910327565,
          -0.7550376688664477,
          -0.6468678664157915,
          -0.8033795303398221,
          -0.0778761671086538,
          -0.8949352378473194,
          -0.0831738042867825,
          -1.610737904603463,
          -0.016369039815019998,
          0.1704477138964418,
          -0.34534279416287517,
          1.878074479924204,
          -0.5291996224161218,
          0.048265153863358626,
          -1.0006000344773351,
          1.1233046539951201,
          -0.28074213283631744,
          -0.8803044438132649,
          -3.502156983325693,
          -0.3741299309298934,
          0.5647461702817899,
          0.05340266723527279,
          0.0022338121544333055,
          -0.5327309610658797,
          -0.516685785485409,
          -0.08577266252645152,
          1.4274600893629212,
          -0.033477739604802007,
          -0.8174096382049095,
          -0.06309287914713156,
          -1.100400491315956,
          -0.4845847738178619,
          0.20425598352220112,
          -1.7635836831916416,
          0.11860491029596638,
          -0.03421876340252609,
          -0.4376063179712289,
          -0.5377037175689906,
          -0.03868326797270813,
          1.2783076631915546,
          0.2888898686202128,
          0.2806894277618081,
          0.010508454096273523,
          -2.8343077603511992,
          1.5324554824415997,
          -0.2969881275698687,
          -0.23898725625611525,
          0.894468350301565,
          -0.335707549991971,
          -0.09254609502597204,
          2.7211490929999806,
          -0.24668083690188275
         ],
         "yaxis": "y"
        },
        {
         "hovertemplate": "Class=3<br>Corrupted=1.0<br>x=%{x}<br>y=%{y}<extra></extra>",
         "legendgroup": "3, 1.0",
         "marker": {
          "color": "#FFA15A",
          "size": 8,
          "symbol": "diamond"
         },
         "mode": "markers",
         "name": "3, 1.0",
         "showlegend": true,
         "type": "scattergl",
         "x": [
          -0.886781581087335,
          1.8944261228261419,
          -1.6050730387370216,
          -0.8581457481031712,
          0.14212483267182358,
          -0.7626821274446851,
          0.7332115265676776
         ],
         "xaxis": "x",
         "y": [
          1.3918802869323685,
          1.422283830621011,
          -1.102274751656746,
          -0.9952391438147778,
          -0.8365768278522431,
          -0.9084144357819084,
          0.8734780151881668
         ],
         "yaxis": "y"
        },
        {
         "hovertemplate": "Class=3<br>Corrupted=0.0<br>x=%{x}<br>y=%{y}<extra></extra>",
         "legendgroup": "3, 0.0",
         "marker": {
          "color": "#FFA15A",
          "size": 8,
          "symbol": "square"
         },
         "mode": "markers",
         "name": "3, 0.0",
         "showlegend": true,
         "type": "scattergl",
         "x": [
          -0.9044690777353159,
          -0.5835314917815014,
          -0.41592884832842086,
          -1.420277932837696,
          0.6180268168808828,
          -0.4053154641614055,
          -1.0321225503632032,
          -0.1497014507989545,
          -0.4333332582401979,
          -0.21407324863741656,
          0.09143920280956212,
          -0.2634351491286679,
          0.22741765002133477,
          0.09460125733059896,
          -0.527422468948067,
          -0.6881481749520428,
          -0.4430203365004986,
          -0.622564842844538,
          0.34413474553361606,
          -0.9403475924234834,
          -0.08747732135496106,
          -0.03711494678268937,
          -0.3778463136463103
         ],
         "xaxis": "x",
         "y": [
          -0.33864962309828156,
          -0.3546728922050311,
          -0.8909248552457181,
          -0.10393996877624408,
          0.45219593927196855,
          0.7075721677841993,
          -0.37398644466657976,
          0.5392073540230504,
          -0.176398628886745,
          -0.8405137197632124,
          -0.3250401337116454,
          -0.0054681174086107735,
          0.008303231771948222,
          -1.0773390197283943,
          -0.15548785662517411,
          0.05733485660456187,
          -0.23169521310420998,
          -0.16760543258574942,
          0.24030583231014022,
          -0.022723848253264362,
          0.10704036879256615,
          -1.1748419278953117,
          -0.06842378526742729
         ],
         "yaxis": "y"
        },
        {
         "hovertemplate": "Class=5<br>Corrupted=N/A<br>x=%{x}<br>y=%{y}<extra></extra>",
         "legendgroup": "5, N/A",
         "marker": {
          "color": "#19d3f3",
          "size": 8,
          "symbol": "circle"
         },
         "mode": "markers",
         "name": "5, N/A",
         "showlegend": true,
         "type": "scattergl",
         "x": [
          -0.010144180022128442,
          -0.06254166651741623,
          -0.2778296905148154,
          0.09275407214194908,
          -0.5555319265255956,
          -0.3399057395810576,
          -0.2215828977730042,
          -1.0209795073981598,
          -0.19505426724956354,
          -0.15324281027215494,
          -2.5521219494008647,
          -0.8510367751955528,
          4.289523636859073,
          -0.5878764326747195,
          -0.18084815386570058,
          -0.38374300548538076,
          -0.5437464639376731,
          0.39874325898635815,
          -0.2226528068968428,
          -0.07904522252617378,
          -0.28646268516637285,
          -0.7468169722872762,
          0.0835904218961843,
          -0.8969370725402389,
          -1.5269441933648735,
          -0.06785502892540443,
          1.7068846270683122,
          -0.2947733237971587,
          -0.11761105314841133,
          0.2769245244422734,
          -2.451282102918501,
          -0.44567413066991896,
          -0.19125446202803004,
          -0.8179562740199633,
          -0.18011607558523965,
          0.7595762711845838,
          -0.5844560309943649,
          -0.3045008557150212,
          -0.0204787927680638,
          4.2902511914392365,
          0.08544243384448542,
          1.5114218768440457,
          -0.6137846458427998,
          -0.3138501951077991,
          -0.7083767162050917,
          0.05722457216591804,
          -0.5134224839297987,
          3.535509750447675,
          -0.09962130137751737,
          0.1840091781117828,
          0.4668350724663424,
          -0.7255083102467693,
          -0.024470700391961305,
          2.4971492543025477,
          -1.53383486299028,
          -0.3650250702028275,
          -1.290675859744604,
          0.2075752285440687,
          0.691330012824354,
          -0.6619261131460317,
          -0.3329044677246319,
          -0.17574112483949292,
          0.25560517435853314,
          -0.15022621369987638,
          -0.0194883153054822,
          -0.08794677663188756,
          -0.07537995383755336,
          -1.8072166916088042,
          0.0022719816712036007,
          0.1736817263781443
         ],
         "xaxis": "x",
         "y": [
          0.6886293037560822,
          1.5195070782146658,
          0.76344468983002,
          0.9025907795467022,
          1.0894423646482803,
          1.2948120303993058,
          0.975271967953902,
          1.0673060362333884,
          1.2426492117064656,
          0.7643896733534097,
          -1.0999887954500946,
          0.7252577843806224,
          -0.4925524947769069,
          1.389456193913407,
          -0.38502355362972024,
          1.5047750051431696,
          1.284101543030654,
          0.44635698949979347,
          0.9589049707460683,
          0.8324566425128584,
          1.4641719110170772,
          3.146586960323292,
          1.4636528899112704,
          0.6136843191083654,
          2.0107623517386903,
          -0.2404170505021943,
          1.3951454114419743,
          0.9451255685487613,
          0.7896580260104797,
          1.1859004974724645,
          0.3663621278658405,
          1.2062226344899996,
          1.543917867314553,
          1.1145175678603179,
          0.7436822883688375,
          1.1977655960280131,
          1.4872497543910062,
          1.1918853954281963,
          0.8433514192622015,
          2.8532135332805875,
          0.8238523738306214,
          2.9320225446028227,
          -0.12685816763368843,
          -0.20001523700532794,
          1.535965379556728,
          0.9109592321730792,
          1.1113951460401352,
          0.0037056268740283684,
          1.2034251248273815,
          0.5915417568078364,
          1.9517222771340403,
          1.1465162560607347,
          0.5509161485974954,
          -0.3879675841748742,
          1.4083144368274352,
          1.1070095143765284,
          3.258164697713589,
          -0.19429967448289417,
          -0.4593900272100742,
          1.1582652319034827,
          0.7497285906471681,
          1.2894899962795867,
          0.9213483734404687,
          0.6008935508938826,
          1.174777292988381,
          1.262873499091377,
          1.212752071522681,
          2.175108039398423,
          1.2104789898868704,
          1.6997317493245092
         ],
         "yaxis": "y"
        },
        {
         "hovertemplate": "Class=5<br>Corrupted=1.0<br>x=%{x}<br>y=%{y}<extra></extra>",
         "legendgroup": "5, 1.0",
         "marker": {
          "color": "#19d3f3",
          "size": 8,
          "symbol": "diamond"
         },
         "mode": "markers",
         "name": "5, 1.0",
         "showlegend": true,
         "type": "scattergl",
         "x": [
          -1.2055365869811905,
          -3.4774878363149115,
          -1.0933653312069547,
          0.8213378224698369,
          -3.5413387141731114,
          1.899654449623699,
          -0.29713541249418096,
          -1.605020868205689,
          2.0572399291555548,
          -0.013526543999509082,
          -0.7616412905811467,
          0.7745209398129178
         ],
         "xaxis": "x",
         "y": [
          -0.41515513832078166,
          -2.1581634793094615,
          -2.0214071083965877,
          1.8911125298810831,
          -1.4195254489104616,
          -1.020565488866023,
          0.172674459906633,
          1.8556117399652996,
          -1.115893683139512,
          -0.0895281140433862,
          0.24780492007106186,
          3.833904287614168
         ],
         "yaxis": "y"
        },
        {
         "hovertemplate": "Class=5<br>Corrupted=0.0<br>x=%{x}<br>y=%{y}<extra></extra>",
         "legendgroup": "5, 0.0",
         "marker": {
          "color": "#19d3f3",
          "size": 8,
          "symbol": "square"
         },
         "mode": "markers",
         "name": "5, 0.0",
         "showlegend": true,
         "type": "scattergl",
         "x": [
          -0.20564490001658786,
          0.5467394015137218,
          0.387102442384676,
          -0.7144314015191012,
          0.182273250634255,
          -0.2290506123243116,
          0.18105281337290416,
          -0.18148617081535198,
          -0.11976789274304686,
          0.19585242460419192,
          -0.9926792865442743,
          -0.4613893259387331
         ],
         "xaxis": "x",
         "y": [
          0.6894291749861577,
          0.7678215612940209,
          2.142096644814822,
          1.0746592958689414,
          1.5049939079230525,
          1.050305868986407,
          0.2592741794931386,
          1.3858567329260552,
          1.1636976582562442,
          1.5652375882177423,
          0.8200075230158467,
          0.8154859652048481
         ],
         "yaxis": "y"
        },
        {
         "hovertemplate": "Class=6<br>Corrupted=N/A<br>x=%{x}<br>y=%{y}<extra></extra>",
         "legendgroup": "6, N/A",
         "marker": {
          "color": "#FF6692",
          "size": 8,
          "symbol": "circle"
         },
         "mode": "markers",
         "name": "6, N/A",
         "showlegend": true,
         "type": "scattergl",
         "x": [
          0.7934890094510777,
          0.45487301495180565,
          1.1308025124349108,
          0.48115413247898686,
          -0.1324027400295095,
          0.6299948286977581,
          0.5974214664960658,
          0.8157717724953123,
          -0.08482392330937699,
          0.260949114901657,
          -1.8212301571006377,
          0.8508473872091261,
          1.0768595471562894,
          0.4736601898576032,
          0.4039792490784155,
          -1.404502151922085,
          0.05999384935236144,
          0.9854966599550529,
          0.4586187497295458,
          1.2105732599832457,
          0.45002436541420343,
          0.6282635245142554,
          0.3375051308353636,
          -0.5603156988563408,
          0.17411315733083196,
          0.7887488664145123,
          -1.6918462090055466,
          0.8516525658953534,
          -1.8827324320238812,
          2.4234380546939454,
          -1.0120218964532366,
          0.4365109937219523,
          0.04492042682702595,
          0.6606428989028985,
          0.7683015866802683,
          -0.39565297149823525,
          -0.7883149081992338,
          1.250336038004353,
          0.7785577901778711,
          1.9043166150367643,
          1.4745155826793162,
          0.41622704963410395,
          -1.1931263911274588,
          2.0081197647010276,
          0.6263831045633549,
          0.05403651264467005,
          0.4533482895913504,
          1.0351442595748437,
          0.30295783911329505,
          0.9164329308124397,
          -0.0794254487513567,
          -0.3492260468643176,
          1.0038448717597286,
          -0.5149896857947143,
          0.9035346335990644
         ],
         "xaxis": "x",
         "y": [
          0.3719305343074033,
          -0.5511117753247243,
          -0.9171695911599529,
          -0.5010869199745652,
          -0.8368747281637111,
          -0.3479122097412268,
          -0.5315038947301706,
          -0.2534416549119531,
          -0.039720984153552664,
          1.1335788369194966,
          -0.07038477518847475,
          -0.6646097400012867,
          -1.6064446317074623,
          0.06274660660982788,
          -0.14953425393044315,
          -1.0961435988636052,
          -0.4083101355269168,
          -0.5463636637817212,
          -0.9084859542786153,
          -0.6646000535931176,
          -0.591020006626316,
          -0.2553934120452516,
          -0.12890174274571733,
          -0.811408385047129,
          -0.8031656603552624,
          0.035359562754201365,
          -1.8320055713449486,
          0.6785558627317116,
          0.27378614087936265,
          1.366982505412756,
          3.135329755451561,
          -0.8135682661748579,
          -0.05480543159610693,
          0.3066522188997373,
          -0.37465815481108966,
          1.2010782781543672,
          -0.7235164783883463,
          -1.3155025392171176,
          -0.3453928300427766,
          -0.375330008480651,
          -1.3497859517490511,
          -0.8872887686376582,
          -0.18244821159620286,
          -0.9391287841780868,
          -0.4465471507751247,
          -0.833200752406594,
          -1.1130889058643199,
          -2.229152695055925,
          -0.21657570717493277,
          -0.20051978780180665,
          -0.598521359053571,
          -0.1090520211293327,
          0.23723887441000963,
          -1.5683773458661951,
          0.18161076714699365
         ],
         "yaxis": "y"
        },
        {
         "hovertemplate": "Class=6<br>Corrupted=1.0<br>x=%{x}<br>y=%{y}<extra></extra>",
         "legendgroup": "6, 1.0",
         "marker": {
          "color": "#FF6692",
          "size": 8,
          "symbol": "diamond"
         },
         "mode": "markers",
         "name": "6, 1.0",
         "showlegend": true,
         "type": "scattergl",
         "x": [
          -0.6076004901284745,
          1.0000166124709005,
          -1.7662378925734359,
          1.6836506023320217,
          0.07104353880773494,
          1.20559011120831,
          -1.8723354792981957,
          1.2916613952713734
         ],
         "xaxis": "x",
         "y": [
          -2.336316568367111,
          -1.3128338244305828,
          -0.3606956032161292,
          -1.8667198804535436,
          -0.4033459841347029,
          0.47054604673653355,
          0.25134373642450136,
          -1.1010351655208057
         ],
         "yaxis": "y"
        },
        {
         "hovertemplate": "Class=6<br>Corrupted=0.0<br>x=%{x}<br>y=%{y}<extra></extra>",
         "legendgroup": "6, 0.0",
         "marker": {
          "color": "#FF6692",
          "size": 8,
          "symbol": "square"
         },
         "mode": "markers",
         "name": "6, 0.0",
         "showlegend": true,
         "type": "scattergl",
         "x": [
          0.15714566551143272,
          0.9470887403026863,
          1.3066403228320824,
          0.6579504440094901,
          0.7194213226042138,
          0.9612493260922254,
          0.9501584375465062,
          1.1049217615973879,
          0.6154419026247785,
          0.7982661825820634,
          0.3391589875563956,
          0.17145576980001603,
          0.4601615311756911,
          1.035010203274078,
          0.5217880919638772,
          0.49452914528434566,
          0.3265060395324917,
          1.015344493267041,
          1.2143567794341454,
          -0.23668741708644658
         ],
         "xaxis": "x",
         "y": [
          -0.5866105348576199,
          -0.8180115309462569,
          -0.02645954992965543,
          -0.5649877097518154,
          -0.21786544151255233,
          -0.5645036585687412,
          -0.18525696560143315,
          -1.0783041285591068,
          -1.0682568942979012,
          -0.3945766805631718,
          -0.6439080734304669,
          -0.43402569483056946,
          -0.006571492446058254,
          -0.6055980888926303,
          -0.4151009823204782,
          -0.7726584650095564,
          -0.43183403073094834,
          0.053820985116630145,
          -0.6554541660320626,
          -0.08943351534263627
         ],
         "yaxis": "y"
        },
        {
         "hovertemplate": "Class=14<br>Corrupted=N/A<br>x=%{x}<br>y=%{y}<extra></extra>",
         "legendgroup": "14, N/A",
         "marker": {
          "color": "#B6E880",
          "size": 8,
          "symbol": "circle"
         },
         "mode": "markers",
         "name": "14, N/A",
         "showlegend": true,
         "type": "scattergl",
         "x": [
          1.4373523354299382,
          1.4036083128351298,
          1.0991233277771786,
          2.58821062555888,
          1.8633143773936738,
          0.6932019307300911,
          0.9662774019577872,
          -0.4495926336441397,
          1.5304340981065085,
          2.374736205496488,
          1.372149506925711,
          1.583021439217181,
          1.8999724679337124,
          1.6061655036639726,
          -0.7131906725296445,
          1.7753947790087952,
          0.22733115762719885,
          2.102122803391782,
          1.0321139049020587,
          2.4272830870832056,
          1.236829401095882,
          1.806692026131178,
          0.8933691295527917,
          2.58077056401077,
          1.9305207578154362,
          2.073893091616121,
          0.2134860437769054,
          -0.2611701611347279,
          1.8189337656129558,
          1.532738081026959,
          1.288480484324813,
          1.8417986507888375,
          1.059643187997099,
          2.3440694558118143,
          -1.8433311934184593,
          3.8462870797276216,
          -1.098050920336592,
          2.3882991608984927,
          1.8555787856856605,
          1.7206234866155252,
          -0.32008159759654675,
          1.2069620666208385,
          0.7583834140280288,
          2.323730807811064,
          1.1245333177131136,
          1.713179681382758,
          -2.3541700971869024,
          1.4598873417028466,
          1.0611149514535576,
          2.185496246729769,
          -0.22660455161490758,
          -0.8205471543652805,
          0.8304140367457864,
          2.0292533397398955,
          3.574757302580795,
          1.893529721057572,
          2.1660225203384225,
          1.075161610628692,
          0.6430717138783103,
          -1.2378389636170624,
          -0.7924032756495453,
          1.4845384932362589,
          -3.7167497886499903,
          2.1777980210621677,
          1.8090620411939187
         ],
         "xaxis": "x",
         "y": [
          1.0044595783378916,
          1.4181394179298763,
          1.14033580807862,
          2.0628859940921354,
          0.9270673423951867,
          0.9338673101093553,
          -0.8981018633719147,
          3.198890412220098,
          1.332977232287093,
          -0.7626944170870206,
          1.708298984984301,
          1.2358459574475218,
          0.432284584472466,
          0.4673712067404483,
          0.7220498615563247,
          1.2839380808200966,
          0.146833596085505,
          0.8271887414481609,
          -0.3637339872691718,
          1.4882573788429514,
          2.0046572289653417,
          0.7475081321290853,
          5.474539537187552,
          0.8062893592461085,
          0.5705078999803403,
          1.246196299722496,
          -0.7867241541672759,
          0.055048953093619436,
          1.6199779312088987,
          1.0889452410761795,
          0.6671201584646278,
          1.3475942479227827,
          1.187862991508164,
          0.3017643947660229,
          -2.5014486046674076,
          1.143587967495375,
          -0.8648376655647053,
          2.197614654154829,
          0.7402882265367509,
          0.4864749552947316,
          -0.8402747021292133,
          0.5189797595804634,
          1.5712211859546101,
          0.550333054270628,
          1.1504477899680328,
          0.563822923202017,
          2.200968880182762,
          0.054229034072590374,
          -1.5013485169106593,
          1.7558431564073294,
          1.5546409702739235,
          -1.9265631208741745,
          0.03852854209001816,
          3.6565920797014235,
          1.588683262309077,
          0.4681315344627456,
          0.6458721043831215,
          -0.7511668365252633,
          0.9456557354805276,
          3.255923810062394,
          -0.2657954951541697,
          1.0326618650052988,
          -2.063383500380645,
          0.26723363080460777,
          1.224288509425419
         ],
         "yaxis": "y"
        },
        {
         "hovertemplate": "Class=14<br>Corrupted=1.0<br>x=%{x}<br>y=%{y}<extra></extra>",
         "legendgroup": "14, 1.0",
         "marker": {
          "color": "#B6E880",
          "size": 8,
          "symbol": "diamond"
         },
         "mode": "markers",
         "name": "14, 1.0",
         "showlegend": true,
         "type": "scattergl",
         "x": [
          -0.29370191842637183,
          0.4174344313068098,
          1.4420569637181004,
          0.8488679997648768,
          -0.10623534572879072,
          -1.7905701989650564,
          0.9161132121716499,
          1.936552103579619
         ],
         "xaxis": "x",
         "y": [
          -1.814206949669962,
          2.254336607493656,
          2.4495762316650964,
          -0.25543419351798025,
          0.31673624740589046,
          -1.8096609434298923,
          -0.7296039411538207,
          1.589135489815629
         ],
         "yaxis": "y"
        },
        {
         "hovertemplate": "Class=14<br>Corrupted=0.0<br>x=%{x}<br>y=%{y}<extra></extra>",
         "legendgroup": "14, 0.0",
         "marker": {
          "color": "#B6E880",
          "size": 8,
          "symbol": "square"
         },
         "mode": "markers",
         "name": "14, 0.0",
         "showlegend": true,
         "type": "scattergl",
         "x": [
          1.034307533613269,
          1.783313731756093,
          1.8442536757178833,
          2.647076939758213,
          1.525066300926813,
          1.7197190389010775,
          0.8420242424357292,
          1.378387526543045,
          1.5218560875216771,
          2.3327823779045613,
          1.8188298275113468,
          1.6313135743530152,
          2.440110789253315
         ],
         "xaxis": "x",
         "y": [
          0.43426696650611857,
          1.0954592092136917,
          0.5194357135250073,
          1.2958535559538338,
          0.8589700467998624,
          0.8267183387550475,
          1.10814849307273,
          1.0739556711208245,
          0.6906825218991696,
          1.8909883875186058,
          0.9592169629126991,
          0.8262940179107994,
          0.7693197099202004
         ],
         "yaxis": "y"
        }
       ],
       "layout": {
        "legend": {
         "title": {
          "text": "Class, Corrupted"
         },
         "tracegroupgap": 0
        },
        "template": {
         "data": {
          "bar": [
           {
            "error_x": {
             "color": "#2a3f5f"
            },
            "error_y": {
             "color": "#2a3f5f"
            },
            "marker": {
             "line": {
              "color": "#E5ECF6",
              "width": 0.5
             },
             "pattern": {
              "fillmode": "overlay",
              "size": 10,
              "solidity": 0.2
             }
            },
            "type": "bar"
           }
          ],
          "barpolar": [
           {
            "marker": {
             "line": {
              "color": "#E5ECF6",
              "width": 0.5
             },
             "pattern": {
              "fillmode": "overlay",
              "size": 10,
              "solidity": 0.2
             }
            },
            "type": "barpolar"
           }
          ],
          "carpet": [
           {
            "aaxis": {
             "endlinecolor": "#2a3f5f",
             "gridcolor": "white",
             "linecolor": "white",
             "minorgridcolor": "white",
             "startlinecolor": "#2a3f5f"
            },
            "baxis": {
             "endlinecolor": "#2a3f5f",
             "gridcolor": "white",
             "linecolor": "white",
             "minorgridcolor": "white",
             "startlinecolor": "#2a3f5f"
            },
            "type": "carpet"
           }
          ],
          "choropleth": [
           {
            "colorbar": {
             "outlinewidth": 0,
             "ticks": ""
            },
            "type": "choropleth"
           }
          ],
          "contour": [
           {
            "colorbar": {
             "outlinewidth": 0,
             "ticks": ""
            },
            "colorscale": [
             [
              0,
              "#0d0887"
             ],
             [
              0.1111111111111111,
              "#46039f"
             ],
             [
              0.2222222222222222,
              "#7201a8"
             ],
             [
              0.3333333333333333,
              "#9c179e"
             ],
             [
              0.4444444444444444,
              "#bd3786"
             ],
             [
              0.5555555555555556,
              "#d8576b"
             ],
             [
              0.6666666666666666,
              "#ed7953"
             ],
             [
              0.7777777777777778,
              "#fb9f3a"
             ],
             [
              0.8888888888888888,
              "#fdca26"
             ],
             [
              1,
              "#f0f921"
             ]
            ],
            "type": "contour"
           }
          ],
          "contourcarpet": [
           {
            "colorbar": {
             "outlinewidth": 0,
             "ticks": ""
            },
            "type": "contourcarpet"
           }
          ],
          "heatmap": [
           {
            "colorbar": {
             "outlinewidth": 0,
             "ticks": ""
            },
            "colorscale": [
             [
              0,
              "#0d0887"
             ],
             [
              0.1111111111111111,
              "#46039f"
             ],
             [
              0.2222222222222222,
              "#7201a8"
             ],
             [
              0.3333333333333333,
              "#9c179e"
             ],
             [
              0.4444444444444444,
              "#bd3786"
             ],
             [
              0.5555555555555556,
              "#d8576b"
             ],
             [
              0.6666666666666666,
              "#ed7953"
             ],
             [
              0.7777777777777778,
              "#fb9f3a"
             ],
             [
              0.8888888888888888,
              "#fdca26"
             ],
             [
              1,
              "#f0f921"
             ]
            ],
            "type": "heatmap"
           }
          ],
          "heatmapgl": [
           {
            "colorbar": {
             "outlinewidth": 0,
             "ticks": ""
            },
            "colorscale": [
             [
              0,
              "#0d0887"
             ],
             [
              0.1111111111111111,
              "#46039f"
             ],
             [
              0.2222222222222222,
              "#7201a8"
             ],
             [
              0.3333333333333333,
              "#9c179e"
             ],
             [
              0.4444444444444444,
              "#bd3786"
             ],
             [
              0.5555555555555556,
              "#d8576b"
             ],
             [
              0.6666666666666666,
              "#ed7953"
             ],
             [
              0.7777777777777778,
              "#fb9f3a"
             ],
             [
              0.8888888888888888,
              "#fdca26"
             ],
             [
              1,
              "#f0f921"
             ]
            ],
            "type": "heatmapgl"
           }
          ],
          "histogram": [
           {
            "marker": {
             "pattern": {
              "fillmode": "overlay",
              "size": 10,
              "solidity": 0.2
             }
            },
            "type": "histogram"
           }
          ],
          "histogram2d": [
           {
            "colorbar": {
             "outlinewidth": 0,
             "ticks": ""
            },
            "colorscale": [
             [
              0,
              "#0d0887"
             ],
             [
              0.1111111111111111,
              "#46039f"
             ],
             [
              0.2222222222222222,
              "#7201a8"
             ],
             [
              0.3333333333333333,
              "#9c179e"
             ],
             [
              0.4444444444444444,
              "#bd3786"
             ],
             [
              0.5555555555555556,
              "#d8576b"
             ],
             [
              0.6666666666666666,
              "#ed7953"
             ],
             [
              0.7777777777777778,
              "#fb9f3a"
             ],
             [
              0.8888888888888888,
              "#fdca26"
             ],
             [
              1,
              "#f0f921"
             ]
            ],
            "type": "histogram2d"
           }
          ],
          "histogram2dcontour": [
           {
            "colorbar": {
             "outlinewidth": 0,
             "ticks": ""
            },
            "colorscale": [
             [
              0,
              "#0d0887"
             ],
             [
              0.1111111111111111,
              "#46039f"
             ],
             [
              0.2222222222222222,
              "#7201a8"
             ],
             [
              0.3333333333333333,
              "#9c179e"
             ],
             [
              0.4444444444444444,
              "#bd3786"
             ],
             [
              0.5555555555555556,
              "#d8576b"
             ],
             [
              0.6666666666666666,
              "#ed7953"
             ],
             [
              0.7777777777777778,
              "#fb9f3a"
             ],
             [
              0.8888888888888888,
              "#fdca26"
             ],
             [
              1,
              "#f0f921"
             ]
            ],
            "type": "histogram2dcontour"
           }
          ],
          "mesh3d": [
           {
            "colorbar": {
             "outlinewidth": 0,
             "ticks": ""
            },
            "type": "mesh3d"
           }
          ],
          "parcoords": [
           {
            "line": {
             "colorbar": {
              "outlinewidth": 0,
              "ticks": ""
             }
            },
            "type": "parcoords"
           }
          ],
          "pie": [
           {
            "automargin": true,
            "type": "pie"
           }
          ],
          "scatter": [
           {
            "fillpattern": {
             "fillmode": "overlay",
             "size": 10,
             "solidity": 0.2
            },
            "type": "scatter"
           }
          ],
          "scatter3d": [
           {
            "line": {
             "colorbar": {
              "outlinewidth": 0,
              "ticks": ""
             }
            },
            "marker": {
             "colorbar": {
              "outlinewidth": 0,
              "ticks": ""
             }
            },
            "type": "scatter3d"
           }
          ],
          "scattercarpet": [
           {
            "marker": {
             "colorbar": {
              "outlinewidth": 0,
              "ticks": ""
             }
            },
            "type": "scattercarpet"
           }
          ],
          "scattergeo": [
           {
            "marker": {
             "colorbar": {
              "outlinewidth": 0,
              "ticks": ""
             }
            },
            "type": "scattergeo"
           }
          ],
          "scattergl": [
           {
            "marker": {
             "colorbar": {
              "outlinewidth": 0,
              "ticks": ""
             }
            },
            "type": "scattergl"
           }
          ],
          "scattermapbox": [
           {
            "marker": {
             "colorbar": {
              "outlinewidth": 0,
              "ticks": ""
             }
            },
            "type": "scattermapbox"
           }
          ],
          "scatterpolar": [
           {
            "marker": {
             "colorbar": {
              "outlinewidth": 0,
              "ticks": ""
             }
            },
            "type": "scatterpolar"
           }
          ],
          "scatterpolargl": [
           {
            "marker": {
             "colorbar": {
              "outlinewidth": 0,
              "ticks": ""
             }
            },
            "type": "scatterpolargl"
           }
          ],
          "scatterternary": [
           {
            "marker": {
             "colorbar": {
              "outlinewidth": 0,
              "ticks": ""
             }
            },
            "type": "scatterternary"
           }
          ],
          "surface": [
           {
            "colorbar": {
             "outlinewidth": 0,
             "ticks": ""
            },
            "colorscale": [
             [
              0,
              "#0d0887"
             ],
             [
              0.1111111111111111,
              "#46039f"
             ],
             [
              0.2222222222222222,
              "#7201a8"
             ],
             [
              0.3333333333333333,
              "#9c179e"
             ],
             [
              0.4444444444444444,
              "#bd3786"
             ],
             [
              0.5555555555555556,
              "#d8576b"
             ],
             [
              0.6666666666666666,
              "#ed7953"
             ],
             [
              0.7777777777777778,
              "#fb9f3a"
             ],
             [
              0.8888888888888888,
              "#fdca26"
             ],
             [
              1,
              "#f0f921"
             ]
            ],
            "type": "surface"
           }
          ],
          "table": [
           {
            "cells": {
             "fill": {
              "color": "#EBF0F8"
             },
             "line": {
              "color": "white"
             }
            },
            "header": {
             "fill": {
              "color": "#C8D4E3"
             },
             "line": {
              "color": "white"
             }
            },
            "type": "table"
           }
          ]
         },
         "layout": {
          "annotationdefaults": {
           "arrowcolor": "#2a3f5f",
           "arrowhead": 0,
           "arrowwidth": 1
          },
          "autotypenumbers": "strict",
          "coloraxis": {
           "colorbar": {
            "outlinewidth": 0,
            "ticks": ""
           }
          },
          "colorscale": {
           "diverging": [
            [
             0,
             "#8e0152"
            ],
            [
             0.1,
             "#c51b7d"
            ],
            [
             0.2,
             "#de77ae"
            ],
            [
             0.3,
             "#f1b6da"
            ],
            [
             0.4,
             "#fde0ef"
            ],
            [
             0.5,
             "#f7f7f7"
            ],
            [
             0.6,
             "#e6f5d0"
            ],
            [
             0.7,
             "#b8e186"
            ],
            [
             0.8,
             "#7fbc41"
            ],
            [
             0.9,
             "#4d9221"
            ],
            [
             1,
             "#276419"
            ]
           ],
           "sequential": [
            [
             0,
             "#0d0887"
            ],
            [
             0.1111111111111111,
             "#46039f"
            ],
            [
             0.2222222222222222,
             "#7201a8"
            ],
            [
             0.3333333333333333,
             "#9c179e"
            ],
            [
             0.4444444444444444,
             "#bd3786"
            ],
            [
             0.5555555555555556,
             "#d8576b"
            ],
            [
             0.6666666666666666,
             "#ed7953"
            ],
            [
             0.7777777777777778,
             "#fb9f3a"
            ],
            [
             0.8888888888888888,
             "#fdca26"
            ],
            [
             1,
             "#f0f921"
            ]
           ],
           "sequentialminus": [
            [
             0,
             "#0d0887"
            ],
            [
             0.1111111111111111,
             "#46039f"
            ],
            [
             0.2222222222222222,
             "#7201a8"
            ],
            [
             0.3333333333333333,
             "#9c179e"
            ],
            [
             0.4444444444444444,
             "#bd3786"
            ],
            [
             0.5555555555555556,
             "#d8576b"
            ],
            [
             0.6666666666666666,
             "#ed7953"
            ],
            [
             0.7777777777777778,
             "#fb9f3a"
            ],
            [
             0.8888888888888888,
             "#fdca26"
            ],
            [
             1,
             "#f0f921"
            ]
           ]
          },
          "colorway": [
           "#636efa",
           "#EF553B",
           "#00cc96",
           "#ab63fa",
           "#FFA15A",
           "#19d3f3",
           "#FF6692",
           "#B6E880",
           "#FF97FF",
           "#FECB52"
          ],
          "font": {
           "color": "#2a3f5f"
          },
          "geo": {
           "bgcolor": "white",
           "lakecolor": "white",
           "landcolor": "#E5ECF6",
           "showlakes": true,
           "showland": true,
           "subunitcolor": "white"
          },
          "hoverlabel": {
           "align": "left"
          },
          "hovermode": "closest",
          "mapbox": {
           "style": "light"
          },
          "paper_bgcolor": "white",
          "plot_bgcolor": "#E5ECF6",
          "polar": {
           "angularaxis": {
            "gridcolor": "white",
            "linecolor": "white",
            "ticks": ""
           },
           "bgcolor": "#E5ECF6",
           "radialaxis": {
            "gridcolor": "white",
            "linecolor": "white",
            "ticks": ""
           }
          },
          "scene": {
           "xaxis": {
            "backgroundcolor": "#E5ECF6",
            "gridcolor": "white",
            "gridwidth": 2,
            "linecolor": "white",
            "showbackground": true,
            "ticks": "",
            "zerolinecolor": "white"
           },
           "yaxis": {
            "backgroundcolor": "#E5ECF6",
            "gridcolor": "white",
            "gridwidth": 2,
            "linecolor": "white",
            "showbackground": true,
            "ticks": "",
            "zerolinecolor": "white"
           },
           "zaxis": {
            "backgroundcolor": "#E5ECF6",
            "gridcolor": "white",
            "gridwidth": 2,
            "linecolor": "white",
            "showbackground": true,
            "ticks": "",
            "zerolinecolor": "white"
           }
          },
          "shapedefaults": {
           "line": {
            "color": "#2a3f5f"
           }
          },
          "ternary": {
           "aaxis": {
            "gridcolor": "white",
            "linecolor": "white",
            "ticks": ""
           },
           "baxis": {
            "gridcolor": "white",
            "linecolor": "white",
            "ticks": ""
           },
           "bgcolor": "#E5ECF6",
           "caxis": {
            "gridcolor": "white",
            "linecolor": "white",
            "ticks": ""
           }
          },
          "title": {
           "x": 0.05
          },
          "xaxis": {
           "automargin": true,
           "gridcolor": "white",
           "linecolor": "white",
           "ticks": "",
           "title": {
            "standoff": 15
           },
           "zerolinecolor": "white",
           "zerolinewidth": 2
          },
          "yaxis": {
           "automargin": true,
           "gridcolor": "white",
           "linecolor": "white",
           "ticks": "",
           "title": {
            "standoff": 15
           },
           "zerolinecolor": "white",
           "zerolinewidth": 2
          }
         }
        },
        "title": {
         "text": "Scatter of train data by classes"
        },
        "xaxis": {
         "anchor": "y",
         "domain": [
          0,
          1
         ],
         "title": {
          "text": "x"
         }
        },
        "yaxis": {
         "anchor": "x",
         "domain": [
          0,
          1
         ],
         "title": {
          "text": "y"
         }
        }
       }
      }
     },
     "metadata": {},
     "output_type": "display_data"
    }
   ],
   "source": [
    "# Plot all train data spliting by classes and 'Corrupted' label\n",
    "vis_PCA(train_data.fillna('N/A'), 'Class', 'Corrupted', 'Scatter of train data by classes')\n"
   ]
  },
  {
   "cell_type": "markdown",
   "metadata": {},
   "source": [
    "It is difficult to make any conclusion from such a graph. Let's see what verified pure data looks like."
   ]
  },
  {
   "cell_type": "code",
   "execution_count": 29,
   "metadata": {},
   "outputs": [
    {
     "data": {
      "application/vnd.plotly.v1+json": {
       "config": {
        "plotlyServerURL": "https://plot.ly"
       },
       "data": [
        {
         "hovertemplate": "Class=0<br>Corrupted=0.0<br>x=%{x}<br>y=%{y}<extra></extra>",
         "legendgroup": "0, 0.0",
         "marker": {
          "color": "#ab63fa",
          "size": 8,
          "symbol": "circle"
         },
         "mode": "markers",
         "name": "0, 0.0",
         "orientation": "v",
         "showlegend": true,
         "type": "scatter",
         "x": [
          3.605288715033787,
          4.0718114790189315,
          2.714976022409242,
          3.7558168635230573,
          3.143567531973844,
          3.1627699608443964,
          3.351029999726016,
          3.5796694282944226,
          3.9305765475119583,
          4.545199312546402,
          2.8704161305456535,
          3.975729282678631,
          2.9585793854490214,
          3.5170907290790625,
          3.2384614167306713,
          4.0593026909347945,
          3.5299289832629004,
          3.0132213631257807
         ],
         "xaxis": "x",
         "y": [
          -0.9385099182558276,
          -0.41974279867772407,
          -0.5109739618825663,
          -0.45099126251409505,
          -0.3619969504765613,
          -1.378299299389833,
          -0.1277467585300924,
          -0.6659173947178558,
          -0.3330503883147895,
          -0.5558819348685495,
          -0.2425309443913677,
          -0.05800021172387891,
          -0.28799352007034096,
          -0.9814511242101889,
          -1.4867521285632468,
          -0.3134227596814142,
          -0.23397140812451514,
          -0.3078456088829027
         ],
         "yaxis": "y"
        },
        {
         "hovertemplate": "Class=2<br>Corrupted=0.0<br>x=%{x}<br>y=%{y}<extra></extra>",
         "legendgroup": "2, 0.0",
         "marker": {
          "color": "#FFA15A",
          "size": 8,
          "symbol": "circle"
         },
         "mode": "markers",
         "name": "2, 0.0",
         "orientation": "v",
         "showlegend": true,
         "type": "scatter",
         "x": [
          -0.20156797598881243,
          -0.8233534347077616,
          0.3252685373518977,
          -0.768763541289064,
          -0.3354750235465637,
          -0.31049753956821485,
          -0.13290324884178734,
          -0.7546880995561025,
          -0.7657155941882675,
          -0.3661008725932062,
          -0.8188116176131649,
          -0.8974785138457022,
          -0.3693948463365287,
          -0.29594472635554886
         ],
         "xaxis": "x",
         "y": [
          -0.0884883241771891,
          -0.7020417829909941,
          -0.33043468668894393,
          -0.6431089857069352,
          -0.47712387762694014,
          0.09888013167651497,
          -0.25488824675410243,
          0.030414481186500895,
          -0.08582354861275873,
          0.05155504334383193,
          -0.34020325169664645,
          0.18185025267904473,
          -0.2971200859819959,
          -0.536443462601849
         ],
         "yaxis": "y"
        },
        {
         "hovertemplate": "Class=9<br>Corrupted=0.0<br>x=%{x}<br>y=%{y}<extra></extra>",
         "legendgroup": "9, 0.0",
         "marker": {
          "color": "#19d3f3",
          "size": 8,
          "symbol": "circle"
         },
         "mode": "markers",
         "name": "9, 0.0",
         "orientation": "v",
         "showlegend": true,
         "type": "scatter",
         "x": [
          0.9190424734173618,
          1.1109701373515988,
          0.9115686594332683,
          0.4690981042089686,
          0.9268871503269025,
          0.212598901930734,
          0.9921083256410278,
          0.10704800725304477,
          0.7932299000892831,
          0.1428480579951675,
          0.8921054640519942,
          1.269807902248765,
          1.4070593904287587,
          1.61315004240959,
          0.8926730330843019,
          1.4610464719367091,
          1.7485203448930557,
          0.6293699343302428,
          0.3778804783078573,
          0.5419174776669614,
          0.7606197933196265
         ],
         "xaxis": "x",
         "y": [
          3.611420147844001,
          3.782537123783419,
          4.270726404988471,
          3.636083882160212,
          3.0374818530778125,
          3.6954048084929694,
          3.5846951698676968,
          3.8920540127008922,
          3.670500786474087,
          3.6614992555699226,
          3.7884904184470627,
          2.9064224128074443,
          3.9340129334337655,
          2.807404500176404,
          4.2465244378446885,
          3.580228448740105,
          4.118546989931407,
          4.5472644461982155,
          3.8375320304879605,
          3.6259092199276197,
          4.348427395839127
         ],
         "yaxis": "y"
        },
        {
         "hovertemplate": "Class=6<br>Corrupted=0.0<br>x=%{x}<br>y=%{y}<extra></extra>",
         "legendgroup": "6, 0.0",
         "marker": {
          "color": "#FF6692",
          "size": 8,
          "symbol": "circle"
         },
         "mode": "markers",
         "name": "6, 0.0",
         "orientation": "v",
         "showlegend": true,
         "type": "scatter",
         "x": [
          -1.170866421842996,
          -1.607596793119073,
          -2.504519809641939,
          -1.5660253038747152,
          -1.8145963381940942,
          -2.072696283024342,
          -1.8311963421406146,
          -1.996219491156247,
          -1.414908982939269,
          -1.7246753076198436,
          -1.1440355993028752,
          -1.0231197612192215,
          -1.5941374843846183,
          -2.104131321454727,
          -1.3306650694928719,
          -1.78379789937572,
          -1.145707589612957,
          -2.0039594001999173,
          -2.1906278009588473,
          -0.33344541544750306
         ],
         "xaxis": "x",
         "y": [
          -1.0067504430152203,
          -1.0945532323844853,
          -0.32886738588485814,
          -0.9130128314957016,
          -0.2699640558948733,
          -1.0111968535166937,
          -0.305149378902145,
          -1.5912285421210923,
          -1.4254207178451497,
          -0.5397376107833777,
          -0.706460738051501,
          -0.6546658657962959,
          -0.25510648137569525,
          -0.8348351793173021,
          -0.6761303321913869,
          -1.1651734636504434,
          -0.7591352687289099,
          -0.0245107916365402,
          -0.931620988911747,
          -0.2666590166255437
         ],
         "yaxis": "y"
        },
        {
         "hovertemplate": "Class=7<br>Corrupted=0.0<br>x=%{x}<br>y=%{y}<extra></extra>",
         "legendgroup": "7, 0.0",
         "marker": {
          "color": "#B6E880",
          "size": 8,
          "symbol": "circle"
         },
         "mode": "markers",
         "name": "7, 0.0",
         "orientation": "v",
         "showlegend": true,
         "type": "scatter",
         "x": [
          -2.617100924799323,
          -2.969514569305402,
          -3.4558259994712444,
          -3.4173735390465,
          -2.6018017103316176,
          -2.9439678268886404,
          -3.7092054534706294,
          -3.170227162090483,
          -1.860051552904982,
          -2.03586867313592,
          -2.1767532670988956
         ],
         "xaxis": "x",
         "y": [
          0.6600973284966474,
          0.7190255881894329,
          0.7179522361972538,
          1.2807355892776755,
          0.6534261654340171,
          0.5070860727577111,
          1.303138588990612,
          0.6579611394444961,
          0.3689751930497267,
          1.0437894150781513,
          1.8219239857305498
         ],
         "yaxis": "y"
        },
        {
         "hovertemplate": "Class=8<br>Corrupted=0.0<br>x=%{x}<br>y=%{y}<extra></extra>",
         "legendgroup": "8, 0.0",
         "marker": {
          "color": "#FF97FF",
          "size": 8,
          "symbol": "circle"
         },
         "mode": "markers",
         "name": "8, 0.0",
         "orientation": "v",
         "showlegend": true,
         "type": "scatter",
         "x": [
          -1.5916705253362455,
          -2.5413600079409457,
          -2.4560569097513025,
          -3.180355790248274,
          -1.7234375582339947,
          -2.499060223607716,
          -2.2050001911108166,
          -1.5670139569425703,
          -3.1416872658073522,
          -3.3385334171899044,
          -2.02152020221255,
          -2.124518332473162,
          -1.8610566535236244,
          -2.606320913940167
         ],
         "xaxis": "x",
         "y": [
          -0.14955598128740433,
          0.44619404083691,
          -0.6997105516155501,
          -1.2400364816867044,
          -0.35297939198419814,
          -0.6986814945545089,
          0.7949898259553438,
          -0.14217430188082594,
          -1.1472864488091445,
          -0.894618270796588,
          -0.6735141834538949,
          -0.5881746078091804,
          -1.0362141521908517,
          -0.8473867614400898
         ],
         "yaxis": "y"
        },
        {
         "hovertemplate": "Class=14<br>Corrupted=0.0<br>x=%{x}<br>y=%{y}<extra></extra>",
         "legendgroup": "14, 0.0",
         "marker": {
          "color": "#FECB52",
          "size": 8,
          "symbol": "circle"
         },
         "mode": "markers",
         "name": "14, 0.0",
         "orientation": "v",
         "showlegend": true,
         "type": "scatter",
         "x": [
          -2.2603881497011993,
          -3.4817456422262203,
          -3.3267717900871605,
          -4.231272279295415,
          -2.883466416845499,
          -3.2666025315418747,
          -2.202739236065668,
          -2.698935291153533,
          -2.7594486440913406,
          -3.7470116051581344,
          -3.2682268611679457,
          -2.938701085956213,
          -3.73817431801911
         ],
         "xaxis": "x",
         "y": [
          0.5710885533781628,
          1.1871586557180034,
          0.5723870391086857,
          1.6604032586312087,
          1.1433330162685331,
          0.874116549329306,
          1.415255544938332,
          1.3368407440561996,
          0.6578584714233934,
          2.2882208806853606,
          1.153224082351318,
          1.0987444084881275,
          0.9090458715734765
         ],
         "yaxis": "y"
        },
        {
         "hovertemplate": "Class=12<br>Corrupted=0.0<br>x=%{x}<br>y=%{y}<extra></extra>",
         "legendgroup": "12, 0.0",
         "marker": {
          "color": "#636efa",
          "size": 8,
          "symbol": "circle"
         },
         "mode": "markers",
         "name": "12, 0.0",
         "orientation": "v",
         "showlegend": true,
         "type": "scatter",
         "x": [
          2.423090746404037,
          2.2399998625782973,
          1.6786074858260456,
          3.2291907383998586,
          3.4793451446277777,
          1.6556713445160578,
          2.961079921043126,
          1.113298974948418,
          1.5512754834469242,
          1.7249410031439631,
          2.8685268629568146,
          2.414985529481202,
          2.042904618238089,
          2.9463918754657135,
          2.5685329037480935
         ],
         "xaxis": "x",
         "y": [
          -1.706674530135826,
          -1.3929711940949245,
          -0.424713607381187,
          -0.8171023466849064,
          -0.9752193517372302,
          -1.8501108795051942,
          -1.3610774500626908,
          -0.9494571382003164,
          -1.4151554730788125,
          -0.7279557781640063,
          -1.013134682185944,
          -0.6993187662504784,
          -1.0141399594500555,
          -0.7923444120972124,
          -0.8693529154219645
         ],
         "yaxis": "y"
        },
        {
         "hovertemplate": "Class=11<br>Corrupted=0.0<br>x=%{x}<br>y=%{y}<extra></extra>",
         "legendgroup": "11, 0.0",
         "marker": {
          "color": "#EF553B",
          "size": 8,
          "symbol": "circle"
         },
         "mode": "markers",
         "name": "11, 0.0",
         "orientation": "v",
         "showlegend": true,
         "type": "scatter",
         "x": [
          -1.1825380469997362,
          -0.8113028067204827,
          -0.48205593764159305,
          -1.1883624265496109,
          -0.7145863751893493,
          -0.3855383853752829,
          -1.8169758566768144,
          -1.0393778225586443,
          -1.5812368428314627,
          -0.8891546264367626,
          -1.1163389449340593,
          -1.6137439093591412,
          -1.31994948003575,
          -1.0871913543256435,
          -2.2077599830376693
         ],
         "xaxis": "x",
         "y": [
          0.028538808792070484,
          -0.7457392909564412,
          -0.3627446934150443,
          -1.4459402227734706,
          -1.246321045660108,
          -0.6548922947641337,
          -1.208492565768939,
          -1.3044220540517535,
          -1.011647235854944,
          -0.9916366557528937,
          -0.4780781829367703,
          -0.792355854264498,
          -1.7834164302142739,
          -1.3894939968509985,
          -1.4780498368952744
         ],
         "yaxis": "y"
        },
        {
         "hovertemplate": "Class=10<br>Corrupted=0.0<br>x=%{x}<br>y=%{y}<extra></extra>",
         "legendgroup": "10, 0.0",
         "marker": {
          "color": "#00cc96",
          "size": 8,
          "symbol": "circle"
         },
         "mode": "markers",
         "name": "10, 0.0",
         "orientation": "v",
         "showlegend": true,
         "type": "scatter",
         "x": [
          0.06312301669307631,
          -0.7513665135149347,
          0.23108907543087864,
          -0.19363973189073513,
          -0.11734261861563236,
          0.11785751265760826,
          0.5047942843384535,
          -0.5339906656386163,
          -1.1227873309024978,
          -0.37710766219046954,
          0.08376251211375467
         ],
         "xaxis": "x",
         "y": [
          -0.6536732672499203,
          -0.8730150110034233,
          -0.6434826125251888,
          -0.8601749260548787,
          -1.5461352245356559,
          -1.2574829293249221,
          -0.8118976747351951,
          -0.6682147601869418,
          -0.9901644410737283,
          -0.9647950674042386,
          -1.0721365447639615
         ],
         "yaxis": "y"
        },
        {
         "hovertemplate": "Class=13<br>Corrupted=0.0<br>x=%{x}<br>y=%{y}<extra></extra>",
         "legendgroup": "13, 0.0",
         "marker": {
          "color": "#ab63fa",
          "size": 8,
          "symbol": "circle"
         },
         "mode": "markers",
         "name": "13, 0.0",
         "orientation": "v",
         "showlegend": true,
         "type": "scatter",
         "x": [
          0.037103010393537174,
          -0.7794522299126063,
          0.28759542185820597,
          -0.49080318037662746,
          -0.6660972436804707,
          0.2817363700336264,
          -0.5376296641764606,
          -0.04989818222634506,
          0.5575413381138695,
          0.16486740803084396,
          0.5532006081538305,
          -0.9921628096167647,
          0.20479330381723648
         ],
         "xaxis": "x",
         "y": [
          -0.2865460387374705,
          -0.1590761907019015,
          0.3025095136545634,
          -0.4031925192598664,
          0.13585336472952192,
          -0.1423917100941944,
          -0.3134778113678319,
          -0.21480018742027243,
          -0.4729084260846531,
          -0.2783843585104985,
          -0.663657011961441,
          -0.08194734684160088,
          -0.7143923030474524
         ],
         "yaxis": "y"
        },
        {
         "hovertemplate": "Class=1<br>Corrupted=0.0<br>x=%{x}<br>y=%{y}<extra></extra>",
         "legendgroup": "1, 0.0",
         "marker": {
          "color": "#FFA15A",
          "size": 8,
          "symbol": "circle"
         },
         "mode": "markers",
         "name": "1, 0.0",
         "orientation": "v",
         "showlegend": true,
         "type": "scatter",
         "x": [
          1.1388268088828026,
          0.9105466692263608,
          1.160262967895322,
          0.923563912010189,
          1.3703868129150756,
          1.1182415772098004,
          1.7193357349741127,
          0.812912191121512,
          0.8127647821319928,
          1.3517961032921493,
          1.9735773340663338,
          0.3003440707175862,
          1.1582064039503461,
          0.9764772645102751,
          0.5817030084406575,
          0.5401012196264975,
          1.1382263556626202,
          0.6859929420795609,
          1.754256621942314
         ],
         "xaxis": "x",
         "y": [
          -3.015317314641512,
          -3.2507413419077245,
          -4.031726568877916,
          -3.9749773498155103,
          -3.1879836003017767,
          -2.8169415975720224,
          -2.297552358438757,
          -3.292725569412632,
          -3.321322228210147,
          -3.251678438597034,
          -3.097306265659553,
          -3.165789283747669,
          -3.6322182979386732,
          -3.142607539556068,
          -2.747805166405194,
          -2.870245998752022,
          -2.812977441397227,
          -2.9328619518803745,
          -3.65879971638288
         ],
         "yaxis": "y"
        },
        {
         "hovertemplate": "Class=3<br>Corrupted=0.0<br>x=%{x}<br>y=%{y}<extra></extra>",
         "legendgroup": "3, 0.0",
         "marker": {
          "color": "#19d3f3",
          "size": 8,
          "symbol": "circle"
         },
         "mode": "markers",
         "name": "3, 0.0",
         "orientation": "v",
         "showlegend": true,
         "type": "scatter",
         "x": [
          0.498827447347355,
          0.10455082252013469,
          -0.3116364492875716,
          0.9348574426474812,
          -1.3443403182764035,
          -0.21583069168312113,
          0.5479078486439364,
          -0.8190611198058972,
          0.04889813735700282,
          -0.27572550408182595,
          -0.6632382602413407,
          -0.2650644501361434,
          -1.1414373368456514,
          -0.5642671374951346,
          -0.05722241447001564,
          0.08357664216953775,
          -0.21131733322684454,
          -0.22915918664393373,
          -1.371058475902572,
          0.5000997518921841,
          -0.7172491950021318,
          -0.6989605488307252,
          -0.5068715648567493
         ],
         "xaxis": "x",
         "y": [
          -0.5608168233036142,
          -0.38593207040151756,
          -1.5521786764024579,
          -0.4365854636252551,
          0.4159754645881895,
          0.6836139124433595,
          -0.5999380581042534,
          0.2890523607376972,
          -0.3058975275467149,
          -1.246019433271294,
          -0.617992255996895,
          -0.2660680288845092,
          -0.32474980984352864,
          -1.5176094090232224,
          -0.4806981039474064,
          -0.2568027151369457,
          -0.7979092940920841,
          -0.5757694991681312,
          -0.13281923520191777,
          -0.3792379440202647,
          -0.15180274435488747,
          -1.516707689360931,
          -0.3986147331528448
         ],
         "yaxis": "y"
        },
        {
         "hovertemplate": "Class=4<br>Corrupted=0.0<br>x=%{x}<br>y=%{y}<extra></extra>",
         "legendgroup": "4, 0.0",
         "marker": {
          "color": "#FF6692",
          "size": 8,
          "symbol": "circle"
         },
         "mode": "markers",
         "name": "4, 0.0",
         "orientation": "v",
         "showlegend": true,
         "type": "scatter",
         "x": [
          2.1108601419953663,
          2.4011751616479597,
          2.024306562551365,
          2.5277601709898114,
          3.0096430028718117,
          1.2349754016196492,
          3.160965858529676,
          1.8745632314501295,
          2.1818709798757245,
          2.538015506858987,
          1.6045548441778623,
          1.8483403947968728,
          2.1431915874055947
         ],
         "xaxis": "x",
         "y": [
          2.0095266727531405,
          2.2084843304690263,
          3.1160838136131215,
          2.24496700614926,
          3.027097977678257,
          2.051979521531855,
          2.948087059935425,
          1.5671972787292359,
          2.596182164733272,
          1.8727032169840787,
          1.9735502897451256,
          2.15822261853181,
          2.665014908617875
         ],
         "yaxis": "y"
        },
        {
         "hovertemplate": "Class=5<br>Corrupted=0.0<br>x=%{x}<br>y=%{y}<extra></extra>",
         "legendgroup": "5, 0.0",
         "marker": {
          "color": "#B6E880",
          "size": 8,
          "symbol": "circle"
         },
         "mode": "markers",
         "name": "5, 0.0",
         "orientation": "v",
         "showlegend": true,
         "type": "scatter",
         "x": [
          1.0064844150347572,
          -0.6427340042338797,
          0.08754480620398104,
          1.3067924855492112,
          0.17454716535988585,
          0.42858596279398126,
          0.37060801313290076,
          0.2950483133704295,
          0.3254220945935113,
          -0.028353316883038073,
          1.6547075357782373,
          0.9585425702759586
         ],
         "xaxis": "x",
         "y": [
          1.2561183115492163,
          0.9103079247981107,
          2.7296197948638516,
          1.542721539749484,
          1.912718148529069,
          1.4038039894239691,
          0.5066800981158902,
          1.675171725494812,
          1.3151816147578044,
          1.8738277098445435,
          1.219077335465638,
          1.192191873503833
         ],
         "yaxis": "y"
        }
       ],
       "layout": {
        "legend": {
         "title": {
          "text": "Class, Corrupted"
         },
         "tracegroupgap": 0
        },
        "template": {
         "data": {
          "bar": [
           {
            "error_x": {
             "color": "#2a3f5f"
            },
            "error_y": {
             "color": "#2a3f5f"
            },
            "marker": {
             "line": {
              "color": "#E5ECF6",
              "width": 0.5
             },
             "pattern": {
              "fillmode": "overlay",
              "size": 10,
              "solidity": 0.2
             }
            },
            "type": "bar"
           }
          ],
          "barpolar": [
           {
            "marker": {
             "line": {
              "color": "#E5ECF6",
              "width": 0.5
             },
             "pattern": {
              "fillmode": "overlay",
              "size": 10,
              "solidity": 0.2
             }
            },
            "type": "barpolar"
           }
          ],
          "carpet": [
           {
            "aaxis": {
             "endlinecolor": "#2a3f5f",
             "gridcolor": "white",
             "linecolor": "white",
             "minorgridcolor": "white",
             "startlinecolor": "#2a3f5f"
            },
            "baxis": {
             "endlinecolor": "#2a3f5f",
             "gridcolor": "white",
             "linecolor": "white",
             "minorgridcolor": "white",
             "startlinecolor": "#2a3f5f"
            },
            "type": "carpet"
           }
          ],
          "choropleth": [
           {
            "colorbar": {
             "outlinewidth": 0,
             "ticks": ""
            },
            "type": "choropleth"
           }
          ],
          "contour": [
           {
            "colorbar": {
             "outlinewidth": 0,
             "ticks": ""
            },
            "colorscale": [
             [
              0,
              "#0d0887"
             ],
             [
              0.1111111111111111,
              "#46039f"
             ],
             [
              0.2222222222222222,
              "#7201a8"
             ],
             [
              0.3333333333333333,
              "#9c179e"
             ],
             [
              0.4444444444444444,
              "#bd3786"
             ],
             [
              0.5555555555555556,
              "#d8576b"
             ],
             [
              0.6666666666666666,
              "#ed7953"
             ],
             [
              0.7777777777777778,
              "#fb9f3a"
             ],
             [
              0.8888888888888888,
              "#fdca26"
             ],
             [
              1,
              "#f0f921"
             ]
            ],
            "type": "contour"
           }
          ],
          "contourcarpet": [
           {
            "colorbar": {
             "outlinewidth": 0,
             "ticks": ""
            },
            "type": "contourcarpet"
           }
          ],
          "heatmap": [
           {
            "colorbar": {
             "outlinewidth": 0,
             "ticks": ""
            },
            "colorscale": [
             [
              0,
              "#0d0887"
             ],
             [
              0.1111111111111111,
              "#46039f"
             ],
             [
              0.2222222222222222,
              "#7201a8"
             ],
             [
              0.3333333333333333,
              "#9c179e"
             ],
             [
              0.4444444444444444,
              "#bd3786"
             ],
             [
              0.5555555555555556,
              "#d8576b"
             ],
             [
              0.6666666666666666,
              "#ed7953"
             ],
             [
              0.7777777777777778,
              "#fb9f3a"
             ],
             [
              0.8888888888888888,
              "#fdca26"
             ],
             [
              1,
              "#f0f921"
             ]
            ],
            "type": "heatmap"
           }
          ],
          "heatmapgl": [
           {
            "colorbar": {
             "outlinewidth": 0,
             "ticks": ""
            },
            "colorscale": [
             [
              0,
              "#0d0887"
             ],
             [
              0.1111111111111111,
              "#46039f"
             ],
             [
              0.2222222222222222,
              "#7201a8"
             ],
             [
              0.3333333333333333,
              "#9c179e"
             ],
             [
              0.4444444444444444,
              "#bd3786"
             ],
             [
              0.5555555555555556,
              "#d8576b"
             ],
             [
              0.6666666666666666,
              "#ed7953"
             ],
             [
              0.7777777777777778,
              "#fb9f3a"
             ],
             [
              0.8888888888888888,
              "#fdca26"
             ],
             [
              1,
              "#f0f921"
             ]
            ],
            "type": "heatmapgl"
           }
          ],
          "histogram": [
           {
            "marker": {
             "pattern": {
              "fillmode": "overlay",
              "size": 10,
              "solidity": 0.2
             }
            },
            "type": "histogram"
           }
          ],
          "histogram2d": [
           {
            "colorbar": {
             "outlinewidth": 0,
             "ticks": ""
            },
            "colorscale": [
             [
              0,
              "#0d0887"
             ],
             [
              0.1111111111111111,
              "#46039f"
             ],
             [
              0.2222222222222222,
              "#7201a8"
             ],
             [
              0.3333333333333333,
              "#9c179e"
             ],
             [
              0.4444444444444444,
              "#bd3786"
             ],
             [
              0.5555555555555556,
              "#d8576b"
             ],
             [
              0.6666666666666666,
              "#ed7953"
             ],
             [
              0.7777777777777778,
              "#fb9f3a"
             ],
             [
              0.8888888888888888,
              "#fdca26"
             ],
             [
              1,
              "#f0f921"
             ]
            ],
            "type": "histogram2d"
           }
          ],
          "histogram2dcontour": [
           {
            "colorbar": {
             "outlinewidth": 0,
             "ticks": ""
            },
            "colorscale": [
             [
              0,
              "#0d0887"
             ],
             [
              0.1111111111111111,
              "#46039f"
             ],
             [
              0.2222222222222222,
              "#7201a8"
             ],
             [
              0.3333333333333333,
              "#9c179e"
             ],
             [
              0.4444444444444444,
              "#bd3786"
             ],
             [
              0.5555555555555556,
              "#d8576b"
             ],
             [
              0.6666666666666666,
              "#ed7953"
             ],
             [
              0.7777777777777778,
              "#fb9f3a"
             ],
             [
              0.8888888888888888,
              "#fdca26"
             ],
             [
              1,
              "#f0f921"
             ]
            ],
            "type": "histogram2dcontour"
           }
          ],
          "mesh3d": [
           {
            "colorbar": {
             "outlinewidth": 0,
             "ticks": ""
            },
            "type": "mesh3d"
           }
          ],
          "parcoords": [
           {
            "line": {
             "colorbar": {
              "outlinewidth": 0,
              "ticks": ""
             }
            },
            "type": "parcoords"
           }
          ],
          "pie": [
           {
            "automargin": true,
            "type": "pie"
           }
          ],
          "scatter": [
           {
            "fillpattern": {
             "fillmode": "overlay",
             "size": 10,
             "solidity": 0.2
            },
            "type": "scatter"
           }
          ],
          "scatter3d": [
           {
            "line": {
             "colorbar": {
              "outlinewidth": 0,
              "ticks": ""
             }
            },
            "marker": {
             "colorbar": {
              "outlinewidth": 0,
              "ticks": ""
             }
            },
            "type": "scatter3d"
           }
          ],
          "scattercarpet": [
           {
            "marker": {
             "colorbar": {
              "outlinewidth": 0,
              "ticks": ""
             }
            },
            "type": "scattercarpet"
           }
          ],
          "scattergeo": [
           {
            "marker": {
             "colorbar": {
              "outlinewidth": 0,
              "ticks": ""
             }
            },
            "type": "scattergeo"
           }
          ],
          "scattergl": [
           {
            "marker": {
             "colorbar": {
              "outlinewidth": 0,
              "ticks": ""
             }
            },
            "type": "scattergl"
           }
          ],
          "scattermapbox": [
           {
            "marker": {
             "colorbar": {
              "outlinewidth": 0,
              "ticks": ""
             }
            },
            "type": "scattermapbox"
           }
          ],
          "scatterpolar": [
           {
            "marker": {
             "colorbar": {
              "outlinewidth": 0,
              "ticks": ""
             }
            },
            "type": "scatterpolar"
           }
          ],
          "scatterpolargl": [
           {
            "marker": {
             "colorbar": {
              "outlinewidth": 0,
              "ticks": ""
             }
            },
            "type": "scatterpolargl"
           }
          ],
          "scatterternary": [
           {
            "marker": {
             "colorbar": {
              "outlinewidth": 0,
              "ticks": ""
             }
            },
            "type": "scatterternary"
           }
          ],
          "surface": [
           {
            "colorbar": {
             "outlinewidth": 0,
             "ticks": ""
            },
            "colorscale": [
             [
              0,
              "#0d0887"
             ],
             [
              0.1111111111111111,
              "#46039f"
             ],
             [
              0.2222222222222222,
              "#7201a8"
             ],
             [
              0.3333333333333333,
              "#9c179e"
             ],
             [
              0.4444444444444444,
              "#bd3786"
             ],
             [
              0.5555555555555556,
              "#d8576b"
             ],
             [
              0.6666666666666666,
              "#ed7953"
             ],
             [
              0.7777777777777778,
              "#fb9f3a"
             ],
             [
              0.8888888888888888,
              "#fdca26"
             ],
             [
              1,
              "#f0f921"
             ]
            ],
            "type": "surface"
           }
          ],
          "table": [
           {
            "cells": {
             "fill": {
              "color": "#EBF0F8"
             },
             "line": {
              "color": "white"
             }
            },
            "header": {
             "fill": {
              "color": "#C8D4E3"
             },
             "line": {
              "color": "white"
             }
            },
            "type": "table"
           }
          ]
         },
         "layout": {
          "annotationdefaults": {
           "arrowcolor": "#2a3f5f",
           "arrowhead": 0,
           "arrowwidth": 1
          },
          "autotypenumbers": "strict",
          "coloraxis": {
           "colorbar": {
            "outlinewidth": 0,
            "ticks": ""
           }
          },
          "colorscale": {
           "diverging": [
            [
             0,
             "#8e0152"
            ],
            [
             0.1,
             "#c51b7d"
            ],
            [
             0.2,
             "#de77ae"
            ],
            [
             0.3,
             "#f1b6da"
            ],
            [
             0.4,
             "#fde0ef"
            ],
            [
             0.5,
             "#f7f7f7"
            ],
            [
             0.6,
             "#e6f5d0"
            ],
            [
             0.7,
             "#b8e186"
            ],
            [
             0.8,
             "#7fbc41"
            ],
            [
             0.9,
             "#4d9221"
            ],
            [
             1,
             "#276419"
            ]
           ],
           "sequential": [
            [
             0,
             "#0d0887"
            ],
            [
             0.1111111111111111,
             "#46039f"
            ],
            [
             0.2222222222222222,
             "#7201a8"
            ],
            [
             0.3333333333333333,
             "#9c179e"
            ],
            [
             0.4444444444444444,
             "#bd3786"
            ],
            [
             0.5555555555555556,
             "#d8576b"
            ],
            [
             0.6666666666666666,
             "#ed7953"
            ],
            [
             0.7777777777777778,
             "#fb9f3a"
            ],
            [
             0.8888888888888888,
             "#fdca26"
            ],
            [
             1,
             "#f0f921"
            ]
           ],
           "sequentialminus": [
            [
             0,
             "#0d0887"
            ],
            [
             0.1111111111111111,
             "#46039f"
            ],
            [
             0.2222222222222222,
             "#7201a8"
            ],
            [
             0.3333333333333333,
             "#9c179e"
            ],
            [
             0.4444444444444444,
             "#bd3786"
            ],
            [
             0.5555555555555556,
             "#d8576b"
            ],
            [
             0.6666666666666666,
             "#ed7953"
            ],
            [
             0.7777777777777778,
             "#fb9f3a"
            ],
            [
             0.8888888888888888,
             "#fdca26"
            ],
            [
             1,
             "#f0f921"
            ]
           ]
          },
          "colorway": [
           "#636efa",
           "#EF553B",
           "#00cc96",
           "#ab63fa",
           "#FFA15A",
           "#19d3f3",
           "#FF6692",
           "#B6E880",
           "#FF97FF",
           "#FECB52"
          ],
          "font": {
           "color": "#2a3f5f"
          },
          "geo": {
           "bgcolor": "white",
           "lakecolor": "white",
           "landcolor": "#E5ECF6",
           "showlakes": true,
           "showland": true,
           "subunitcolor": "white"
          },
          "hoverlabel": {
           "align": "left"
          },
          "hovermode": "closest",
          "mapbox": {
           "style": "light"
          },
          "paper_bgcolor": "white",
          "plot_bgcolor": "#E5ECF6",
          "polar": {
           "angularaxis": {
            "gridcolor": "white",
            "linecolor": "white",
            "ticks": ""
           },
           "bgcolor": "#E5ECF6",
           "radialaxis": {
            "gridcolor": "white",
            "linecolor": "white",
            "ticks": ""
           }
          },
          "scene": {
           "xaxis": {
            "backgroundcolor": "#E5ECF6",
            "gridcolor": "white",
            "gridwidth": 2,
            "linecolor": "white",
            "showbackground": true,
            "ticks": "",
            "zerolinecolor": "white"
           },
           "yaxis": {
            "backgroundcolor": "#E5ECF6",
            "gridcolor": "white",
            "gridwidth": 2,
            "linecolor": "white",
            "showbackground": true,
            "ticks": "",
            "zerolinecolor": "white"
           },
           "zaxis": {
            "backgroundcolor": "#E5ECF6",
            "gridcolor": "white",
            "gridwidth": 2,
            "linecolor": "white",
            "showbackground": true,
            "ticks": "",
            "zerolinecolor": "white"
           }
          },
          "shapedefaults": {
           "line": {
            "color": "#2a3f5f"
           }
          },
          "ternary": {
           "aaxis": {
            "gridcolor": "white",
            "linecolor": "white",
            "ticks": ""
           },
           "baxis": {
            "gridcolor": "white",
            "linecolor": "white",
            "ticks": ""
           },
           "bgcolor": "#E5ECF6",
           "caxis": {
            "gridcolor": "white",
            "linecolor": "white",
            "ticks": ""
           }
          },
          "title": {
           "x": 0.05
          },
          "xaxis": {
           "automargin": true,
           "gridcolor": "white",
           "linecolor": "white",
           "ticks": "",
           "title": {
            "standoff": 15
           },
           "zerolinecolor": "white",
           "zerolinewidth": 2
          },
          "yaxis": {
           "automargin": true,
           "gridcolor": "white",
           "linecolor": "white",
           "ticks": "",
           "title": {
            "standoff": 15
           },
           "zerolinecolor": "white",
           "zerolinewidth": 2
          }
         }
        },
        "title": {
         "text": "Pure data"
        },
        "xaxis": {
         "anchor": "y",
         "domain": [
          0,
          1
         ],
         "title": {
          "text": "x"
         }
        },
        "yaxis": {
         "anchor": "x",
         "domain": [
          0,
          1
         ],
         "title": {
          "text": "y"
         }
        }
       }
      }
     },
     "metadata": {},
     "output_type": "display_data"
    }
   ],
   "source": [
    "vis_PCA(train_data[train_data['Corrupted'] == 0], 'Class', 'Corrupted', 'Pure data')"
   ]
  },
  {
   "cell_type": "markdown",
   "metadata": {},
   "source": [
    "We can notice that some classes, for example 1 and 9, are visually separated in the current projection.\n",
    "\n",
    "Let's look at a few classes individually."
   ]
  },
  {
   "cell_type": "code",
   "execution_count": 30,
   "metadata": {},
   "outputs": [
    {
     "data": {
      "application/vnd.plotly.v1+json": {
       "config": {
        "plotlyServerURL": "https://plot.ly"
       },
       "data": [
        {
         "hovertemplate": "Corrupted=1.0<br>x=%{x}<br>y=%{y}<extra></extra>",
         "legendgroup": "1.0",
         "marker": {
          "color": "#FF5722",
          "size": 8,
          "symbol": "circle"
         },
         "mode": "markers",
         "name": "1.0",
         "orientation": "v",
         "showlegend": true,
         "type": "scatter",
         "x": [
          2.0161851671469964,
          0.37629993255031563,
          3.5628165511372316,
          2.198360348763438,
          3.8720817489157264,
          -3.013253117856182,
          5.451875625369388,
          1.1928992271963197,
          -1.4996698742622876,
          3.126533622348893,
          5.603909857331897,
          3.6188891956377605
         ],
         "xaxis": "x",
         "y": [
          -0.011865272579063179,
          -0.3228548533851878,
          0.17888361352030113,
          -0.1026666474725888,
          1.0111182543765553,
          -0.8947298552347616,
          -0.14284361436866877,
          -0.7334054157869858,
          -3.0990167893327834,
          -0.5823323834402198,
          -2.1342727818773146,
          0.5423973259857577
         ],
         "yaxis": "y"
        },
        {
         "hovertemplate": "Corrupted=N/A<br>x=%{x}<br>y=%{y}<extra></extra>",
         "legendgroup": "N/A",
         "marker": {
          "color": "#CCCCCC",
          "size": 8,
          "symbol": "circle"
         },
         "mode": "markers",
         "name": "N/A",
         "orientation": "v",
         "showlegend": true,
         "type": "scatter",
         "x": [
          -0.8480004017256968,
          -2.1383176955452625,
          1.2345439403051053,
          -0.64375004964528,
          -1.1564334663362668,
          -1.1839148825212151,
          2.231265732573923,
          -0.40961858549129804,
          4.122441100388843,
          0.16683136768469198,
          -0.996150991786244,
          3.217532178495284,
          -0.6461360435001149,
          -1.4453466213648707,
          0.33799808430658806,
          -0.8790449567236027,
          -1.4827629454397067,
          2.4825942788998003,
          -1.0478806607270301,
          -1.2250320506350207,
          -0.36000134688234825,
          4.216536345765662,
          6.0695313278438325,
          3.0425394713530154,
          1.612826438331635,
          0.10170216948192212,
          0.4377165795876601,
          -1.1627180454732746,
          -0.7605863611566854,
          0.34342661638267463,
          3.108367910837819,
          -0.4768868007008285,
          -1.0321850750022725,
          -1.1029152154994002,
          -0.5653222446154319,
          -0.5571201906248388,
          -1.5623272286302146,
          1.8850595489482727,
          -0.9004981417291459,
          5.227965468804211,
          -0.17792265395899243,
          0.3662732096821337,
          -1.6988031215718105,
          -1.0684922635493987,
          -1.0354575742770047,
          -1.5700945238917583,
          0.4270606295711415,
          3.20953664997905,
          -1.3649472828053724,
          -0.6650913654181755,
          -0.9570122990782859,
          -0.18062621671556925,
          -0.6636627962624257,
          -0.7102385801466877,
          -1.4493973289377604,
          -1.2006980846149402,
          -0.7993730898781782,
          -2.4834044409573006,
          -0.7228393180904541,
          2.856990884400075,
          -0.5902137478677124,
          -1.1088783501453914,
          0.46984644991018204,
          -0.6480778984518638,
          1.1980787872722394,
          -0.8104519352455458,
          -1.202288040992107,
          -0.0767984212897243,
          -0.0061651460061923355,
          -0.6473170233666959,
          -0.8463200746780322,
          0.09236385072380303,
          -1.075487013889398,
          1.2057590723085774,
          -0.5227614198162269,
          -1.2906114299889073,
          -4.54182405594278,
          -1.285688000285394,
          -1.0729268494038873,
          -0.3601614760126494,
          -1.0956838272326401,
          3.7235947230953865,
          -3.3954694690100555,
          -1.3022302729624116,
          -1.716629818538646,
          -1.103517501676545,
          2.2521274060013194,
          -2.4069033202678503,
          1.9785299362031028
         ],
         "xaxis": "x",
         "y": [
          -0.24761514108388744,
          -2.564881387201672,
          1.3219312016496585,
          -0.59757253351798,
          -1.058481484157398,
          -0.010191661597926673,
          -2.1464495586787167,
          -0.5154383753460438,
          2.825791443869182,
          -0.13931002463972417,
          0.16405064134425026,
          1.0411338450867467,
          0.5259821810798236,
          0.13571667984694363,
          -0.6320409499429046,
          0.05931008633076497,
          0.9090784046720414,
          -0.16726883924629826,
          -0.526591839248194,
          -0.23128290163029708,
          5.010087627757052,
          -2.221763171109843,
          -0.9446053295375053,
          3.2395505930346657,
          3.065064057062567,
          0.48618531198866116,
          -0.7462134156731052,
          0.24854789834021782,
          -0.3024483586193867,
          3.0441552960490577,
          1.323865416356882,
          -0.048989479630775344,
          -0.5800155511318673,
          0.563442328878088,
          3.0970357318547266,
          -0.11252952915219279,
          -0.08804787682559272,
          -0.686772769150898,
          0.07573934934940357,
          0.18903698061556906,
          0.46353763727545133,
          -4.808210563713559,
          0.7595119772320174,
          -0.30136686833571646,
          0.6533131762792789,
          -0.8032236356751431,
          -3.581954805850319,
          3.304011837335871,
          -0.14112630944635482,
          1.150296224931082,
          0.13528131955551734,
          -0.3746852649119283,
          -2.6925131431458977,
          0.0074290235587346825,
          3.637685734473384,
          0.18403385539684272,
          0.036862473791520675,
          0.7113563087916093,
          -0.08858560420406927,
          -0.729421838073718,
          -0.6215087971398454,
          0.11752238118420373,
          0.9595495557982592,
          0.1785363919333973,
          -2.9186174714290694,
          -0.18562090896698197,
          0.1395339174548246,
          0.030719710062850777,
          -3.592161757755139,
          -0.6619288861053411,
          -0.07983915392276159,
          -0.25015794846503886,
          0.5136781929413995,
          -1.7626508262858054,
          -0.01225230419166585,
          -0.6219796156752866,
          4.410144997355347,
          0.5788724541277773,
          -0.49416204598006935,
          -0.876818487603758,
          0.32590274659799295,
          2.7678190759007513,
          -1.5946024607840574,
          -0.5574372769248432,
          0.21569110791229418,
          -0.08540620087531597,
          -0.8266993772350473,
          3.703792068319135,
          0.6818419648657215
         ],
         "yaxis": "y"
        },
        {
         "hovertemplate": "Corrupted=0.0<br>x=%{x}<br>y=%{y}<extra></extra>",
         "legendgroup": "0.0",
         "marker": {
          "color": "#4CAF50",
          "size": 8,
          "symbol": "circle"
         },
         "mode": "markers",
         "name": "0.0",
         "orientation": "v",
         "showlegend": true,
         "type": "scatter",
         "x": [
          -1.1709761549552469,
          -1.1770867391039221,
          -0.7415627916147278,
          -0.72416303121606,
          -0.7905570510182426,
          -1.0489213128055546,
          -0.9835786934447254,
          -0.8462289726580924,
          -1.580581602515874,
          -1.7272547183691735,
          -0.3775709871556476,
          -1.2645759419299205,
          -0.08098401242503495,
          -0.980041141399992,
          -1.0262396506160234,
          -1.2901222334535363,
          -1.075465575626374,
          -0.8026417981284686
         ],
         "xaxis": "x",
         "y": [
          -0.4573117825411769,
          -0.6179566846890693,
          -0.36557224599651406,
          -0.06469157384507729,
          -0.03822668635720021,
          -0.11584985300780569,
          -0.5595017158259956,
          -0.6089610626438263,
          -0.32487401572060426,
          0.07331783935040656,
          -0.9350973161467376,
          0.19667228295461098,
          -0.0639167262434286,
          0.35263822707682346,
          -0.34301270631072994,
          0.03236186488327552,
          0.3162933537566443,
          0.054089742478738226
         ],
         "yaxis": "y"
        }
       ],
       "layout": {
        "legend": {
         "title": {
          "text": "Corrupted"
         },
         "tracegroupgap": 0
        },
        "template": {
         "data": {
          "bar": [
           {
            "error_x": {
             "color": "#2a3f5f"
            },
            "error_y": {
             "color": "#2a3f5f"
            },
            "marker": {
             "line": {
              "color": "#E5ECF6",
              "width": 0.5
             },
             "pattern": {
              "fillmode": "overlay",
              "size": 10,
              "solidity": 0.2
             }
            },
            "type": "bar"
           }
          ],
          "barpolar": [
           {
            "marker": {
             "line": {
              "color": "#E5ECF6",
              "width": 0.5
             },
             "pattern": {
              "fillmode": "overlay",
              "size": 10,
              "solidity": 0.2
             }
            },
            "type": "barpolar"
           }
          ],
          "carpet": [
           {
            "aaxis": {
             "endlinecolor": "#2a3f5f",
             "gridcolor": "white",
             "linecolor": "white",
             "minorgridcolor": "white",
             "startlinecolor": "#2a3f5f"
            },
            "baxis": {
             "endlinecolor": "#2a3f5f",
             "gridcolor": "white",
             "linecolor": "white",
             "minorgridcolor": "white",
             "startlinecolor": "#2a3f5f"
            },
            "type": "carpet"
           }
          ],
          "choropleth": [
           {
            "colorbar": {
             "outlinewidth": 0,
             "ticks": ""
            },
            "type": "choropleth"
           }
          ],
          "contour": [
           {
            "colorbar": {
             "outlinewidth": 0,
             "ticks": ""
            },
            "colorscale": [
             [
              0,
              "#0d0887"
             ],
             [
              0.1111111111111111,
              "#46039f"
             ],
             [
              0.2222222222222222,
              "#7201a8"
             ],
             [
              0.3333333333333333,
              "#9c179e"
             ],
             [
              0.4444444444444444,
              "#bd3786"
             ],
             [
              0.5555555555555556,
              "#d8576b"
             ],
             [
              0.6666666666666666,
              "#ed7953"
             ],
             [
              0.7777777777777778,
              "#fb9f3a"
             ],
             [
              0.8888888888888888,
              "#fdca26"
             ],
             [
              1,
              "#f0f921"
             ]
            ],
            "type": "contour"
           }
          ],
          "contourcarpet": [
           {
            "colorbar": {
             "outlinewidth": 0,
             "ticks": ""
            },
            "type": "contourcarpet"
           }
          ],
          "heatmap": [
           {
            "colorbar": {
             "outlinewidth": 0,
             "ticks": ""
            },
            "colorscale": [
             [
              0,
              "#0d0887"
             ],
             [
              0.1111111111111111,
              "#46039f"
             ],
             [
              0.2222222222222222,
              "#7201a8"
             ],
             [
              0.3333333333333333,
              "#9c179e"
             ],
             [
              0.4444444444444444,
              "#bd3786"
             ],
             [
              0.5555555555555556,
              "#d8576b"
             ],
             [
              0.6666666666666666,
              "#ed7953"
             ],
             [
              0.7777777777777778,
              "#fb9f3a"
             ],
             [
              0.8888888888888888,
              "#fdca26"
             ],
             [
              1,
              "#f0f921"
             ]
            ],
            "type": "heatmap"
           }
          ],
          "heatmapgl": [
           {
            "colorbar": {
             "outlinewidth": 0,
             "ticks": ""
            },
            "colorscale": [
             [
              0,
              "#0d0887"
             ],
             [
              0.1111111111111111,
              "#46039f"
             ],
             [
              0.2222222222222222,
              "#7201a8"
             ],
             [
              0.3333333333333333,
              "#9c179e"
             ],
             [
              0.4444444444444444,
              "#bd3786"
             ],
             [
              0.5555555555555556,
              "#d8576b"
             ],
             [
              0.6666666666666666,
              "#ed7953"
             ],
             [
              0.7777777777777778,
              "#fb9f3a"
             ],
             [
              0.8888888888888888,
              "#fdca26"
             ],
             [
              1,
              "#f0f921"
             ]
            ],
            "type": "heatmapgl"
           }
          ],
          "histogram": [
           {
            "marker": {
             "pattern": {
              "fillmode": "overlay",
              "size": 10,
              "solidity": 0.2
             }
            },
            "type": "histogram"
           }
          ],
          "histogram2d": [
           {
            "colorbar": {
             "outlinewidth": 0,
             "ticks": ""
            },
            "colorscale": [
             [
              0,
              "#0d0887"
             ],
             [
              0.1111111111111111,
              "#46039f"
             ],
             [
              0.2222222222222222,
              "#7201a8"
             ],
             [
              0.3333333333333333,
              "#9c179e"
             ],
             [
              0.4444444444444444,
              "#bd3786"
             ],
             [
              0.5555555555555556,
              "#d8576b"
             ],
             [
              0.6666666666666666,
              "#ed7953"
             ],
             [
              0.7777777777777778,
              "#fb9f3a"
             ],
             [
              0.8888888888888888,
              "#fdca26"
             ],
             [
              1,
              "#f0f921"
             ]
            ],
            "type": "histogram2d"
           }
          ],
          "histogram2dcontour": [
           {
            "colorbar": {
             "outlinewidth": 0,
             "ticks": ""
            },
            "colorscale": [
             [
              0,
              "#0d0887"
             ],
             [
              0.1111111111111111,
              "#46039f"
             ],
             [
              0.2222222222222222,
              "#7201a8"
             ],
             [
              0.3333333333333333,
              "#9c179e"
             ],
             [
              0.4444444444444444,
              "#bd3786"
             ],
             [
              0.5555555555555556,
              "#d8576b"
             ],
             [
              0.6666666666666666,
              "#ed7953"
             ],
             [
              0.7777777777777778,
              "#fb9f3a"
             ],
             [
              0.8888888888888888,
              "#fdca26"
             ],
             [
              1,
              "#f0f921"
             ]
            ],
            "type": "histogram2dcontour"
           }
          ],
          "mesh3d": [
           {
            "colorbar": {
             "outlinewidth": 0,
             "ticks": ""
            },
            "type": "mesh3d"
           }
          ],
          "parcoords": [
           {
            "line": {
             "colorbar": {
              "outlinewidth": 0,
              "ticks": ""
             }
            },
            "type": "parcoords"
           }
          ],
          "pie": [
           {
            "automargin": true,
            "type": "pie"
           }
          ],
          "scatter": [
           {
            "fillpattern": {
             "fillmode": "overlay",
             "size": 10,
             "solidity": 0.2
            },
            "type": "scatter"
           }
          ],
          "scatter3d": [
           {
            "line": {
             "colorbar": {
              "outlinewidth": 0,
              "ticks": ""
             }
            },
            "marker": {
             "colorbar": {
              "outlinewidth": 0,
              "ticks": ""
             }
            },
            "type": "scatter3d"
           }
          ],
          "scattercarpet": [
           {
            "marker": {
             "colorbar": {
              "outlinewidth": 0,
              "ticks": ""
             }
            },
            "type": "scattercarpet"
           }
          ],
          "scattergeo": [
           {
            "marker": {
             "colorbar": {
              "outlinewidth": 0,
              "ticks": ""
             }
            },
            "type": "scattergeo"
           }
          ],
          "scattergl": [
           {
            "marker": {
             "colorbar": {
              "outlinewidth": 0,
              "ticks": ""
             }
            },
            "type": "scattergl"
           }
          ],
          "scattermapbox": [
           {
            "marker": {
             "colorbar": {
              "outlinewidth": 0,
              "ticks": ""
             }
            },
            "type": "scattermapbox"
           }
          ],
          "scatterpolar": [
           {
            "marker": {
             "colorbar": {
              "outlinewidth": 0,
              "ticks": ""
             }
            },
            "type": "scatterpolar"
           }
          ],
          "scatterpolargl": [
           {
            "marker": {
             "colorbar": {
              "outlinewidth": 0,
              "ticks": ""
             }
            },
            "type": "scatterpolargl"
           }
          ],
          "scatterternary": [
           {
            "marker": {
             "colorbar": {
              "outlinewidth": 0,
              "ticks": ""
             }
            },
            "type": "scatterternary"
           }
          ],
          "surface": [
           {
            "colorbar": {
             "outlinewidth": 0,
             "ticks": ""
            },
            "colorscale": [
             [
              0,
              "#0d0887"
             ],
             [
              0.1111111111111111,
              "#46039f"
             ],
             [
              0.2222222222222222,
              "#7201a8"
             ],
             [
              0.3333333333333333,
              "#9c179e"
             ],
             [
              0.4444444444444444,
              "#bd3786"
             ],
             [
              0.5555555555555556,
              "#d8576b"
             ],
             [
              0.6666666666666666,
              "#ed7953"
             ],
             [
              0.7777777777777778,
              "#fb9f3a"
             ],
             [
              0.8888888888888888,
              "#fdca26"
             ],
             [
              1,
              "#f0f921"
             ]
            ],
            "type": "surface"
           }
          ],
          "table": [
           {
            "cells": {
             "fill": {
              "color": "#EBF0F8"
             },
             "line": {
              "color": "white"
             }
            },
            "header": {
             "fill": {
              "color": "#C8D4E3"
             },
             "line": {
              "color": "white"
             }
            },
            "type": "table"
           }
          ]
         },
         "layout": {
          "annotationdefaults": {
           "arrowcolor": "#2a3f5f",
           "arrowhead": 0,
           "arrowwidth": 1
          },
          "autotypenumbers": "strict",
          "coloraxis": {
           "colorbar": {
            "outlinewidth": 0,
            "ticks": ""
           }
          },
          "colorscale": {
           "diverging": [
            [
             0,
             "#8e0152"
            ],
            [
             0.1,
             "#c51b7d"
            ],
            [
             0.2,
             "#de77ae"
            ],
            [
             0.3,
             "#f1b6da"
            ],
            [
             0.4,
             "#fde0ef"
            ],
            [
             0.5,
             "#f7f7f7"
            ],
            [
             0.6,
             "#e6f5d0"
            ],
            [
             0.7,
             "#b8e186"
            ],
            [
             0.8,
             "#7fbc41"
            ],
            [
             0.9,
             "#4d9221"
            ],
            [
             1,
             "#276419"
            ]
           ],
           "sequential": [
            [
             0,
             "#0d0887"
            ],
            [
             0.1111111111111111,
             "#46039f"
            ],
            [
             0.2222222222222222,
             "#7201a8"
            ],
            [
             0.3333333333333333,
             "#9c179e"
            ],
            [
             0.4444444444444444,
             "#bd3786"
            ],
            [
             0.5555555555555556,
             "#d8576b"
            ],
            [
             0.6666666666666666,
             "#ed7953"
            ],
            [
             0.7777777777777778,
             "#fb9f3a"
            ],
            [
             0.8888888888888888,
             "#fdca26"
            ],
            [
             1,
             "#f0f921"
            ]
           ],
           "sequentialminus": [
            [
             0,
             "#0d0887"
            ],
            [
             0.1111111111111111,
             "#46039f"
            ],
            [
             0.2222222222222222,
             "#7201a8"
            ],
            [
             0.3333333333333333,
             "#9c179e"
            ],
            [
             0.4444444444444444,
             "#bd3786"
            ],
            [
             0.5555555555555556,
             "#d8576b"
            ],
            [
             0.6666666666666666,
             "#ed7953"
            ],
            [
             0.7777777777777778,
             "#fb9f3a"
            ],
            [
             0.8888888888888888,
             "#fdca26"
            ],
            [
             1,
             "#f0f921"
            ]
           ]
          },
          "colorway": [
           "#636efa",
           "#EF553B",
           "#00cc96",
           "#ab63fa",
           "#FFA15A",
           "#19d3f3",
           "#FF6692",
           "#B6E880",
           "#FF97FF",
           "#FECB52"
          ],
          "font": {
           "color": "#2a3f5f"
          },
          "geo": {
           "bgcolor": "white",
           "lakecolor": "white",
           "landcolor": "#E5ECF6",
           "showlakes": true,
           "showland": true,
           "subunitcolor": "white"
          },
          "hoverlabel": {
           "align": "left"
          },
          "hovermode": "closest",
          "mapbox": {
           "style": "light"
          },
          "paper_bgcolor": "white",
          "plot_bgcolor": "#E5ECF6",
          "polar": {
           "angularaxis": {
            "gridcolor": "white",
            "linecolor": "white",
            "ticks": ""
           },
           "bgcolor": "#E5ECF6",
           "radialaxis": {
            "gridcolor": "white",
            "linecolor": "white",
            "ticks": ""
           }
          },
          "scene": {
           "xaxis": {
            "backgroundcolor": "#E5ECF6",
            "gridcolor": "white",
            "gridwidth": 2,
            "linecolor": "white",
            "showbackground": true,
            "ticks": "",
            "zerolinecolor": "white"
           },
           "yaxis": {
            "backgroundcolor": "#E5ECF6",
            "gridcolor": "white",
            "gridwidth": 2,
            "linecolor": "white",
            "showbackground": true,
            "ticks": "",
            "zerolinecolor": "white"
           },
           "zaxis": {
            "backgroundcolor": "#E5ECF6",
            "gridcolor": "white",
            "gridwidth": 2,
            "linecolor": "white",
            "showbackground": true,
            "ticks": "",
            "zerolinecolor": "white"
           }
          },
          "shapedefaults": {
           "line": {
            "color": "#2a3f5f"
           }
          },
          "ternary": {
           "aaxis": {
            "gridcolor": "white",
            "linecolor": "white",
            "ticks": ""
           },
           "baxis": {
            "gridcolor": "white",
            "linecolor": "white",
            "ticks": ""
           },
           "bgcolor": "#E5ECF6",
           "caxis": {
            "gridcolor": "white",
            "linecolor": "white",
            "ticks": ""
           }
          },
          "title": {
           "x": 0.05
          },
          "xaxis": {
           "automargin": true,
           "gridcolor": "white",
           "linecolor": "white",
           "ticks": "",
           "title": {
            "standoff": 15
           },
           "zerolinecolor": "white",
           "zerolinewidth": 2
          },
          "yaxis": {
           "automargin": true,
           "gridcolor": "white",
           "linecolor": "white",
           "ticks": "",
           "title": {
            "standoff": 15
           },
           "zerolinecolor": "white",
           "zerolinewidth": 2
          }
         }
        },
        "title": {
         "text": "Corrupted data for class 0"
        },
        "xaxis": {
         "anchor": "y",
         "domain": [
          0,
          1
         ],
         "title": {
          "text": "x"
         }
        },
        "yaxis": {
         "anchor": "x",
         "domain": [
          0,
          1
         ],
         "title": {
          "text": "y"
         }
        }
       }
      }
     },
     "metadata": {},
     "output_type": "display_data"
    },
    {
     "data": {
      "application/vnd.plotly.v1+json": {
       "config": {
        "plotlyServerURL": "https://plot.ly"
       },
       "data": [
        {
         "hovertemplate": "Corrupted=N/A<br>x=%{x}<br>y=%{y}<extra></extra>",
         "legendgroup": "N/A",
         "marker": {
          "color": "#CCCCCC",
          "size": 8,
          "symbol": "circle"
         },
         "mode": "markers",
         "name": "N/A",
         "orientation": "v",
         "showlegend": true,
         "type": "scatter",
         "x": [
          3.311717941707544,
          -0.2769115617503131,
          0.13507001500361454,
          -0.8853434663127114,
          3.504720396432765,
          -1.4219034614155226,
          -1.7463499106136693,
          -1.3695440110595622,
          -1.8687768648615843,
          -2.4054644612537524,
          -1.511298713837211,
          -0.5146395861490113,
          -0.7446717558471365,
          0.40737906701106164,
          3.7827674092544354,
          -1.3591413685111227,
          2.8526082417795915,
          2.5011512347000746,
          -0.5434048065007204,
          5.6162579386130576,
          -0.12630784589832544,
          1.7871376148697093,
          -0.5473117658789777,
          -1.0440787222935772,
          -0.8631705883095223,
          -1.640621078365944,
          -0.977392734768272,
          -1.1192042620070122,
          -1.6425770949779621,
          -4.067059530461033,
          -0.248535075382679,
          -0.8536918301207809,
          -0.9832718064166103,
          4.503079388340035,
          -1.2690038723545085,
          -0.7873168392828384,
          -2.4643827056849696,
          -1.69811096985455,
          2.830385402098921,
          -1.3506379180674704,
          -0.6035773850060634,
          -1.0807568934548564,
          -1.0478793481827944,
          2.4370688546680763,
          -0.937175565143802,
          -1.140961740262517,
          -1.2114910995976802,
          -0.5288916119239373,
          -1.3756800603475527,
          4.597502020720432,
          -1.3355539969333594,
          -1.6853473724253747,
          -0.7810753718381488,
          -0.8115035349955361,
          -0.8938358279304274,
          -0.6273089268333558,
          4.373658610721751,
          4.024783733865229,
          -1.6422046307587304,
          -0.713675257321537,
          -1.1945583197557752,
          -0.7023063611847646,
          2.8871340043475806,
          -0.841855375436954,
          -0.673003158659483,
          0.2621754357935945,
          -1.93722939450254,
          -0.8956397629839846,
          -1.4384822719881167,
          -0.9748565344272442,
          -1.5989469373847776,
          -0.7682742589826979,
          4.795223967866209,
          3.0253704545943227
         ],
         "xaxis": "x",
         "y": [
          -1.7432570004491443,
          -1.753552264493427,
          -1.3681056568276373,
          -0.8573354592351509,
          -0.6802883927864937,
          -1.163955085116666,
          0.36670860146422196,
          -0.7180600601540149,
          -0.8568789314862895,
          0.8508217033105335,
          -0.23561543536901677,
          -0.4052686419398255,
          0.45562046665052663,
          0.4919158175833449,
          -0.2735061042825254,
          -0.15154702048726998,
          -1.574152914301035,
          1.0706831372033025,
          0.06527121449355436,
          4.589598404750125,
          0.8423083262388761,
          -1.5045815945433734,
          -0.5363284741841532,
          -0.3910834204704376,
          -0.11654909576300546,
          0.5113027813223383,
          -0.09556682946772732,
          -0.4682309054146264,
          -0.4780522935203018,
          -3.828702227981053,
          -0.5422453834205964,
          -0.6409291166556018,
          -0.2276302142108058,
          -0.35588268939336537,
          3.3441761142519053,
          0.16134083392141327,
          6.6418141326930895,
          0.22910134643559021,
          -1.8414182477629917,
          -0.6769372842018097,
          -0.6915741873731949,
          -0.45486106103686863,
          0.6178562640950666,
          -1.1985166025603295,
          0.15447573667592782,
          -0.06491889589906329,
          -0.15477420130399683,
          1.1688214347957735,
          0.39418694840604734,
          0.6453511720978165,
          0.3947019178106464,
          5.736018452998378,
          -0.28501672826868085,
          0.21287196609401499,
          2.0901854241719873,
          2.4244384373991945,
          1.2266476071474997,
          3.2150689194095423,
          -0.10824324069601736,
          -3.169079795841368,
          -0.0284341777724031,
          0.6922319513004799,
          -2.5648047911089717,
          -0.03881107077661944,
          0.6232422508238391,
          -1.0781432190507863,
          -3.810699071394779,
          0.8608163583303285,
          -0.07657375093427224,
          0.6673527978211856,
          2.0594465921156595,
          -0.24840285308553053,
          0.2872480908273676,
          -0.7152184920248682
         ],
         "yaxis": "y"
        },
        {
         "hovertemplate": "Corrupted=1.0<br>x=%{x}<br>y=%{y}<extra></extra>",
         "legendgroup": "1.0",
         "marker": {
          "color": "#FF5722",
          "size": 8,
          "symbol": "circle"
         },
         "mode": "markers",
         "name": "1.0",
         "orientation": "v",
         "showlegend": true,
         "type": "scatter",
         "x": [
          3.9392922895438547,
          0.7923781543827892,
          4.622702041743297,
          6.180537274375932,
          3.076912006076897,
          2.8378496254998447,
          1.4157036265082246,
          2.8967228761793082,
          -0.4521286776448552,
          4.575543355079409,
          -0.8778515612324962,
          -5.328572574805304
         ],
         "xaxis": "x",
         "y": [
          2.9597701880758294,
          3.0668836968805806,
          -1.3755097364407969,
          -1.4345008611300738,
          -0.8724796039100323,
          0.22437709996803165,
          -0.6746962430994791,
          -0.7712366989333158,
          0.5117974756900091,
          -1.9020294558406774,
          -0.9125397400558446,
          -1.1400861110153657
         ],
         "yaxis": "y"
        },
        {
         "hovertemplate": "Corrupted=0.0<br>x=%{x}<br>y=%{y}<extra></extra>",
         "legendgroup": "0.0",
         "marker": {
          "color": "#4CAF50",
          "size": 8,
          "symbol": "circle"
         },
         "mode": "markers",
         "name": "0.0",
         "orientation": "v",
         "showlegend": true,
         "type": "scatter",
         "x": [
          -0.5592478475049242,
          -0.6025700561924295,
          -1.229721777962938,
          -1.7325005209088156,
          -1.199274839789584,
          -0.8794270568951145,
          -0.6768986990253614,
          -1.2574135224685459,
          -1.1426317914489403,
          -1.062795584771352,
          -0.7211067266492043,
          -1.145703637108106,
          -1.4433074415006388,
          -0.76132336218358,
          -0.32589872947454696,
          -0.8670261952241212,
          -0.5586085887193927,
          -0.04579982924496443,
          -1.3308283545229682
         ],
         "xaxis": "x",
         "y": [
          -0.3243702476669135,
          0.007617761983313861,
          -0.9289994520467092,
          -0.47958735713794454,
          -0.2965688259547905,
          0.004535300645001169,
          0.5126177084525212,
          -0.09327561981488514,
          -0.022065969960903473,
          -0.028013365319770847,
          0.11911169156330328,
          -0.385286044791146,
          0.5616456226296929,
          -0.13274993001533417,
          -0.36598193018055347,
          0.09214511283197456,
          0.3111149389173384,
          -0.8325484085706869,
          -0.3169833153458471
         ],
         "yaxis": "y"
        }
       ],
       "layout": {
        "legend": {
         "title": {
          "text": "Corrupted"
         },
         "tracegroupgap": 0
        },
        "template": {
         "data": {
          "bar": [
           {
            "error_x": {
             "color": "#2a3f5f"
            },
            "error_y": {
             "color": "#2a3f5f"
            },
            "marker": {
             "line": {
              "color": "#E5ECF6",
              "width": 0.5
             },
             "pattern": {
              "fillmode": "overlay",
              "size": 10,
              "solidity": 0.2
             }
            },
            "type": "bar"
           }
          ],
          "barpolar": [
           {
            "marker": {
             "line": {
              "color": "#E5ECF6",
              "width": 0.5
             },
             "pattern": {
              "fillmode": "overlay",
              "size": 10,
              "solidity": 0.2
             }
            },
            "type": "barpolar"
           }
          ],
          "carpet": [
           {
            "aaxis": {
             "endlinecolor": "#2a3f5f",
             "gridcolor": "white",
             "linecolor": "white",
             "minorgridcolor": "white",
             "startlinecolor": "#2a3f5f"
            },
            "baxis": {
             "endlinecolor": "#2a3f5f",
             "gridcolor": "white",
             "linecolor": "white",
             "minorgridcolor": "white",
             "startlinecolor": "#2a3f5f"
            },
            "type": "carpet"
           }
          ],
          "choropleth": [
           {
            "colorbar": {
             "outlinewidth": 0,
             "ticks": ""
            },
            "type": "choropleth"
           }
          ],
          "contour": [
           {
            "colorbar": {
             "outlinewidth": 0,
             "ticks": ""
            },
            "colorscale": [
             [
              0,
              "#0d0887"
             ],
             [
              0.1111111111111111,
              "#46039f"
             ],
             [
              0.2222222222222222,
              "#7201a8"
             ],
             [
              0.3333333333333333,
              "#9c179e"
             ],
             [
              0.4444444444444444,
              "#bd3786"
             ],
             [
              0.5555555555555556,
              "#d8576b"
             ],
             [
              0.6666666666666666,
              "#ed7953"
             ],
             [
              0.7777777777777778,
              "#fb9f3a"
             ],
             [
              0.8888888888888888,
              "#fdca26"
             ],
             [
              1,
              "#f0f921"
             ]
            ],
            "type": "contour"
           }
          ],
          "contourcarpet": [
           {
            "colorbar": {
             "outlinewidth": 0,
             "ticks": ""
            },
            "type": "contourcarpet"
           }
          ],
          "heatmap": [
           {
            "colorbar": {
             "outlinewidth": 0,
             "ticks": ""
            },
            "colorscale": [
             [
              0,
              "#0d0887"
             ],
             [
              0.1111111111111111,
              "#46039f"
             ],
             [
              0.2222222222222222,
              "#7201a8"
             ],
             [
              0.3333333333333333,
              "#9c179e"
             ],
             [
              0.4444444444444444,
              "#bd3786"
             ],
             [
              0.5555555555555556,
              "#d8576b"
             ],
             [
              0.6666666666666666,
              "#ed7953"
             ],
             [
              0.7777777777777778,
              "#fb9f3a"
             ],
             [
              0.8888888888888888,
              "#fdca26"
             ],
             [
              1,
              "#f0f921"
             ]
            ],
            "type": "heatmap"
           }
          ],
          "heatmapgl": [
           {
            "colorbar": {
             "outlinewidth": 0,
             "ticks": ""
            },
            "colorscale": [
             [
              0,
              "#0d0887"
             ],
             [
              0.1111111111111111,
              "#46039f"
             ],
             [
              0.2222222222222222,
              "#7201a8"
             ],
             [
              0.3333333333333333,
              "#9c179e"
             ],
             [
              0.4444444444444444,
              "#bd3786"
             ],
             [
              0.5555555555555556,
              "#d8576b"
             ],
             [
              0.6666666666666666,
              "#ed7953"
             ],
             [
              0.7777777777777778,
              "#fb9f3a"
             ],
             [
              0.8888888888888888,
              "#fdca26"
             ],
             [
              1,
              "#f0f921"
             ]
            ],
            "type": "heatmapgl"
           }
          ],
          "histogram": [
           {
            "marker": {
             "pattern": {
              "fillmode": "overlay",
              "size": 10,
              "solidity": 0.2
             }
            },
            "type": "histogram"
           }
          ],
          "histogram2d": [
           {
            "colorbar": {
             "outlinewidth": 0,
             "ticks": ""
            },
            "colorscale": [
             [
              0,
              "#0d0887"
             ],
             [
              0.1111111111111111,
              "#46039f"
             ],
             [
              0.2222222222222222,
              "#7201a8"
             ],
             [
              0.3333333333333333,
              "#9c179e"
             ],
             [
              0.4444444444444444,
              "#bd3786"
             ],
             [
              0.5555555555555556,
              "#d8576b"
             ],
             [
              0.6666666666666666,
              "#ed7953"
             ],
             [
              0.7777777777777778,
              "#fb9f3a"
             ],
             [
              0.8888888888888888,
              "#fdca26"
             ],
             [
              1,
              "#f0f921"
             ]
            ],
            "type": "histogram2d"
           }
          ],
          "histogram2dcontour": [
           {
            "colorbar": {
             "outlinewidth": 0,
             "ticks": ""
            },
            "colorscale": [
             [
              0,
              "#0d0887"
             ],
             [
              0.1111111111111111,
              "#46039f"
             ],
             [
              0.2222222222222222,
              "#7201a8"
             ],
             [
              0.3333333333333333,
              "#9c179e"
             ],
             [
              0.4444444444444444,
              "#bd3786"
             ],
             [
              0.5555555555555556,
              "#d8576b"
             ],
             [
              0.6666666666666666,
              "#ed7953"
             ],
             [
              0.7777777777777778,
              "#fb9f3a"
             ],
             [
              0.8888888888888888,
              "#fdca26"
             ],
             [
              1,
              "#f0f921"
             ]
            ],
            "type": "histogram2dcontour"
           }
          ],
          "mesh3d": [
           {
            "colorbar": {
             "outlinewidth": 0,
             "ticks": ""
            },
            "type": "mesh3d"
           }
          ],
          "parcoords": [
           {
            "line": {
             "colorbar": {
              "outlinewidth": 0,
              "ticks": ""
             }
            },
            "type": "parcoords"
           }
          ],
          "pie": [
           {
            "automargin": true,
            "type": "pie"
           }
          ],
          "scatter": [
           {
            "fillpattern": {
             "fillmode": "overlay",
             "size": 10,
             "solidity": 0.2
            },
            "type": "scatter"
           }
          ],
          "scatter3d": [
           {
            "line": {
             "colorbar": {
              "outlinewidth": 0,
              "ticks": ""
             }
            },
            "marker": {
             "colorbar": {
              "outlinewidth": 0,
              "ticks": ""
             }
            },
            "type": "scatter3d"
           }
          ],
          "scattercarpet": [
           {
            "marker": {
             "colorbar": {
              "outlinewidth": 0,
              "ticks": ""
             }
            },
            "type": "scattercarpet"
           }
          ],
          "scattergeo": [
           {
            "marker": {
             "colorbar": {
              "outlinewidth": 0,
              "ticks": ""
             }
            },
            "type": "scattergeo"
           }
          ],
          "scattergl": [
           {
            "marker": {
             "colorbar": {
              "outlinewidth": 0,
              "ticks": ""
             }
            },
            "type": "scattergl"
           }
          ],
          "scattermapbox": [
           {
            "marker": {
             "colorbar": {
              "outlinewidth": 0,
              "ticks": ""
             }
            },
            "type": "scattermapbox"
           }
          ],
          "scatterpolar": [
           {
            "marker": {
             "colorbar": {
              "outlinewidth": 0,
              "ticks": ""
             }
            },
            "type": "scatterpolar"
           }
          ],
          "scatterpolargl": [
           {
            "marker": {
             "colorbar": {
              "outlinewidth": 0,
              "ticks": ""
             }
            },
            "type": "scatterpolargl"
           }
          ],
          "scatterternary": [
           {
            "marker": {
             "colorbar": {
              "outlinewidth": 0,
              "ticks": ""
             }
            },
            "type": "scatterternary"
           }
          ],
          "surface": [
           {
            "colorbar": {
             "outlinewidth": 0,
             "ticks": ""
            },
            "colorscale": [
             [
              0,
              "#0d0887"
             ],
             [
              0.1111111111111111,
              "#46039f"
             ],
             [
              0.2222222222222222,
              "#7201a8"
             ],
             [
              0.3333333333333333,
              "#9c179e"
             ],
             [
              0.4444444444444444,
              "#bd3786"
             ],
             [
              0.5555555555555556,
              "#d8576b"
             ],
             [
              0.6666666666666666,
              "#ed7953"
             ],
             [
              0.7777777777777778,
              "#fb9f3a"
             ],
             [
              0.8888888888888888,
              "#fdca26"
             ],
             [
              1,
              "#f0f921"
             ]
            ],
            "type": "surface"
           }
          ],
          "table": [
           {
            "cells": {
             "fill": {
              "color": "#EBF0F8"
             },
             "line": {
              "color": "white"
             }
            },
            "header": {
             "fill": {
              "color": "#C8D4E3"
             },
             "line": {
              "color": "white"
             }
            },
            "type": "table"
           }
          ]
         },
         "layout": {
          "annotationdefaults": {
           "arrowcolor": "#2a3f5f",
           "arrowhead": 0,
           "arrowwidth": 1
          },
          "autotypenumbers": "strict",
          "coloraxis": {
           "colorbar": {
            "outlinewidth": 0,
            "ticks": ""
           }
          },
          "colorscale": {
           "diverging": [
            [
             0,
             "#8e0152"
            ],
            [
             0.1,
             "#c51b7d"
            ],
            [
             0.2,
             "#de77ae"
            ],
            [
             0.3,
             "#f1b6da"
            ],
            [
             0.4,
             "#fde0ef"
            ],
            [
             0.5,
             "#f7f7f7"
            ],
            [
             0.6,
             "#e6f5d0"
            ],
            [
             0.7,
             "#b8e186"
            ],
            [
             0.8,
             "#7fbc41"
            ],
            [
             0.9,
             "#4d9221"
            ],
            [
             1,
             "#276419"
            ]
           ],
           "sequential": [
            [
             0,
             "#0d0887"
            ],
            [
             0.1111111111111111,
             "#46039f"
            ],
            [
             0.2222222222222222,
             "#7201a8"
            ],
            [
             0.3333333333333333,
             "#9c179e"
            ],
            [
             0.4444444444444444,
             "#bd3786"
            ],
            [
             0.5555555555555556,
             "#d8576b"
            ],
            [
             0.6666666666666666,
             "#ed7953"
            ],
            [
             0.7777777777777778,
             "#fb9f3a"
            ],
            [
             0.8888888888888888,
             "#fdca26"
            ],
            [
             1,
             "#f0f921"
            ]
           ],
           "sequentialminus": [
            [
             0,
             "#0d0887"
            ],
            [
             0.1111111111111111,
             "#46039f"
            ],
            [
             0.2222222222222222,
             "#7201a8"
            ],
            [
             0.3333333333333333,
             "#9c179e"
            ],
            [
             0.4444444444444444,
             "#bd3786"
            ],
            [
             0.5555555555555556,
             "#d8576b"
            ],
            [
             0.6666666666666666,
             "#ed7953"
            ],
            [
             0.7777777777777778,
             "#fb9f3a"
            ],
            [
             0.8888888888888888,
             "#fdca26"
            ],
            [
             1,
             "#f0f921"
            ]
           ]
          },
          "colorway": [
           "#636efa",
           "#EF553B",
           "#00cc96",
           "#ab63fa",
           "#FFA15A",
           "#19d3f3",
           "#FF6692",
           "#B6E880",
           "#FF97FF",
           "#FECB52"
          ],
          "font": {
           "color": "#2a3f5f"
          },
          "geo": {
           "bgcolor": "white",
           "lakecolor": "white",
           "landcolor": "#E5ECF6",
           "showlakes": true,
           "showland": true,
           "subunitcolor": "white"
          },
          "hoverlabel": {
           "align": "left"
          },
          "hovermode": "closest",
          "mapbox": {
           "style": "light"
          },
          "paper_bgcolor": "white",
          "plot_bgcolor": "#E5ECF6",
          "polar": {
           "angularaxis": {
            "gridcolor": "white",
            "linecolor": "white",
            "ticks": ""
           },
           "bgcolor": "#E5ECF6",
           "radialaxis": {
            "gridcolor": "white",
            "linecolor": "white",
            "ticks": ""
           }
          },
          "scene": {
           "xaxis": {
            "backgroundcolor": "#E5ECF6",
            "gridcolor": "white",
            "gridwidth": 2,
            "linecolor": "white",
            "showbackground": true,
            "ticks": "",
            "zerolinecolor": "white"
           },
           "yaxis": {
            "backgroundcolor": "#E5ECF6",
            "gridcolor": "white",
            "gridwidth": 2,
            "linecolor": "white",
            "showbackground": true,
            "ticks": "",
            "zerolinecolor": "white"
           },
           "zaxis": {
            "backgroundcolor": "#E5ECF6",
            "gridcolor": "white",
            "gridwidth": 2,
            "linecolor": "white",
            "showbackground": true,
            "ticks": "",
            "zerolinecolor": "white"
           }
          },
          "shapedefaults": {
           "line": {
            "color": "#2a3f5f"
           }
          },
          "ternary": {
           "aaxis": {
            "gridcolor": "white",
            "linecolor": "white",
            "ticks": ""
           },
           "baxis": {
            "gridcolor": "white",
            "linecolor": "white",
            "ticks": ""
           },
           "bgcolor": "#E5ECF6",
           "caxis": {
            "gridcolor": "white",
            "linecolor": "white",
            "ticks": ""
           }
          },
          "title": {
           "x": 0.05
          },
          "xaxis": {
           "automargin": true,
           "gridcolor": "white",
           "linecolor": "white",
           "ticks": "",
           "title": {
            "standoff": 15
           },
           "zerolinecolor": "white",
           "zerolinewidth": 2
          },
          "yaxis": {
           "automargin": true,
           "gridcolor": "white",
           "linecolor": "white",
           "ticks": "",
           "title": {
            "standoff": 15
           },
           "zerolinecolor": "white",
           "zerolinewidth": 2
          }
         }
        },
        "title": {
         "text": "Corrupted data for class 1"
        },
        "xaxis": {
         "anchor": "y",
         "domain": [
          0,
          1
         ],
         "title": {
          "text": "x"
         }
        },
        "yaxis": {
         "anchor": "x",
         "domain": [
          0,
          1
         ],
         "title": {
          "text": "y"
         }
        }
       }
      }
     },
     "metadata": {},
     "output_type": "display_data"
    },
    {
     "data": {
      "application/vnd.plotly.v1+json": {
       "config": {
        "plotlyServerURL": "https://plot.ly"
       },
       "data": [
        {
         "hovertemplate": "Corrupted=N/A<br>x=%{x}<br>y=%{y}<extra></extra>",
         "legendgroup": "N/A",
         "marker": {
          "color": "#CCCCCC",
          "size": 8,
          "symbol": "circle"
         },
         "mode": "markers",
         "name": "N/A",
         "orientation": "v",
         "showlegend": true,
         "type": "scatter",
         "x": [
          -1.2891069615107273,
          1.2684607387350708,
          -1.025319475945823,
          -0.8536342261088212,
          0.6434944845555883,
          -1.7747503161964304,
          1.3719094078616276,
          -0.5710401093777762,
          1.629220687506985,
          -0.8200056954332561,
          2.300696558624561,
          4.662787311390328,
          -0.7342254476304717,
          -1.8282232463817059,
          -0.6494386765439736,
          -1.8892219564559642,
          -0.8249814911272838,
          -0.7233472780122262,
          -1.4068488288812482,
          2.960805429350752,
          5.157346780520945,
          1.2033885933987205,
          -1.395072373728823,
          -0.596218465586912,
          -0.015099577524636629,
          -0.21991066013558147,
          3.391648604101084,
          -1.288174920701529,
          -1.2067600714685838,
          -1.7488631148623632,
          4.637264364941806,
          -0.9038255875894119,
          -0.33481612493074714,
          -0.9139945539037776,
          1.6430182643051536,
          -1.4747522491572564,
          -1.088455050988817,
          -1.3178671672770441,
          2.2319716039740087,
          -0.4676997084846648,
          -2.2981342094476216,
          -0.06276783142824202,
          -1.1192353708463905,
          -1.100333121564352,
          0.6551097383120668,
          2.2130375598749077,
          -1.5040014462347293,
          3.0885355202117935,
          0.4216900067865539,
          -0.9204823842820089,
          -0.8661686821954645,
          3.986062849660618,
          -0.8993759318599186,
          -0.4077685439458472,
          -0.35298326305190514,
          -1.098967923057208,
          -1.9593822525862905,
          -0.9303866516315705,
          0.9578678989976143,
          -1.1539035023002742,
          1.5825703886111973,
          3.7465514492318017,
          2.845223900325575,
          -1.1742962426431838,
          -1.1118743240809874,
          -1.0247328727212444,
          -1.0847630203177,
          3.455473160655121,
          -1.7643779931531507,
          -1.3825833007727928,
          -0.797741195661416,
          -2.0137631326556154,
          2.3260750501325393,
          -3.6104811003223047,
          -0.5943700005141423,
          -1.0027688538770883,
          -1.1687465961968777,
          -0.7995305857606547,
          -0.48309694126954,
          -0.780386614150982,
          -0.717718225085351,
          -3.9502972285253737,
          -1.1428751992573276
         ],
         "xaxis": "x",
         "y": [
          0.1125545910774673,
          -0.5980687060396084,
          0.7290535599993051,
          -0.7669928173361444,
          -2.0173360862959497,
          -0.5496748567515379,
          -0.6229177191405371,
          0.4523363514978769,
          -2.5697518525734804,
          -0.2006621777234527,
          -0.9544453671268519,
          -4.482689300929019,
          0.4624351681730504,
          2.8454870599521187,
          -0.25292419346417266,
          1.8456676884680643,
          0.14367694353632204,
          -0.08652496240546231,
          3.0171242699938867,
          -0.3257504610487162,
          -1.2555232555049147,
          -1.5891405803936027,
          -0.3526367654021833,
          -2.8265144308138894,
          -0.5938711120471025,
          0.9061198318687924,
          2.470363312447391,
          0.05844525391646381,
          -0.32548600965252655,
          -2.1138596047306013,
          4.8656037011543765,
          0.1905306511192315,
          -0.5913597224124341,
          -0.049730965932655684,
          0.5639181525927585,
          -4.338613628552566,
          0.1524239092468203,
          0.6233924347312727,
          1.5571329568349423,
          0.5476139338592643,
          -0.677134634234342,
          0.21500030302313125,
          0.056791974459044416,
          0.08926880030814842,
          -3.9664982633361068,
          -0.22433683131950394,
          0.5339073434262661,
          -0.7698496612616396,
          -0.21130997260348042,
          -0.0007726426267841619,
          -0.13027276420368827,
          -1.557459417371102,
          -0.33768983182139495,
          -0.7767262009858723,
          -0.07899328811998556,
          0.26725648803488306,
          2.3867793227369956,
          0.33186767210096146,
          -2.728438474601312,
          -0.5467793553995534,
          1.9201043734674943,
          -3.962220089524947,
          -0.7302041549636166,
          -0.21343483798916918,
          0.9044881210704683,
          0.16251726607563985,
          3.26505885790909,
          2.1607536177100037,
          2.3826283856550785,
          -0.6828428871799749,
          0.3515426727492891,
          -0.765370605540978,
          2.0865247033282217,
          -0.1480864110213245,
          0.2017053031719377,
          0.29674414830479595,
          -0.2101923451353708,
          0.23251257454312366,
          -0.06560897192253567,
          1.2918222605813374,
          0.6096786448093011,
          0.8058053723758652,
          -0.19420791522731734
         ],
         "yaxis": "y"
        },
        {
         "hovertemplate": "Corrupted=0.0<br>x=%{x}<br>y=%{y}<extra></extra>",
         "legendgroup": "0.0",
         "marker": {
          "color": "#4CAF50",
          "size": 8,
          "symbol": "circle"
         },
         "mode": "markers",
         "name": "0.0",
         "orientation": "v",
         "showlegend": true,
         "type": "scatter",
         "x": [
          -0.5936500553334314,
          -0.8187674446350353,
          -1.1367995963172395,
          -1.8401542650108658,
          -0.912609752559092,
          -1.4764847706781572,
          -1.4660594723436418,
          -0.6547500649867302,
          -0.7665981568240248,
          -1.6005595089714908,
          -0.8866847186987842,
          -0.9830173793551599,
          -1.4254957143106466,
          -0.8336287360714716
         ],
         "xaxis": "x",
         "y": [
          0.162721460456316,
          -0.023951954215241048,
          -0.16684302414087349,
          -0.3188541883228197,
          -0.11668829510637489,
          -0.3261006686294118,
          -0.346241961246032,
          -0.27339061172053064,
          0.1874948483817399,
          -0.1414777698387098,
          0.3365033201372928,
          0.15064042595129398,
          0.02459263797949755,
          0.13606150703003617
         ],
         "yaxis": "y"
        },
        {
         "hovertemplate": "Corrupted=1.0<br>x=%{x}<br>y=%{y}<extra></extra>",
         "legendgroup": "1.0",
         "marker": {
          "color": "#FF5722",
          "size": 8,
          "symbol": "circle"
         },
         "mode": "markers",
         "name": "1.0",
         "orientation": "v",
         "showlegend": true,
         "type": "scatter",
         "x": [
          3.4809188265675552,
          2.24972172720388,
          -1.9172865290592822,
          0.8709832687012726,
          2.150505891638037,
          -0.09377522103885425,
          5.460400075391248,
          2.443922111021561,
          2.1805660094488033,
          3.09864498300338,
          -0.03332585469433497,
          2.1272580168936144,
          1.9067638605783273,
          -0.7015695302045296,
          0.4312695259220902
         ],
         "xaxis": "x",
         "y": [
          2.5600189885128914,
          1.034151749344532,
          -0.7954583530927394,
          -2.8457455907757128,
          2.7974211252740533,
          -2.1234876503657745,
          5.198033826231241,
          -1.8512371478406824,
          -2.877362159902496,
          1.6254201212164352,
          3.1104623117463306,
          -0.6770087765282113,
          -0.8029249133685683,
          2.1183265318030124,
          -1.4088096326135688
         ],
         "yaxis": "y"
        }
       ],
       "layout": {
        "legend": {
         "title": {
          "text": "Corrupted"
         },
         "tracegroupgap": 0
        },
        "template": {
         "data": {
          "bar": [
           {
            "error_x": {
             "color": "#2a3f5f"
            },
            "error_y": {
             "color": "#2a3f5f"
            },
            "marker": {
             "line": {
              "color": "#E5ECF6",
              "width": 0.5
             },
             "pattern": {
              "fillmode": "overlay",
              "size": 10,
              "solidity": 0.2
             }
            },
            "type": "bar"
           }
          ],
          "barpolar": [
           {
            "marker": {
             "line": {
              "color": "#E5ECF6",
              "width": 0.5
             },
             "pattern": {
              "fillmode": "overlay",
              "size": 10,
              "solidity": 0.2
             }
            },
            "type": "barpolar"
           }
          ],
          "carpet": [
           {
            "aaxis": {
             "endlinecolor": "#2a3f5f",
             "gridcolor": "white",
             "linecolor": "white",
             "minorgridcolor": "white",
             "startlinecolor": "#2a3f5f"
            },
            "baxis": {
             "endlinecolor": "#2a3f5f",
             "gridcolor": "white",
             "linecolor": "white",
             "minorgridcolor": "white",
             "startlinecolor": "#2a3f5f"
            },
            "type": "carpet"
           }
          ],
          "choropleth": [
           {
            "colorbar": {
             "outlinewidth": 0,
             "ticks": ""
            },
            "type": "choropleth"
           }
          ],
          "contour": [
           {
            "colorbar": {
             "outlinewidth": 0,
             "ticks": ""
            },
            "colorscale": [
             [
              0,
              "#0d0887"
             ],
             [
              0.1111111111111111,
              "#46039f"
             ],
             [
              0.2222222222222222,
              "#7201a8"
             ],
             [
              0.3333333333333333,
              "#9c179e"
             ],
             [
              0.4444444444444444,
              "#bd3786"
             ],
             [
              0.5555555555555556,
              "#d8576b"
             ],
             [
              0.6666666666666666,
              "#ed7953"
             ],
             [
              0.7777777777777778,
              "#fb9f3a"
             ],
             [
              0.8888888888888888,
              "#fdca26"
             ],
             [
              1,
              "#f0f921"
             ]
            ],
            "type": "contour"
           }
          ],
          "contourcarpet": [
           {
            "colorbar": {
             "outlinewidth": 0,
             "ticks": ""
            },
            "type": "contourcarpet"
           }
          ],
          "heatmap": [
           {
            "colorbar": {
             "outlinewidth": 0,
             "ticks": ""
            },
            "colorscale": [
             [
              0,
              "#0d0887"
             ],
             [
              0.1111111111111111,
              "#46039f"
             ],
             [
              0.2222222222222222,
              "#7201a8"
             ],
             [
              0.3333333333333333,
              "#9c179e"
             ],
             [
              0.4444444444444444,
              "#bd3786"
             ],
             [
              0.5555555555555556,
              "#d8576b"
             ],
             [
              0.6666666666666666,
              "#ed7953"
             ],
             [
              0.7777777777777778,
              "#fb9f3a"
             ],
             [
              0.8888888888888888,
              "#fdca26"
             ],
             [
              1,
              "#f0f921"
             ]
            ],
            "type": "heatmap"
           }
          ],
          "heatmapgl": [
           {
            "colorbar": {
             "outlinewidth": 0,
             "ticks": ""
            },
            "colorscale": [
             [
              0,
              "#0d0887"
             ],
             [
              0.1111111111111111,
              "#46039f"
             ],
             [
              0.2222222222222222,
              "#7201a8"
             ],
             [
              0.3333333333333333,
              "#9c179e"
             ],
             [
              0.4444444444444444,
              "#bd3786"
             ],
             [
              0.5555555555555556,
              "#d8576b"
             ],
             [
              0.6666666666666666,
              "#ed7953"
             ],
             [
              0.7777777777777778,
              "#fb9f3a"
             ],
             [
              0.8888888888888888,
              "#fdca26"
             ],
             [
              1,
              "#f0f921"
             ]
            ],
            "type": "heatmapgl"
           }
          ],
          "histogram": [
           {
            "marker": {
             "pattern": {
              "fillmode": "overlay",
              "size": 10,
              "solidity": 0.2
             }
            },
            "type": "histogram"
           }
          ],
          "histogram2d": [
           {
            "colorbar": {
             "outlinewidth": 0,
             "ticks": ""
            },
            "colorscale": [
             [
              0,
              "#0d0887"
             ],
             [
              0.1111111111111111,
              "#46039f"
             ],
             [
              0.2222222222222222,
              "#7201a8"
             ],
             [
              0.3333333333333333,
              "#9c179e"
             ],
             [
              0.4444444444444444,
              "#bd3786"
             ],
             [
              0.5555555555555556,
              "#d8576b"
             ],
             [
              0.6666666666666666,
              "#ed7953"
             ],
             [
              0.7777777777777778,
              "#fb9f3a"
             ],
             [
              0.8888888888888888,
              "#fdca26"
             ],
             [
              1,
              "#f0f921"
             ]
            ],
            "type": "histogram2d"
           }
          ],
          "histogram2dcontour": [
           {
            "colorbar": {
             "outlinewidth": 0,
             "ticks": ""
            },
            "colorscale": [
             [
              0,
              "#0d0887"
             ],
             [
              0.1111111111111111,
              "#46039f"
             ],
             [
              0.2222222222222222,
              "#7201a8"
             ],
             [
              0.3333333333333333,
              "#9c179e"
             ],
             [
              0.4444444444444444,
              "#bd3786"
             ],
             [
              0.5555555555555556,
              "#d8576b"
             ],
             [
              0.6666666666666666,
              "#ed7953"
             ],
             [
              0.7777777777777778,
              "#fb9f3a"
             ],
             [
              0.8888888888888888,
              "#fdca26"
             ],
             [
              1,
              "#f0f921"
             ]
            ],
            "type": "histogram2dcontour"
           }
          ],
          "mesh3d": [
           {
            "colorbar": {
             "outlinewidth": 0,
             "ticks": ""
            },
            "type": "mesh3d"
           }
          ],
          "parcoords": [
           {
            "line": {
             "colorbar": {
              "outlinewidth": 0,
              "ticks": ""
             }
            },
            "type": "parcoords"
           }
          ],
          "pie": [
           {
            "automargin": true,
            "type": "pie"
           }
          ],
          "scatter": [
           {
            "fillpattern": {
             "fillmode": "overlay",
             "size": 10,
             "solidity": 0.2
            },
            "type": "scatter"
           }
          ],
          "scatter3d": [
           {
            "line": {
             "colorbar": {
              "outlinewidth": 0,
              "ticks": ""
             }
            },
            "marker": {
             "colorbar": {
              "outlinewidth": 0,
              "ticks": ""
             }
            },
            "type": "scatter3d"
           }
          ],
          "scattercarpet": [
           {
            "marker": {
             "colorbar": {
              "outlinewidth": 0,
              "ticks": ""
             }
            },
            "type": "scattercarpet"
           }
          ],
          "scattergeo": [
           {
            "marker": {
             "colorbar": {
              "outlinewidth": 0,
              "ticks": ""
             }
            },
            "type": "scattergeo"
           }
          ],
          "scattergl": [
           {
            "marker": {
             "colorbar": {
              "outlinewidth": 0,
              "ticks": ""
             }
            },
            "type": "scattergl"
           }
          ],
          "scattermapbox": [
           {
            "marker": {
             "colorbar": {
              "outlinewidth": 0,
              "ticks": ""
             }
            },
            "type": "scattermapbox"
           }
          ],
          "scatterpolar": [
           {
            "marker": {
             "colorbar": {
              "outlinewidth": 0,
              "ticks": ""
             }
            },
            "type": "scatterpolar"
           }
          ],
          "scatterpolargl": [
           {
            "marker": {
             "colorbar": {
              "outlinewidth": 0,
              "ticks": ""
             }
            },
            "type": "scatterpolargl"
           }
          ],
          "scatterternary": [
           {
            "marker": {
             "colorbar": {
              "outlinewidth": 0,
              "ticks": ""
             }
            },
            "type": "scatterternary"
           }
          ],
          "surface": [
           {
            "colorbar": {
             "outlinewidth": 0,
             "ticks": ""
            },
            "colorscale": [
             [
              0,
              "#0d0887"
             ],
             [
              0.1111111111111111,
              "#46039f"
             ],
             [
              0.2222222222222222,
              "#7201a8"
             ],
             [
              0.3333333333333333,
              "#9c179e"
             ],
             [
              0.4444444444444444,
              "#bd3786"
             ],
             [
              0.5555555555555556,
              "#d8576b"
             ],
             [
              0.6666666666666666,
              "#ed7953"
             ],
             [
              0.7777777777777778,
              "#fb9f3a"
             ],
             [
              0.8888888888888888,
              "#fdca26"
             ],
             [
              1,
              "#f0f921"
             ]
            ],
            "type": "surface"
           }
          ],
          "table": [
           {
            "cells": {
             "fill": {
              "color": "#EBF0F8"
             },
             "line": {
              "color": "white"
             }
            },
            "header": {
             "fill": {
              "color": "#C8D4E3"
             },
             "line": {
              "color": "white"
             }
            },
            "type": "table"
           }
          ]
         },
         "layout": {
          "annotationdefaults": {
           "arrowcolor": "#2a3f5f",
           "arrowhead": 0,
           "arrowwidth": 1
          },
          "autotypenumbers": "strict",
          "coloraxis": {
           "colorbar": {
            "outlinewidth": 0,
            "ticks": ""
           }
          },
          "colorscale": {
           "diverging": [
            [
             0,
             "#8e0152"
            ],
            [
             0.1,
             "#c51b7d"
            ],
            [
             0.2,
             "#de77ae"
            ],
            [
             0.3,
             "#f1b6da"
            ],
            [
             0.4,
             "#fde0ef"
            ],
            [
             0.5,
             "#f7f7f7"
            ],
            [
             0.6,
             "#e6f5d0"
            ],
            [
             0.7,
             "#b8e186"
            ],
            [
             0.8,
             "#7fbc41"
            ],
            [
             0.9,
             "#4d9221"
            ],
            [
             1,
             "#276419"
            ]
           ],
           "sequential": [
            [
             0,
             "#0d0887"
            ],
            [
             0.1111111111111111,
             "#46039f"
            ],
            [
             0.2222222222222222,
             "#7201a8"
            ],
            [
             0.3333333333333333,
             "#9c179e"
            ],
            [
             0.4444444444444444,
             "#bd3786"
            ],
            [
             0.5555555555555556,
             "#d8576b"
            ],
            [
             0.6666666666666666,
             "#ed7953"
            ],
            [
             0.7777777777777778,
             "#fb9f3a"
            ],
            [
             0.8888888888888888,
             "#fdca26"
            ],
            [
             1,
             "#f0f921"
            ]
           ],
           "sequentialminus": [
            [
             0,
             "#0d0887"
            ],
            [
             0.1111111111111111,
             "#46039f"
            ],
            [
             0.2222222222222222,
             "#7201a8"
            ],
            [
             0.3333333333333333,
             "#9c179e"
            ],
            [
             0.4444444444444444,
             "#bd3786"
            ],
            [
             0.5555555555555556,
             "#d8576b"
            ],
            [
             0.6666666666666666,
             "#ed7953"
            ],
            [
             0.7777777777777778,
             "#fb9f3a"
            ],
            [
             0.8888888888888888,
             "#fdca26"
            ],
            [
             1,
             "#f0f921"
            ]
           ]
          },
          "colorway": [
           "#636efa",
           "#EF553B",
           "#00cc96",
           "#ab63fa",
           "#FFA15A",
           "#19d3f3",
           "#FF6692",
           "#B6E880",
           "#FF97FF",
           "#FECB52"
          ],
          "font": {
           "color": "#2a3f5f"
          },
          "geo": {
           "bgcolor": "white",
           "lakecolor": "white",
           "landcolor": "#E5ECF6",
           "showlakes": true,
           "showland": true,
           "subunitcolor": "white"
          },
          "hoverlabel": {
           "align": "left"
          },
          "hovermode": "closest",
          "mapbox": {
           "style": "light"
          },
          "paper_bgcolor": "white",
          "plot_bgcolor": "#E5ECF6",
          "polar": {
           "angularaxis": {
            "gridcolor": "white",
            "linecolor": "white",
            "ticks": ""
           },
           "bgcolor": "#E5ECF6",
           "radialaxis": {
            "gridcolor": "white",
            "linecolor": "white",
            "ticks": ""
           }
          },
          "scene": {
           "xaxis": {
            "backgroundcolor": "#E5ECF6",
            "gridcolor": "white",
            "gridwidth": 2,
            "linecolor": "white",
            "showbackground": true,
            "ticks": "",
            "zerolinecolor": "white"
           },
           "yaxis": {
            "backgroundcolor": "#E5ECF6",
            "gridcolor": "white",
            "gridwidth": 2,
            "linecolor": "white",
            "showbackground": true,
            "ticks": "",
            "zerolinecolor": "white"
           },
           "zaxis": {
            "backgroundcolor": "#E5ECF6",
            "gridcolor": "white",
            "gridwidth": 2,
            "linecolor": "white",
            "showbackground": true,
            "ticks": "",
            "zerolinecolor": "white"
           }
          },
          "shapedefaults": {
           "line": {
            "color": "#2a3f5f"
           }
          },
          "ternary": {
           "aaxis": {
            "gridcolor": "white",
            "linecolor": "white",
            "ticks": ""
           },
           "baxis": {
            "gridcolor": "white",
            "linecolor": "white",
            "ticks": ""
           },
           "bgcolor": "#E5ECF6",
           "caxis": {
            "gridcolor": "white",
            "linecolor": "white",
            "ticks": ""
           }
          },
          "title": {
           "x": 0.05
          },
          "xaxis": {
           "automargin": true,
           "gridcolor": "white",
           "linecolor": "white",
           "ticks": "",
           "title": {
            "standoff": 15
           },
           "zerolinecolor": "white",
           "zerolinewidth": 2
          },
          "yaxis": {
           "automargin": true,
           "gridcolor": "white",
           "linecolor": "white",
           "ticks": "",
           "title": {
            "standoff": 15
           },
           "zerolinecolor": "white",
           "zerolinewidth": 2
          }
         }
        },
        "title": {
         "text": "Corrupted data for class 2"
        },
        "xaxis": {
         "anchor": "y",
         "domain": [
          0,
          1
         ],
         "title": {
          "text": "x"
         }
        },
        "yaxis": {
         "anchor": "x",
         "domain": [
          0,
          1
         ],
         "title": {
          "text": "y"
         }
        }
       }
      }
     },
     "metadata": {},
     "output_type": "display_data"
    }
   ],
   "source": [
    "# Let's look at classes\n",
    "for class_label in range(3):\n",
    "    vis_PCA(train_data[train_data['Class'] == class_label].fillna('N/A'), 'Corrupted', None, f'Corrupted data for class {class_label}')"
   ]
  },
  {
   "cell_type": "markdown",
   "metadata": {},
   "source": [
    "### Step 5 - Clustering per Class\n",
    "\n",
    "Another classic method for anomaly detection is by looking at each class individually, using clustering methodologies (KMeans, KNN, DBScan, etc.) to determine what is the normal data and what is noise.\n",
    "#### Q5.1 (15 points)\n",
    "Train a simple KNN/Kmeans/DBscan that just determines for each class in and out class\n",
    "\n",
    "#### Q5.2 (10 points) \n",
    "For whichever model you used, use the labeled data to use reasonable hyperparameters."
   ]
  },
  {
   "cell_type": "code",
   "execution_count": 31,
   "metadata": {},
   "outputs": [],
   "source": [
    "from sklearn.cluster import DBSCAN\n"
   ]
  },
  {
   "cell_type": "markdown",
   "metadata": {},
   "source": [
    "Let's find the distance to the nearest 5 neighbors and then use it as a basis for calculating min_samples_values"
   ]
  },
  {
   "cell_type": "code",
   "execution_count": 32,
   "metadata": {},
   "outputs": [
    {
     "data": {
      "image/png": "[encoded data removed]",
      "text/plain": [
       "<Figure size 600x400 with 1 Axes>"
      ]
     },
     "metadata": {},
     "output_type": "display_data"
    }
   ],
   "source": [
    "from sklearn.neighbors import NearestNeighbors\n",
    "\n",
    "k=5\n",
    "# Exclude the label and corrupted columns\n",
    "X = train_data.drop(['Class', 'Corrupted'], axis=1)  \n",
    "\n",
    "# Scaling the features\n",
    "X_scaled = StandardScaler().fit_transform(X)  \n",
    "\n",
    "# Fit the NearestNeighbors model\n",
    "nearest_neighbors = NearestNeighbors(n_neighbors=k)\n",
    "nearest_neighbors.fit(X_scaled)\n",
    "\n",
    "# Find the k-nearest neighbors for each point (the first nearest neighbor is the point itself)\n",
    "distances, indices = nearest_neighbors.kneighbors(X_scaled)\n",
    "\n",
    "# Sort the distances to the k-th nearest neighbor (k-th column of the distances array)\n",
    "kth_distances = distances[:, k-1]\n",
    "kth_distances_sorted = np.sort(kth_distances)\n",
    "\n",
    "# Plot the results\n",
    "plt.figure(figsize=(6, 4))\n",
    "plt.plot(kth_distances_sorted)\n",
    "plt.xlabel('Point index')\n",
    "plt.ylabel(f'Distance to {k}-th nearest neighbor')\n",
    "plt.title(f'Sorted distances to {k}-th nearest neighbor')\n",
    "plt.grid(True)\n",
    "plt.show()"
   ]
  },
  {
   "cell_type": "markdown",
   "metadata": {},
   "source": [
    "Based on the plot above we will use eps around 3"
   ]
  },
  {
   "cell_type": "code",
   "execution_count": 33,
   "metadata": {},
   "outputs": [],
   "source": [
    "def find_hyperparams(eps_values, min_samples_values):\n",
    "    best_hyperparams = {}\n",
    "    for class_n in range(15):\n",
    "        max_acc = 0\n",
    "        best_eps = None\n",
    "        best_min_samples = None\n",
    "\n",
    "        for eps in eps_values:\n",
    "            for min_samples in min_samples_values:\n",
    "                class_data = labeled_train_data[labeled_train_data['Class'] == class_n]\n",
    "                class_data_params = class_data.drop(columns=['Class', 'Corrupted'])\n",
    "\n",
    "                class_data_params = StandardScaler().fit_transform(class_data_params)\n",
    "\n",
    "                dbscan = DBSCAN(eps=eps, min_samples=min_samples)\n",
    "                clusters = dbscan.fit_predict(class_data_params)\n",
    "\n",
    "                labels = np.where(clusters == -1, 1, clusters)\n",
    "                corrupted_values = class_data['Corrupted'].values\n",
    "\n",
    "                accuracy = np.mean(labels == corrupted_values)\n",
    "\n",
    "                if accuracy > max_acc:\n",
    "                    max_acc = accuracy\n",
    "                    best_eps = eps\n",
    "                    best_min_samples = min_samples\n",
    "\n",
    "        best_hyperparams[class_n] = {'accuracy': max_acc, 'eps': best_eps, 'min_samples': best_min_samples}\n",
    "\n",
    "    return best_hyperparams\n",
    "\n",
    "\n",
    "eps_values = [3, 3.5, 4]\n",
    "min_samples_values = [7,5,3]\n",
    "\n",
    "# Call the function to find the best hyperparameters\n",
    "best_hyperparams = find_hyperparams(eps_values, min_samples_values)\n",
    "\n",
    "\n",
    "# Print best hyperparameters for each class\n",
    "# for class_n in range(15):\n",
    "#    print(f\"Class {class_n}:\")\n",
    "#    print(\"Best accuracy:\", best_hyperparams[class_n]['accuracy'])\n",
    "#    print(\"Best eps:\", best_hyperparams[class_n]['eps'])\n",
    "#    print(\"Best min_samples:\", best_hyperparams[class_n]['min_samples'])\n",
    "#    print()"
   ]
  },
  {
   "cell_type": "code",
   "execution_count": 34,
   "metadata": {},
   "outputs": [
    {
     "data": {
      "text/plain": [
       "{0: {'accuracy': 1.0, 'eps': 4, 'min_samples': 7},\n",
       " 1: {'accuracy': 1.0, 'eps': 3.5, 'min_samples': 7},\n",
       " 2: {'accuracy': 1.0, 'eps': 3, 'min_samples': 7},\n",
       " 3: {'accuracy': 0.9333333333333333, 'eps': 4, 'min_samples': 7},\n",
       " 4: {'accuracy': 1.0, 'eps': 4, 'min_samples': 5},\n",
       " 5: {'accuracy': 1.0, 'eps': 3.5, 'min_samples': 7},\n",
       " 6: {'accuracy': 1.0, 'eps': 4, 'min_samples': 7},\n",
       " 7: {'accuracy': 1.0, 'eps': 3.5, 'min_samples': 5},\n",
       " 8: {'accuracy': 1.0, 'eps': 3.5, 'min_samples': 7},\n",
       " 9: {'accuracy': 1.0, 'eps': 3, 'min_samples': 5},\n",
       " 10: {'accuracy': 0.5294117647058824, 'eps': 4, 'min_samples': 3},\n",
       " 11: {'accuracy': 1.0, 'eps': 3.5, 'min_samples': 7},\n",
       " 12: {'accuracy': 0.3888888888888889, 'eps': 4, 'min_samples': 3},\n",
       " 13: {'accuracy': 1.0, 'eps': 3, 'min_samples': 7},\n",
       " 14: {'accuracy': 1.0, 'eps': 4, 'min_samples': 7}}"
      ]
     },
     "execution_count": 34,
     "metadata": {},
     "output_type": "execute_result"
    }
   ],
   "source": [
    "best_hyperparams"
   ]
  },
  {
   "cell_type": "code",
   "execution_count": 35,
   "metadata": {},
   "outputs": [],
   "source": [
    "pure_train_data = pd.DataFrame(columns=train_data.columns)  # DataFrame to store pure train data\n",
    "\n",
    "for class_label in train_data['Class'].unique():\n",
    "    # Filter data for the current class\n",
    "    class_data = train_data[train_data['Class'] == class_label]\n",
    "\n",
    "    # Extract features and apply DBSCAN\n",
    "    class_data_features = class_data.drop(columns=['Class', 'Corrupted'])\n",
    "    class_data_features = StandardScaler().fit_transform(class_data_features)\n",
    "\n",
    "    best_eps_for_class = best_hyperparams[class_label]['eps']\n",
    "    best_min_samples_for_class = best_hyperparams[class_label]['min_samples']\n",
    "\n",
    "\n",
    "    dbscan = DBSCAN(eps=best_eps_for_class, min_samples=best_min_samples_for_class)\n",
    "    clusters = dbscan.fit_predict(class_data_features)\n",
    "    labels = dbscan.labels_\n",
    "\n",
    "    # Remove noise points\n",
    "    class_data_filtered = class_data[labels != -1]\n",
    "\n",
    "    # Add the filtered data to the pure train data\n",
    "    pure_train_data = pd.concat([pure_train_data, class_data_filtered])\n",
    "\n",
    "# Reset index of the pure train data\n",
    "pure_train_data.reset_index(drop=True, inplace=True)\n",
    "\n",
    "pure_train_data['Class'] = pd.to_numeric(pure_train_data['Class'])\n",
    "\n",
    "train_data_clustering = pure_train_data\n"
   ]
  },
  {
   "cell_type": "code",
   "execution_count": 36,
   "metadata": {},
   "outputs": [
    {
     "name": "stdout",
     "output_type": "stream",
     "text": [
      "F1 Score (weighted): 92.04%\n"
     ]
    }
   ],
   "source": [
    "run_classification_544(train_data_clustering, test_data, label='Class')"
   ]
  },
  {
   "cell_type": "markdown",
   "metadata": {},
   "source": [
    "### Step 6 - Review"
   ]
  },
  {
   "cell_type": "markdown",
   "metadata": {},
   "source": [
    "#### Q6.1 (5 points)\n",
    "In this situation we knew that there was no noise in the test dataset - if we didn't know that - is there anything we would have done better? Explain?"
   ]
  },
  {
   "cell_type": "markdown",
   "metadata": {},
   "source": [
    "**Answer:** If there was potential noise in the test dataset, it would be prudent to focus on noise detection and removal unsupervised techniques, as we did for the train dataset."
   ]
  },
  {
   "cell_type": "markdown",
   "metadata": {},
   "source": [
    "#### Q6.2 (5 points)\n",
    "If we chose to go with the unsupervised methods, what benefit could the labeling that did do help us?"
   ]
  },
  {
   "cell_type": "markdown",
   "metadata": {},
   "source": [
    "**Answer:** The pre-existing labels will enable to validate and evaluate the model performance by comparing unsupervised outcomes with known labels. These labels also helpful with interpretability of the unsupervised model's results."
   ]
  },
  {
   "cell_type": "markdown",
   "metadata": {},
   "source": [
    "### BONUS - GO WILD (10 points)\n",
    "Choose any of the methods above and do what you go to do to get a weighted f1 score above 93%"
   ]
  },
  {
   "cell_type": "markdown",
   "metadata": {},
   "source": [
    "Hyperparameter tuning for each class\n"
   ]
  },
  {
   "cell_type": "code",
   "execution_count": 37,
   "metadata": {},
   "outputs": [
    {
     "ename": "NameError",
     "evalue": "name 'best_eps_per_class' is not defined",
     "output_type": "error",
     "traceback": [
      "\u001b[1;31m---------------------------------------------------------------------------\u001b[0m",
      "\u001b[1;31mNameError\u001b[0m                                 Traceback (most recent call last)",
      "Cell \u001b[1;32mIn[37], line 53\u001b[0m\n\u001b[0;32m     51\u001b[0m \u001b[38;5;66;03m# Find the elbow point\u001b[39;00m\n\u001b[0;32m     52\u001b[0m best_eps \u001b[38;5;241m=\u001b[39m find_elbow_point(kth_distances)\n\u001b[1;32m---> 53\u001b[0m \u001b[43mbest_eps_per_class\u001b[49m[c] \u001b[38;5;241m=\u001b[39m best_eps\n\u001b[0;32m     55\u001b[0m \u001b[38;5;66;03m# Plot the results\u001b[39;00m\n\u001b[0;32m     56\u001b[0m plt\u001b[38;5;241m.\u001b[39msubplot(\u001b[38;5;241m3\u001b[39m, \u001b[38;5;241m5\u001b[39m, i)\n",
      "\u001b[1;31mNameError\u001b[0m: name 'best_eps_per_class' is not defined"
     ]
    },
    {
     "data": {
      "text/plain": [
       "<Figure size 2000x1000 with 0 Axes>"
      ]
     },
     "metadata": {},
     "output_type": "display_data"
    }
   ],
   "source": [
    "# let's use clustering per class, but tune hyperparametr for each class\n",
    "\n",
    "def find_elbow_point(distances):\n",
    "    # Find the point of maximum curvature in the k-distance graph\n",
    "    # which would be considered as the approximate 'eps' for DBSCAN\n",
    "    distances = np.sort(distances)\n",
    "    # Create an array of indices from 0 to the length of distances\n",
    "    indices = np.arange(len(distances))\n",
    "    \n",
    "    # Get the first and last points of the curve\n",
    "    first_point = np.array([indices[0], distances[0]])\n",
    "    last_point = np.array([indices[-1], distances[-1]])\n",
    "    \n",
    "    # Subtract the first point from the last point\n",
    "    line_vector = last_point - first_point\n",
    "    \n",
    "    # Normalize the line vector\n",
    "    line_vector_norm = line_vector / np.sqrt(np.sum(line_vector**2))\n",
    "    \n",
    "    # Calculate the distance from each point to the line created by the first and last points\n",
    "    distances_from_line = np.empty(indices.shape[0])\n",
    "    for i in range(indices.shape[0]):\n",
    "        point_vector = np.array([indices[i], distances[i]]) - first_point\n",
    "        distances_from_line[i] = np.linalg.norm(point_vector - np.dot(point_vector, line_vector_norm) * line_vector_norm)\n",
    "    \n",
    "    # The maximum distance to the line is where the elbow is\n",
    "    elbow_index = np.argmax(distances_from_line)\n",
    "    return distances[elbow_index]\n",
    "\n",
    "plt.figure(figsize=(20,10))\n",
    "i = 1\n",
    "\n",
    "for c in np.sort(train_data['Class'].unique()):\n",
    "    # Exclude the label and corrupted columns\n",
    "    X = train_data[train_data['Class']==c].drop(['Class', 'Corrupted'], axis=1)  \n",
    "\n",
    "    # Scaling the features\n",
    "    X_scaled = StandardScaler().fit_transform(X)  \n",
    "\n",
    "    # Fit the NearestNeighbors model\n",
    "    nearest_neighbors = NearestNeighbors(n_neighbors=5)\n",
    "    nearest_neighbors.fit(X_scaled)\n",
    "\n",
    "    # Find the k-nearest neighbors for each point (the first nearest neighbor is the point itself)\n",
    "    distances, indices = nearest_neighbors.kneighbors(X_scaled)\n",
    "\n",
    "    # Sort the distances to the k-th nearest neighbor (k-th column of the distances array)\n",
    "    kth_distances = distances[:, k-1]\n",
    "    kth_distances_sorted = np.sort(kth_distances)\n",
    "\n",
    "    # Find the elbow point\n",
    "    best_eps = find_elbow_point(kth_distances)\n",
    "    best_eps_per_class[c] = best_eps\n",
    "\n",
    "    # Plot the results\n",
    "    plt.subplot(3, 5, i)\n",
    "    plt.plot(kth_distances_sorted)\n",
    "    plt.ylabel(f'Distance to {k}-th nearest neighbor')\n",
    "    plt.title(f'For class {c}')\n",
    "    plt.grid(True)\n",
    "    i += 1\n",
    "plt.show()"
   ]
  },
  {
   "cell_type": "code",
   "execution_count": null,
   "metadata": {},
   "outputs": [
    {
     "ename": "NameError",
     "evalue": "name 'best_eps_per_class' is not defined",
     "output_type": "error",
     "traceback": [
      "\u001b[1;31m---------------------------------------------------------------------------\u001b[0m",
      "\u001b[1;31mNameError\u001b[0m                                 Traceback (most recent call last)",
      "Cell \u001b[1;32mIn[376], line 3\u001b[0m\n\u001b[0;32m      1\u001b[0m \u001b[38;5;66;03m# let's try to tune eps for each class\u001b[39;00m\n\u001b[0;32m      2\u001b[0m msp_class \u001b[38;5;241m=\u001b[39m {\u001b[38;5;241m0\u001b[39m: \u001b[38;5;241m2\u001b[39m, \u001b[38;5;241m1\u001b[39m: \u001b[38;5;241m2\u001b[39m, \u001b[38;5;241m2\u001b[39m: \u001b[38;5;241m2\u001b[39m, \u001b[38;5;241m3\u001b[39m: \u001b[38;5;241m2\u001b[39m, \u001b[38;5;241m4\u001b[39m: \u001b[38;5;241m2\u001b[39m, \u001b[38;5;241m5\u001b[39m: \u001b[38;5;241m2\u001b[39m, \u001b[38;5;241m6\u001b[39m: \u001b[38;5;241m2\u001b[39m, \u001b[38;5;241m7\u001b[39m: \u001b[38;5;241m2\u001b[39m, \u001b[38;5;241m8\u001b[39m: \u001b[38;5;241m2\u001b[39m, \u001b[38;5;241m9\u001b[39m: \u001b[38;5;241m2\u001b[39m, \u001b[38;5;241m10\u001b[39m: \u001b[38;5;241m2\u001b[39m, \u001b[38;5;241m11\u001b[39m: \u001b[38;5;241m2\u001b[39m, \u001b[38;5;241m12\u001b[39m: \u001b[38;5;241m2\u001b[39m, \u001b[38;5;241m13\u001b[39m: \u001b[38;5;241m2\u001b[39m, \u001b[38;5;241m14\u001b[39m: \u001b[38;5;241m2\u001b[39m}\n\u001b[1;32m----> 3\u001b[0m c_dict \u001b[38;5;241m=\u001b[39m \u001b[43mbest_eps_per_class\u001b[49m\n\u001b[0;32m      5\u001b[0m train_data_clustering_upd \u001b[38;5;241m=\u001b[39m \u001b[38;5;28;01mNone\u001b[39;00m\n\u001b[0;32m      7\u001b[0m \u001b[38;5;28;01mfor\u001b[39;00m c, e \u001b[38;5;129;01min\u001b[39;00m c_dict\u001b[38;5;241m.\u001b[39mitems():\n\u001b[0;32m      8\u001b[0m     \u001b[38;5;66;03m# prepare the data\u001b[39;00m\n",
      "\u001b[1;31mNameError\u001b[0m: name 'best_eps_per_class' is not defined"
     ]
    }
   ],
   "source": [
    "# let's try to tune eps for each class\n",
    "msp_class = {0: 2, 1: 2, 2: 2, 3: 2, 4: 2, 5: 2, 6: 2, 7: 2, 8: 2, 9: 2, 10: 2, 11: 2, 12: 2, 13: 2, 14: 2}\n",
    "c_dict = best_eps_per_class\n",
    "\n",
    "train_data_clustering_upd = None\n",
    "\n",
    "for c, e in c_dict.items():\n",
    "    # prepare the data\n",
    "    X_train = StandardScaler().fit_transform(train_data[train_data['Class']==c].drop(['Class', 'Corrupted'], axis=1))\n",
    "\n",
    "    model_dbs = DBSCAN(eps=e, min_samples=5) #2*X_train.shape[1])\n",
    "    model_dbs.fit(X_train)\n",
    "\n",
    "    tmp_df = train_data[train_data['Class']==c].copy()\n",
    "    tmp_df['Corrupted'] = model_dbs.labels_\n",
    "    \n",
    "    if train_data_clustering_upd is None:\n",
    "        train_data_clustering_upd = tmp_df.copy()\n",
    "    else:\n",
    "        train_data_clustering_upd = pd.concat([train_data_clustering_upd, tmp_df])\n",
    "\n",
    "train_data_clustering_upd = train_data_clustering_upd[train_data_clustering_upd['Corrupted'] != -1]"
   ]
  },
  {
   "cell_type": "code",
   "execution_count": null,
   "metadata": {},
   "outputs": [],
   "source": [
    "run_classification_544(train_data_clustering_upd, test_data, label='Class')"
   ]
  },
  {
   "cell_type": "code",
   "execution_count": 38,
   "metadata": {},
   "outputs": [
    {
     "name": "stdout",
     "output_type": "stream",
     "text": [
      "F1 score for SVM model is 0.868\n"
     ]
    }
   ],
   "source": [
    "# let's try SVM\n",
    "from sklearn.svm import SVC\n",
    "from sklearn.pipeline import Pipeline\n",
    "from sklearn.model_selection import GridSearchCV\n",
    "\n",
    "# chose only labeled data\n",
    "train_data_wl = train_data[~train_data['Corrupted'].isna()].copy()\n",
    "\n",
    "# split labeled data to train and test\n",
    "X_train, X_test, y_train, y_test = train_test_split(train_data_wl.drop('Corrupted', axis=1), \\\n",
    "    train_data_wl['Corrupted'], test_size=0.25, random_state=44)\n",
    "\n",
    "svm_pipeline_p = Pipeline([('scaler', StandardScaler()), ('svc', SVC(kernel='poly', degree=2, C=6))])\n",
    "\n",
    "svm_pipeline_p.fit(X_train, y_train)\n",
    "y_pred_svm = svm_pipeline_p.predict(X_test)\n",
    "\n",
    "print(f\"F1 score for SVM model is {f1_score(y_test, y_pred_svm, average='weighted'):.3f}\")"
   ]
  },
  {
   "cell_type": "code",
   "execution_count": 39,
   "metadata": {},
   "outputs": [],
   "source": [
    "# Retrain the classifier on all of the labeled data.\n",
    "svm_pipeline_p.fit(train_data_wl.drop('Corrupted', axis=1), train_data_wl['Corrupted'])\n",
    "\n",
    "# Run it on the unlabeled data.\n",
    "train_data_ul = train_data[train_data['Corrupted'].isna()].copy()\n",
    "\n",
    "# predict labels\n",
    "train_data_ul['Corrupted'] = svm_pipeline_p.predict(train_data_ul.drop('Corrupted', axis=1))\n",
    "\n",
    "# create df with labels\n",
    "train_data_supervised_svm = pd.concat([train_data_wl, train_data_ul])\n",
    "\n",
    "# filter out corrupted data\n",
    "train_data_supervised_svm = train_data_supervised_svm[train_data_supervised_svm['Corrupted'] != 1]"
   ]
  },
  {
   "cell_type": "code",
   "execution_count": 40,
   "metadata": {},
   "outputs": [
    {
     "name": "stdout",
     "output_type": "stream",
     "text": [
      "F1 Score (weighted): 75.07%\n"
     ]
    }
   ],
   "source": [
    "run_classification_544(train_data_supervised_svm, test_data, label='Class')"
   ]
  },
  {
   "cell_type": "code",
   "execution_count": 41,
   "metadata": {},
   "outputs": [
    {
     "name": "stdout",
     "output_type": "stream",
     "text": [
      "n_estimators = 4, max_depth = 3\n",
      "F1 Score (weighted): 75.0%\n",
      "n_estimators = 4, max_depth = 4\n",
      "F1 Score (weighted): 66.15%\n",
      "n_estimators = 5, max_depth = 3\n",
      "F1 Score (weighted): 76.42%\n",
      "n_estimators = 5, max_depth = 4\n",
      "F1 Score (weighted): 81.04%\n",
      "n_estimators = 6, max_depth = 3\n",
      "F1 Score (weighted): 91.82%\n",
      "n_estimators = 6, max_depth = 4\n",
      "F1 Score (weighted): 72.99%\n"
     ]
    }
   ],
   "source": [
    "def RF_on_labeled(n_estimators=7, max_depth=5):\n",
    "    # set of unlabeled data (where 'Corrupted' == NaN) for prediction\n",
    "    unlabeled_train_data = train_data[train_data['Corrupted'].isna()].drop('Corrupted', axis=1)\n",
    "\n",
    "    model = RandomForestClassifier(random_state=44, n_estimators=n_estimators, max_depth=max_depth)\n",
    "\n",
    "    # Retrain the classifier on all of the labeled data.\n",
    "    model.fit(X_labeled, y_labeled)\n",
    "\n",
    "    # Run it on the unlabeled data.\n",
    "    unlabeled_train_data['Corrupted'] = model.predict(unlabeled_train_data)\n",
    "\n",
    "    # form new train set\n",
    "    train_data_supervised = pd.concat([labeled_train_data, unlabeled_train_data])\n",
    "    train_data_supervised = train_data_supervised[train_data_supervised['Corrupted'] == 0]\n",
    "\n",
    "    print(f'n_estimators = {n_estimators}, max_depth = {max_depth}')\n",
    "    run_classification_544(train_data_supervised, test_data, label='Class')\n",
    "\n",
    "n_estimators = range(4,7)\n",
    "max_depth = range(3,5)\n",
    "\n",
    "for n in n_estimators:\n",
    "    for m in max_depth:\n",
    "        RF_on_labeled(n, m)    "
   ]
  },
  {
   "cell_type": "code",
   "execution_count": 42,
   "metadata": {},
   "outputs": [],
   "source": [
    "pca = PCA(11)\n",
    "\n",
    "X_train = train_data.drop(['Class','Corrupted'] , axis=1)\n",
    "y_train = train_data['Class']\n",
    "X_test = test_data.drop('Class' , axis=1)\n",
    "y_test = test_data['Class']\n",
    "\n",
    "scaler = StandardScaler(with_mean=True,with_std=True)\n",
    "scaler.fit(X_train)\n",
    "X_train_sc = scaler.transform(X_train)\n",
    "X_test_sc = scaler.transform(X_test)\n",
    "\n",
    "pca.fit(X_train_sc)\n",
    "X_train_pca = pca.transform(X_train_sc)\n",
    "X_test_pca = pca.transform(X_test_sc)\n",
    "\n",
    "train_pca = pd.DataFrame(X_train_pca) \n",
    "train_pca['Class'] = y_train\n",
    "train_pca['Corrupted'] = train_data['Corrupted']\n",
    "test_pca = pd.DataFrame(X_test_pca) \n",
    "test_pca['Class'] = y_test\n",
    "\n"
   ]
  },
  {
   "cell_type": "code",
   "execution_count": 43,
   "metadata": {},
   "outputs": [
    {
     "data": {
      "text/plain": [
       "{0: {'accuracy': 0.226890756302521, 'eps': 3, 'min_samples': 4},\n",
       " 1: {'accuracy': 0.2761904761904762, 'eps': 3, 'min_samples': 3},\n",
       " 2: {'accuracy': 0.22321428571428573, 'eps': 3, 'min_samples': 3},\n",
       " 3: {'accuracy': 0.2636363636363636, 'eps': 3, 'min_samples': 4},\n",
       " 4: {'accuracy': 0.1836734693877551, 'eps': 3, 'min_samples': 3},\n",
       " 5: {'accuracy': 0.22340425531914893, 'eps': 3, 'min_samples': 3},\n",
       " 6: {'accuracy': 0.3373493975903614, 'eps': 3, 'min_samples': 3},\n",
       " 7: {'accuracy': 0.21428571428571427, 'eps': 3, 'min_samples': 3},\n",
       " 8: {'accuracy': 0.21774193548387097, 'eps': 3, 'min_samples': 3},\n",
       " 9: {'accuracy': 0.2786885245901639, 'eps': 3, 'min_samples': 3},\n",
       " 10: {'accuracy': 0.21621621621621623, 'eps': 3, 'min_samples': 3},\n",
       " 11: {'accuracy': 0.19642857142857142, 'eps': 3, 'min_samples': 3},\n",
       " 12: {'accuracy': 0.19148936170212766, 'eps': 3, 'min_samples': 3},\n",
       " 13: {'accuracy': 0.2169811320754717, 'eps': 3, 'min_samples': 4},\n",
       " 14: {'accuracy': 0.23255813953488372, 'eps': 3, 'min_samples': 5}}"
      ]
     },
     "execution_count": 43,
     "metadata": {},
     "output_type": "execute_result"
    }
   ],
   "source": [
    "def find_hyperparams(eps_values, min_samples_values):\n",
    "    best_hyperparams = {}\n",
    "    for class_n in range(15):\n",
    "        max_acc = 0\n",
    "        best_eps = None\n",
    "        best_min_samples = None\n",
    "\n",
    "        for eps in eps_values:\n",
    "            for min_samples in min_samples_values:\n",
    "                class_data = train_pca[train_pca['Class'] == class_n]\n",
    "                class_data_params = class_data.drop(columns=['Class', 'Corrupted'])\n",
    "\n",
    "                dbscan = DBSCAN(eps=eps, min_samples=min_samples)\n",
    "                clusters = dbscan.fit_predict(class_data_params)\n",
    "\n",
    "                labels = np.where(clusters == -1, 1, clusters)\n",
    "                corrupted_values = class_data['Corrupted'].values\n",
    "\n",
    "                accuracy = np.mean(labels == corrupted_values)\n",
    "\n",
    "                if accuracy > max_acc:\n",
    "                    max_acc = accuracy\n",
    "                    best_eps = eps\n",
    "                    best_min_samples = min_samples\n",
    "\n",
    "        best_hyperparams[class_n] = {'accuracy': max_acc, 'eps': best_eps, 'min_samples': best_min_samples}\n",
    "\n",
    "    return best_hyperparams\n",
    "\n",
    "\n",
    "eps_values = [3,4,5,6,7,8,9]\n",
    "min_samples_values = [3,4,5,]\n",
    "\n",
    "# Call the function to find the best hyperparameters\n",
    "best_hyperparams = find_hyperparams(eps_values, min_samples_values)\n",
    "best_hyperparams"
   ]
  },
  {
   "cell_type": "code",
   "execution_count": 44,
   "metadata": {},
   "outputs": [],
   "source": [
    "pure_train_data = pd.DataFrame()  # DataFrame to store pure train data\n",
    "\n",
    "for class_label in train_pca['Class'].unique():\n",
    "    # Filter data for the current class\n",
    "    class_data = train_pca[train_pca['Class'] == class_label]\n",
    "\n",
    "    # Extract features and apply DBSCAN\n",
    "    class_data_features = class_data.drop(columns=['Class', 'Corrupted'])\n",
    "\n",
    "    best_eps_for_class = best_hyperparams[class_label]['eps']\n",
    "    best_min_samples_for_class = best_hyperparams[class_label]['min_samples']\n",
    "\n",
    "\n",
    "    dbscan = DBSCAN(eps=best_eps_for_class, min_samples=best_min_samples_for_class)\n",
    "    clusters = dbscan.fit_predict(class_data_features)\n",
    "    labels = dbscan.labels_\n",
    "\n",
    "    # Remove noise points\n",
    "    class_data_filtered = class_data[labels != -1]\n",
    "\n",
    "    # Add the filtered data to the pure train data\n",
    "    pure_train_data = pd.concat([pure_train_data, class_data_filtered])\n",
    "\n",
    "# Reset index of the pure train data\n",
    "pure_train_data.reset_index(drop=True, inplace=True)\n",
    "\n",
    "pure_train_data['Class'] = pd.to_numeric(pure_train_data['Class'])\n",
    "\n",
    "train_data_clustering = pure_train_data\n",
    "\n"
   ]
  },
  {
   "cell_type": "code",
   "execution_count": 45,
   "metadata": {},
   "outputs": [
    {
     "name": "stdout",
     "output_type": "stream",
     "text": [
      "F1 Score (weighted): 77.03%\n"
     ]
    }
   ],
   "source": [
    "run_classification_544(train_data_clustering, test_pca, label='Class')"
   ]
  },
  {
   "cell_type": "code",
   "execution_count": null,
   "metadata": {},
   "outputs": [],
   "source": []
  },
  {
   "cell_type": "code",
   "execution_count": null,
   "metadata": {},
   "outputs": [],
   "source": []
  }
 ],
 "metadata": {
  "kernelspec": {
   "display_name": "venv_dt",
   "language": "python",
   "name": "python3"
  },
  "language_info": {
   "codemirror_mode": {
    "name": "ipython",
    "version": 3
   },
   "file_extension": ".py",
   "mimetype": "text/x-python",
   "name": "python",
   "nbconvert_exporter": "python",
   "pygments_lexer": "ipython3",
   "version": "3.12.1"
  }
 },
 "nbformat": 4,
 "nbformat_minor": 2
}
